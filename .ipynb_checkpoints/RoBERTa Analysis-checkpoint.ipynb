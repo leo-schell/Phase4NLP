{
 "cells": [
  {
   "cell_type": "code",
   "execution_count": 1,
   "id": "28dbd624",
   "metadata": {},
   "outputs": [],
   "source": [
    "import pandas as pd\n",
    "import matplotlib.pyplot as plt\n",
    "%matplotlib inline"
   ]
  },
  {
   "cell_type": "code",
   "execution_count": 2,
   "id": "32e325e1",
   "metadata": {},
   "outputs": [
    {
     "data": {
      "text/html": [
       "<div>\n",
       "<style scoped>\n",
       "    .dataframe tbody tr th:only-of-type {\n",
       "        vertical-align: middle;\n",
       "    }\n",
       "\n",
       "    .dataframe tbody tr th {\n",
       "        vertical-align: top;\n",
       "    }\n",
       "\n",
       "    .dataframe thead th {\n",
       "        text-align: right;\n",
       "    }\n",
       "</style>\n",
       "<table border=\"1\" class=\"dataframe\">\n",
       "  <thead>\n",
       "    <tr style=\"text-align: right;\">\n",
       "      <th></th>\n",
       "      <th>Unnamed: 0</th>\n",
       "      <th>tweet</th>\n",
       "      <th>directed</th>\n",
       "      <th>emotion</th>\n",
       "      <th>clean_tweet</th>\n",
       "      <th>score</th>\n",
       "    </tr>\n",
       "  </thead>\n",
       "  <tbody>\n",
       "    <tr>\n",
       "      <th>0</th>\n",
       "      <td>0</td>\n",
       "      <td>.@wesley83 I have a 3G iPhone. After 3 hrs twe...</td>\n",
       "      <td>iPhone</td>\n",
       "      <td>Negative emotion</td>\n",
       "      <td>@user I have a 3G iPhone. After 3 hrs tweeting...</td>\n",
       "      <td>0</td>\n",
       "    </tr>\n",
       "    <tr>\n",
       "      <th>1</th>\n",
       "      <td>1</td>\n",
       "      <td>@jessedee Know about @fludapp ? Awesome iPad/i...</td>\n",
       "      <td>iPad or iPhone App</td>\n",
       "      <td>Positive emotion</td>\n",
       "      <td>@user Know about @user ? Awesome iPad/iPhone a...</td>\n",
       "      <td>2</td>\n",
       "    </tr>\n",
       "    <tr>\n",
       "      <th>2</th>\n",
       "      <td>2</td>\n",
       "      <td>@swonderlin Can not wait for #iPad 2 also. The...</td>\n",
       "      <td>iPad</td>\n",
       "      <td>Positive emotion</td>\n",
       "      <td>@user Can not wait for #iPad 2 also. They shou...</td>\n",
       "      <td>2</td>\n",
       "    </tr>\n",
       "    <tr>\n",
       "      <th>3</th>\n",
       "      <td>3</td>\n",
       "      <td>@sxsw I hope this year's festival isn't as cra...</td>\n",
       "      <td>iPad or iPhone App</td>\n",
       "      <td>Negative emotion</td>\n",
       "      <td>@user I hope this year's festival isn't as cra...</td>\n",
       "      <td>1</td>\n",
       "    </tr>\n",
       "    <tr>\n",
       "      <th>4</th>\n",
       "      <td>4</td>\n",
       "      <td>@sxtxstate great stuff on Fri #SXSW: Marissa M...</td>\n",
       "      <td>Google</td>\n",
       "      <td>Positive emotion</td>\n",
       "      <td>@user great stuff on Fri #SXSW: Marissa Mayer ...</td>\n",
       "      <td>2</td>\n",
       "    </tr>\n",
       "  </tbody>\n",
       "</table>\n",
       "</div>"
      ],
      "text/plain": [
       "   Unnamed: 0                                              tweet  \\\n",
       "0           0  .@wesley83 I have a 3G iPhone. After 3 hrs twe...   \n",
       "1           1  @jessedee Know about @fludapp ? Awesome iPad/i...   \n",
       "2           2  @swonderlin Can not wait for #iPad 2 also. The...   \n",
       "3           3  @sxsw I hope this year's festival isn't as cra...   \n",
       "4           4  @sxtxstate great stuff on Fri #SXSW: Marissa M...   \n",
       "\n",
       "             directed           emotion  \\\n",
       "0              iPhone  Negative emotion   \n",
       "1  iPad or iPhone App  Positive emotion   \n",
       "2                iPad  Positive emotion   \n",
       "3  iPad or iPhone App  Negative emotion   \n",
       "4              Google  Positive emotion   \n",
       "\n",
       "                                         clean_tweet  score  \n",
       "0  @user I have a 3G iPhone. After 3 hrs tweeting...      0  \n",
       "1  @user Know about @user ? Awesome iPad/iPhone a...      2  \n",
       "2  @user Can not wait for #iPad 2 also. They shou...      2  \n",
       "3  @user I hope this year's festival isn't as cra...      1  \n",
       "4  @user great stuff on Fri #SXSW: Marissa Mayer ...      2  "
      ]
     },
     "execution_count": 2,
     "metadata": {},
     "output_type": "execute_result"
    }
   ],
   "source": [
    "#import roBERTa cleaned and scored csv\n",
    "df = pd.read_csv('data/roberta.csv')\n",
    "df.head()"
   ]
  },
  {
   "cell_type": "code",
   "execution_count": 3,
   "id": "ebdf6dea",
   "metadata": {},
   "outputs": [
    {
     "data": {
      "text/html": [
       "<div>\n",
       "<style scoped>\n",
       "    .dataframe tbody tr th:only-of-type {\n",
       "        vertical-align: middle;\n",
       "    }\n",
       "\n",
       "    .dataframe tbody tr th {\n",
       "        vertical-align: top;\n",
       "    }\n",
       "\n",
       "    .dataframe thead th {\n",
       "        text-align: right;\n",
       "    }\n",
       "</style>\n",
       "<table border=\"1\" class=\"dataframe\">\n",
       "  <thead>\n",
       "    <tr style=\"text-align: right;\">\n",
       "      <th></th>\n",
       "      <th>directed</th>\n",
       "      <th>emotion</th>\n",
       "      <th>clean_tweet</th>\n",
       "      <th>score</th>\n",
       "    </tr>\n",
       "  </thead>\n",
       "  <tbody>\n",
       "    <tr>\n",
       "      <th>0</th>\n",
       "      <td>iPhone</td>\n",
       "      <td>Negative emotion</td>\n",
       "      <td>@user I have a 3G iPhone. After 3 hrs tweeting...</td>\n",
       "      <td>0</td>\n",
       "    </tr>\n",
       "    <tr>\n",
       "      <th>1</th>\n",
       "      <td>iPad or iPhone App</td>\n",
       "      <td>Positive emotion</td>\n",
       "      <td>@user Know about @user ? Awesome iPad/iPhone a...</td>\n",
       "      <td>2</td>\n",
       "    </tr>\n",
       "    <tr>\n",
       "      <th>2</th>\n",
       "      <td>iPad</td>\n",
       "      <td>Positive emotion</td>\n",
       "      <td>@user Can not wait for #iPad 2 also. They shou...</td>\n",
       "      <td>2</td>\n",
       "    </tr>\n",
       "    <tr>\n",
       "      <th>3</th>\n",
       "      <td>iPad or iPhone App</td>\n",
       "      <td>Negative emotion</td>\n",
       "      <td>@user I hope this year's festival isn't as cra...</td>\n",
       "      <td>1</td>\n",
       "    </tr>\n",
       "    <tr>\n",
       "      <th>4</th>\n",
       "      <td>Google</td>\n",
       "      <td>Positive emotion</td>\n",
       "      <td>@user great stuff on Fri #SXSW: Marissa Mayer ...</td>\n",
       "      <td>2</td>\n",
       "    </tr>\n",
       "  </tbody>\n",
       "</table>\n",
       "</div>"
      ],
      "text/plain": [
       "             directed           emotion  \\\n",
       "0              iPhone  Negative emotion   \n",
       "1  iPad or iPhone App  Positive emotion   \n",
       "2                iPad  Positive emotion   \n",
       "3  iPad or iPhone App  Negative emotion   \n",
       "4              Google  Positive emotion   \n",
       "\n",
       "                                         clean_tweet  score  \n",
       "0  @user I have a 3G iPhone. After 3 hrs tweeting...      0  \n",
       "1  @user Know about @user ? Awesome iPad/iPhone a...      2  \n",
       "2  @user Can not wait for #iPad 2 also. They shou...      2  \n",
       "3  @user I hope this year's festival isn't as cra...      1  \n",
       "4  @user great stuff on Fri #SXSW: Marissa Mayer ...      2  "
      ]
     },
     "execution_count": 3,
     "metadata": {},
     "output_type": "execute_result"
    }
   ],
   "source": [
    "df = df.drop(['Unnamed: 0', 'tweet'], axis =1)\n",
    "df.head()"
   ]
  },
  {
   "cell_type": "code",
   "execution_count": 4,
   "id": "05fab4ce",
   "metadata": {},
   "outputs": [
    {
     "data": {
      "text/html": [
       "<div>\n",
       "<style scoped>\n",
       "    .dataframe tbody tr th:only-of-type {\n",
       "        vertical-align: middle;\n",
       "    }\n",
       "\n",
       "    .dataframe tbody tr th {\n",
       "        vertical-align: top;\n",
       "    }\n",
       "\n",
       "    .dataframe thead th {\n",
       "        text-align: right;\n",
       "    }\n",
       "</style>\n",
       "<table border=\"1\" class=\"dataframe\">\n",
       "  <thead>\n",
       "    <tr style=\"text-align: right;\">\n",
       "      <th></th>\n",
       "      <th>clean_tweet</th>\n",
       "      <th>directed</th>\n",
       "      <th>emotion</th>\n",
       "      <th>score</th>\n",
       "    </tr>\n",
       "  </thead>\n",
       "  <tbody>\n",
       "    <tr>\n",
       "      <th>0</th>\n",
       "      <td>@user I have a 3G iPhone. After 3 hrs tweeting...</td>\n",
       "      <td>iPhone</td>\n",
       "      <td>Negative emotion</td>\n",
       "      <td>0</td>\n",
       "    </tr>\n",
       "    <tr>\n",
       "      <th>1</th>\n",
       "      <td>@user Know about @user ? Awesome iPad/iPhone a...</td>\n",
       "      <td>iPad or iPhone App</td>\n",
       "      <td>Positive emotion</td>\n",
       "      <td>2</td>\n",
       "    </tr>\n",
       "    <tr>\n",
       "      <th>2</th>\n",
       "      <td>@user Can not wait for #iPad 2 also. They shou...</td>\n",
       "      <td>iPad</td>\n",
       "      <td>Positive emotion</td>\n",
       "      <td>2</td>\n",
       "    </tr>\n",
       "    <tr>\n",
       "      <th>3</th>\n",
       "      <td>@user I hope this year's festival isn't as cra...</td>\n",
       "      <td>iPad or iPhone App</td>\n",
       "      <td>Negative emotion</td>\n",
       "      <td>1</td>\n",
       "    </tr>\n",
       "    <tr>\n",
       "      <th>4</th>\n",
       "      <td>@user great stuff on Fri #SXSW: Marissa Mayer ...</td>\n",
       "      <td>Google</td>\n",
       "      <td>Positive emotion</td>\n",
       "      <td>2</td>\n",
       "    </tr>\n",
       "  </tbody>\n",
       "</table>\n",
       "</div>"
      ],
      "text/plain": [
       "                                         clean_tweet            directed  \\\n",
       "0  @user I have a 3G iPhone. After 3 hrs tweeting...              iPhone   \n",
       "1  @user Know about @user ? Awesome iPad/iPhone a...  iPad or iPhone App   \n",
       "2  @user Can not wait for #iPad 2 also. They shou...                iPad   \n",
       "3  @user I hope this year's festival isn't as cra...  iPad or iPhone App   \n",
       "4  @user great stuff on Fri #SXSW: Marissa Mayer ...              Google   \n",
       "\n",
       "            emotion  score  \n",
       "0  Negative emotion      0  \n",
       "1  Positive emotion      2  \n",
       "2  Positive emotion      2  \n",
       "3  Negative emotion      1  \n",
       "4  Positive emotion      2  "
      ]
     },
     "execution_count": 4,
     "metadata": {},
     "output_type": "execute_result"
    }
   ],
   "source": [
    "df = df[['clean_tweet', 'directed', 'emotion', 'score']]\n",
    "df.head()"
   ]
  },
  {
   "cell_type": "code",
   "execution_count": 5,
   "id": "4a02a868",
   "metadata": {},
   "outputs": [
    {
     "name": "stderr",
     "output_type": "stream",
     "text": [
      "/var/folders/xc/4fn08svj2dgdk_3wj3xkp_rr0000gn/T/ipykernel_6166/1053337820.py:1: FutureWarning: DataFrame.set_axis 'inplace' keyword is deprecated and will be removed in a future version. Use `obj = obj.set_axis(..., copy=False)` instead\n",
      "  df.set_axis(['tweet', 'directed', 'emotion', 'roberta_score'], axis=1, inplace=True)\n"
     ]
    },
    {
     "data": {
      "text/html": [
       "<div>\n",
       "<style scoped>\n",
       "    .dataframe tbody tr th:only-of-type {\n",
       "        vertical-align: middle;\n",
       "    }\n",
       "\n",
       "    .dataframe tbody tr th {\n",
       "        vertical-align: top;\n",
       "    }\n",
       "\n",
       "    .dataframe thead th {\n",
       "        text-align: right;\n",
       "    }\n",
       "</style>\n",
       "<table border=\"1\" class=\"dataframe\">\n",
       "  <thead>\n",
       "    <tr style=\"text-align: right;\">\n",
       "      <th></th>\n",
       "      <th>tweet</th>\n",
       "      <th>directed</th>\n",
       "      <th>emotion</th>\n",
       "      <th>roberta_score</th>\n",
       "    </tr>\n",
       "  </thead>\n",
       "  <tbody>\n",
       "    <tr>\n",
       "      <th>0</th>\n",
       "      <td>@user I have a 3G iPhone. After 3 hrs tweeting...</td>\n",
       "      <td>iPhone</td>\n",
       "      <td>Negative emotion</td>\n",
       "      <td>0</td>\n",
       "    </tr>\n",
       "    <tr>\n",
       "      <th>1</th>\n",
       "      <td>@user Know about @user ? Awesome iPad/iPhone a...</td>\n",
       "      <td>iPad or iPhone App</td>\n",
       "      <td>Positive emotion</td>\n",
       "      <td>2</td>\n",
       "    </tr>\n",
       "    <tr>\n",
       "      <th>2</th>\n",
       "      <td>@user Can not wait for #iPad 2 also. They shou...</td>\n",
       "      <td>iPad</td>\n",
       "      <td>Positive emotion</td>\n",
       "      <td>2</td>\n",
       "    </tr>\n",
       "    <tr>\n",
       "      <th>3</th>\n",
       "      <td>@user I hope this year's festival isn't as cra...</td>\n",
       "      <td>iPad or iPhone App</td>\n",
       "      <td>Negative emotion</td>\n",
       "      <td>1</td>\n",
       "    </tr>\n",
       "    <tr>\n",
       "      <th>4</th>\n",
       "      <td>@user great stuff on Fri #SXSW: Marissa Mayer ...</td>\n",
       "      <td>Google</td>\n",
       "      <td>Positive emotion</td>\n",
       "      <td>2</td>\n",
       "    </tr>\n",
       "  </tbody>\n",
       "</table>\n",
       "</div>"
      ],
      "text/plain": [
       "                                               tweet            directed  \\\n",
       "0  @user I have a 3G iPhone. After 3 hrs tweeting...              iPhone   \n",
       "1  @user Know about @user ? Awesome iPad/iPhone a...  iPad or iPhone App   \n",
       "2  @user Can not wait for #iPad 2 also. They shou...                iPad   \n",
       "3  @user I hope this year's festival isn't as cra...  iPad or iPhone App   \n",
       "4  @user great stuff on Fri #SXSW: Marissa Mayer ...              Google   \n",
       "\n",
       "            emotion  roberta_score  \n",
       "0  Negative emotion              0  \n",
       "1  Positive emotion              2  \n",
       "2  Positive emotion              2  \n",
       "3  Negative emotion              1  \n",
       "4  Positive emotion              2  "
      ]
     },
     "execution_count": 5,
     "metadata": {},
     "output_type": "execute_result"
    }
   ],
   "source": [
    "df.set_axis(['tweet', 'directed', 'emotion', 'roberta_score'], axis=1, inplace=True)\n",
    "df.head()"
   ]
  },
  {
   "cell_type": "code",
   "execution_count": 6,
   "id": "ee48fabe",
   "metadata": {},
   "outputs": [
    {
     "data": {
      "text/plain": [
       "(9093, 4)"
      ]
     },
     "execution_count": 6,
     "metadata": {},
     "output_type": "execute_result"
    }
   ],
   "source": [
    "df.shape"
   ]
  },
  {
   "cell_type": "code",
   "execution_count": 7,
   "id": "1b56a359",
   "metadata": {},
   "outputs": [],
   "source": [
    "#Drop one missing tweet\n",
    "df.dropna(subset='tweet', axis=0, inplace=True)"
   ]
  },
  {
   "cell_type": "markdown",
   "id": "50762626",
   "metadata": {},
   "source": [
    "## Directed Column Cleaning"
   ]
  },
  {
   "cell_type": "code",
   "execution_count": 8,
   "id": "9f1f4acc",
   "metadata": {},
   "outputs": [],
   "source": [
    "#Drop non-apple values in Directed to column\n",
    "#Come back to this to make cleaner later??\n",
    "\n",
    "df = df[(df['directed'] != 'Android App') & (df['directed'] != 'Android') & (df['directed'] != 'Google') & (df['directed'] != 'Other Google product or service')]"
   ]
  },
  {
   "cell_type": "code",
   "execution_count": 9,
   "id": "e54e64a9",
   "metadata": {},
   "outputs": [],
   "source": [
    "#impute directed\n",
    "\n",
    "d_nan = df[(df['directed'].isna())]\n",
    "\n",
    "\n",
    "for index, row in d_nan.iterrows():\n",
    "    if 'apple' in str(row['tweet']):\n",
    "        d_nan.at[index, 'directed'] = 'Apple'\n",
    "    elif 'iphone' in str(row['tweet']):\n",
    "        d_nan.at[index, 'directed'] = 'iPhone'\n",
    "    elif 'ipad' in str(row['tweet']):\n",
    "        d_nan.at[index, 'directed'] = 'iPad'\n",
    "    elif 'steve jobs' in str(row['tweet']):\n",
    "        d_nan.at[index, 'directed'] = 'Apple'\n",
    "    elif 'stevejobs' in str(row['tweet']):\n",
    "        d_nan.at[index, 'directed'] = 'Apple'\n",
    "    else:\n",
    "        pass"
   ]
  },
  {
   "cell_type": "code",
   "execution_count": 10,
   "id": "c2ef6c9b",
   "metadata": {},
   "outputs": [
    {
     "data": {
      "text/plain": [
       "Apple     222\n",
       "iPad      201\n",
       "iPhone    119\n",
       "Name: directed, dtype: int64"
      ]
     },
     "execution_count": 10,
     "metadata": {},
     "output_type": "execute_result"
    }
   ],
   "source": [
    "d_nan['directed'].value_counts()"
   ]
  },
  {
   "cell_type": "code",
   "execution_count": 11,
   "id": "2ec9a2c5",
   "metadata": {},
   "outputs": [
    {
     "name": "stdout",
     "output_type": "stream",
     "text": [
      "<class 'pandas.core.frame.DataFrame'>\n",
      "Int64Index: 2951 entries, 43 to 9088\n",
      "Data columns (total 4 columns):\n",
      " #   Column         Non-Null Count  Dtype \n",
      "---  ------         --------------  ----- \n",
      " 0   tweet          2951 non-null   object\n",
      " 1   directed       2951 non-null   object\n",
      " 2   emotion        2951 non-null   object\n",
      " 3   roberta_score  2951 non-null   int64 \n",
      "dtypes: int64(1), object(3)\n",
      "memory usage: 115.3+ KB\n"
     ]
    }
   ],
   "source": [
    "#Dropping Nulls from the original dataframe\n",
    "dfdrop = df.dropna(subset='directed', axis=0)\n",
    "\n",
    "#Concat original dataframe with imputed dataframe\n",
    "df_join = pd.concat([d_nan, dfdrop])\n",
    "\n",
    "#Drop leftover missing values and rename to original dataframe name - 'df'\n",
    "df = df_join.dropna(axis=0)\n",
    "df.info()"
   ]
  },
  {
   "cell_type": "markdown",
   "id": "df18603a",
   "metadata": {},
   "source": [
    "## Emotion column cleaning"
   ]
  },
  {
   "cell_type": "code",
   "execution_count": 12,
   "id": "c64aa9c5",
   "metadata": {},
   "outputs": [
    {
     "name": "stderr",
     "output_type": "stream",
     "text": [
      "/var/folders/xc/4fn08svj2dgdk_3wj3xkp_rr0000gn/T/ipykernel_6166/1866433733.py:2: SettingWithCopyWarning: \n",
      "A value is trying to be set on a copy of a slice from a DataFrame.\n",
      "Try using .loc[row_indexer,col_indexer] = value instead\n",
      "\n",
      "See the caveats in the documentation: https://pandas.pydata.org/pandas-docs/stable/user_guide/indexing.html#returning-a-view-versus-a-copy\n",
      "  df['emotion'] = df['emotion'].map(emo_dict)\n"
     ]
    },
    {
     "data": {
      "text/html": [
       "<div>\n",
       "<style scoped>\n",
       "    .dataframe tbody tr th:only-of-type {\n",
       "        vertical-align: middle;\n",
       "    }\n",
       "\n",
       "    .dataframe tbody tr th {\n",
       "        vertical-align: top;\n",
       "    }\n",
       "\n",
       "    .dataframe thead th {\n",
       "        text-align: right;\n",
       "    }\n",
       "</style>\n",
       "<table border=\"1\" class=\"dataframe\">\n",
       "  <thead>\n",
       "    <tr style=\"text-align: right;\">\n",
       "      <th></th>\n",
       "      <th>tweet</th>\n",
       "      <th>directed</th>\n",
       "      <th>emotion</th>\n",
       "      <th>roberta_score</th>\n",
       "    </tr>\n",
       "  </thead>\n",
       "  <tbody>\n",
       "    <tr>\n",
       "      <th>43</th>\n",
       "      <td>Mashable! - The iPad 2 Takes Over SXSW [VIDEO]...</td>\n",
       "      <td>iPad</td>\n",
       "      <td>1.0</td>\n",
       "      <td>1</td>\n",
       "    </tr>\n",
       "    <tr>\n",
       "      <th>58</th>\n",
       "      <td>{link} RT @user Those at #SXSW check out the H...</td>\n",
       "      <td>iPad</td>\n",
       "      <td>1.0</td>\n",
       "      <td>1</td>\n",
       "    </tr>\n",
       "    <tr>\n",
       "      <th>93</th>\n",
       "      <td>Wonder if @user &amp;amp; @user will be in the app...</td>\n",
       "      <td>Apple</td>\n",
       "      <td>1.0</td>\n",
       "      <td>2</td>\n",
       "    </tr>\n",
       "    <tr>\n",
       "      <th>125</th>\n",
       "      <td>#sxsw #ux #ipad #uxdes remember to ultimately ...</td>\n",
       "      <td>iPad</td>\n",
       "      <td>1.0</td>\n",
       "      <td>2</td>\n",
       "    </tr>\n",
       "    <tr>\n",
       "      <th>139</th>\n",
       "      <td>Headed to #sxsw and want to share/gather conta...</td>\n",
       "      <td>iPhone</td>\n",
       "      <td>1.0</td>\n",
       "      <td>1</td>\n",
       "    </tr>\n",
       "  </tbody>\n",
       "</table>\n",
       "</div>"
      ],
      "text/plain": [
       "                                                 tweet directed  emotion  \\\n",
       "43   Mashable! - The iPad 2 Takes Over SXSW [VIDEO]...     iPad      1.0   \n",
       "58   {link} RT @user Those at #SXSW check out the H...     iPad      1.0   \n",
       "93   Wonder if @user &amp; @user will be in the app...    Apple      1.0   \n",
       "125  #sxsw #ux #ipad #uxdes remember to ultimately ...     iPad      1.0   \n",
       "139  Headed to #sxsw and want to share/gather conta...   iPhone      1.0   \n",
       "\n",
       "     roberta_score  \n",
       "43               1  \n",
       "58               1  \n",
       "93               2  \n",
       "125              2  \n",
       "139              1  "
      ]
     },
     "execution_count": 12,
     "metadata": {},
     "output_type": "execute_result"
    }
   ],
   "source": [
    "emo_dict = {'No emotion toward brand or product': 1, 'Positive emotion': 2, 'Negative emotion': 0}\n",
    "df['emotion'] = df['emotion'].map(emo_dict)\n",
    "\n",
    "df.head()"
   ]
  },
  {
   "cell_type": "code",
   "execution_count": 13,
   "id": "60cb2108",
   "metadata": {},
   "outputs": [
    {
     "data": {
      "text/plain": [
       "2.0    1986\n",
       "1.0     550\n",
       "0.0     392\n",
       "Name: emotion, dtype: int64"
      ]
     },
     "execution_count": 13,
     "metadata": {},
     "output_type": "execute_result"
    }
   ],
   "source": [
    "df['emotion'].value_counts()"
   ]
  },
  {
   "cell_type": "code",
   "execution_count": 14,
   "id": "e934ab54",
   "metadata": {},
   "outputs": [
    {
     "data": {
      "text/plain": [
       "2    1915\n",
       "1     720\n",
       "0     316\n",
       "Name: roberta_score, dtype: int64"
      ]
     },
     "execution_count": 14,
     "metadata": {},
     "output_type": "execute_result"
    }
   ],
   "source": [
    "df['roberta_score'].value_counts()"
   ]
  },
  {
   "cell_type": "markdown",
   "id": "9a7c5f72",
   "metadata": {},
   "source": [
    "## Japan"
   ]
  },
  {
   "cell_type": "code",
   "execution_count": 15,
   "id": "7337ad0e",
   "metadata": {},
   "outputs": [
    {
     "data": {
      "text/plain": [
       "(2951, 4)"
      ]
     },
     "execution_count": 15,
     "metadata": {},
     "output_type": "execute_result"
    }
   ],
   "source": [
    "df.shape"
   ]
  },
  {
   "cell_type": "code",
   "execution_count": 16,
   "id": "3cb01403",
   "metadata": {},
   "outputs": [
    {
     "data": {
      "text/plain": [
       "True"
      ]
     },
     "execution_count": 16,
     "metadata": {},
     "output_type": "execute_result"
    }
   ],
   "source": [
    "df['tweet'].str.contains('japan').any()"
   ]
  },
  {
   "cell_type": "code",
   "execution_count": 17,
   "id": "fdf52944",
   "metadata": {},
   "outputs": [
    {
     "data": {
      "text/plain": [
       "8"
      ]
     },
     "execution_count": 17,
     "metadata": {},
     "output_type": "execute_result"
    }
   ],
   "source": [
    "df['tweet'].str.contains('japan').sum()"
   ]
  },
  {
   "cell_type": "code",
   "execution_count": 18,
   "id": "eda72670",
   "metadata": {},
   "outputs": [
    {
     "data": {
      "text/plain": [
       "(2943, 4)"
      ]
     },
     "execution_count": 18,
     "metadata": {},
     "output_type": "execute_result"
    }
   ],
   "source": [
    "df = df.drop(df[df.apply(lambda row: row.astype(str).str.contains('japan').any(), axis=1)].index)\n",
    "df.shape"
   ]
  },
  {
   "cell_type": "code",
   "execution_count": 19,
   "id": "abcec79c",
   "metadata": {},
   "outputs": [
    {
     "data": {
      "text/plain": [
       "([0, 1, 2, 3, 4],\n",
       " [Text(0, 0, ''),\n",
       "  Text(0, 0, ''),\n",
       "  Text(0, 0, ''),\n",
       "  Text(0, 0, ''),\n",
       "  Text(0, 0, '')])"
      ]
     },
     "execution_count": 19,
     "metadata": {},
     "output_type": "execute_result"
    },
    {
     "data": {
      "image/png": "[encoded data removed]",
      "text/plain": [
       "<Figure size 640x480 with 1 Axes>"
      ]
     },
     "metadata": {},
     "output_type": "display_data"
    }
   ],
   "source": [
    "plt.bar(df['directed'].value_counts().index, df['directed'].value_counts().values)\n",
    "plt.xticks(rotation=45)"
   ]
  },
  {
   "cell_type": "code",
   "execution_count": null,
   "id": "bef5f8b2",
   "metadata": {},
   "outputs": [],
   "source": []
  }
 ],
 "metadata": {
  "kernelspec": {
   "display_name": "Python 3 (ipykernel)",
   "language": "python",
   "name": "python3"
  },
  "language_info": {
   "codemirror_mode": {
    "name": "ipython",
    "version": 3
   },
   "file_extension": ".py",
   "mimetype": "text/x-python",
   "name": "python",
   "nbconvert_exporter": "python",
   "pygments_lexer": "ipython3",
   "version": "3.9.13"
  }
 },
 "nbformat": 4,
 "nbformat_minor": 5
}
