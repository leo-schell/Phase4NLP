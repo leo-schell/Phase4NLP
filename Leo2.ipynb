{
 "cells": [
  {
   "cell_type": "markdown",
   "id": "256e25d7",
   "metadata": {},
   "source": [
    "# Phase 4 Project - NLP"
   ]
  },
  {
   "cell_type": "markdown",
   "id": "00fee37b",
   "metadata": {},
   "source": [
    "#### Import Necessary Libraries"
   ]
  },
  {
   "cell_type": "code",
   "execution_count": 1,
   "id": "8b8c1237",
   "metadata": {},
   "outputs": [
    {
     "name": "stderr",
     "output_type": "stream",
     "text": [
      "[nltk_data] Downloading package words to\n",
      "[nltk_data]     /Users/leahschell/nltk_data...\n",
      "[nltk_data]   Package words is already up-to-date!\n",
      "[nltk_data] Downloading package omw-1.4 to\n",
      "[nltk_data]     /Users/leahschell/nltk_data...\n",
      "[nltk_data]   Package omw-1.4 is already up-to-date!\n",
      "[nltk_data] Downloading package tagsets to\n",
      "[nltk_data]     /Users/leahschell/nltk_data...\n",
      "[nltk_data]   Package tagsets is already up-to-date!\n"
     ]
    }
   ],
   "source": [
    "import pandas as pd\n",
    "import matplotlib.pyplot as plt\n",
    "%matplotlib inline\n",
    "from collections import Counter\n",
    "import nltk\n",
    "from nltk.tokenize import RegexpTokenizer\n",
    "from nltk.corpus import stopwords, words, wordnet\n",
    "import string\n",
    "nltk.download('words')\n",
    "nltk.download('stopwords', quiet=True)\n",
    "from nltk import FreqDist\n",
    "from nltk.stem.wordnet import WordNetLemmatizer\n",
    "nltk.download('omw-1.4')\n",
    "nltk.download('tagsets')\n",
    "from nltk import pos_tag\n",
    "\n",
    "from sklearn.feature_extraction.text import TfidfVectorizer\n",
    "from sklearn.model_selection import train_test_split\n",
    "from sklearn.naive_bayes import MultinomialNB\n",
    "from sklearn.tree import DecisionTreeClassifier, plot_tree\n",
    "from sklearn.metrics import plot_confusion_matrix, precision_score, classification_report\n",
    "\n",
    "#Ignore warnings\n",
    "import warnings\n",
    "warnings.filterwarnings(\"ignore\")"
   ]
  },
  {
   "cell_type": "markdown",
   "id": "c3b21222",
   "metadata": {},
   "source": [
    "#### Data Exploration"
   ]
  },
  {
   "cell_type": "code",
   "execution_count": 2,
   "id": "ae9fa0f5",
   "metadata": {},
   "outputs": [],
   "source": [
    "df = pd.read_csv('data/tweets.csv', encoding='utf8')"
   ]
  },
  {
   "cell_type": "code",
   "execution_count": 3,
   "id": "710a38e6",
   "metadata": {},
   "outputs": [
    {
     "data": {
      "text/html": [
       "<div>\n",
       "<style scoped>\n",
       "    .dataframe tbody tr th:only-of-type {\n",
       "        vertical-align: middle;\n",
       "    }\n",
       "\n",
       "    .dataframe tbody tr th {\n",
       "        vertical-align: top;\n",
       "    }\n",
       "\n",
       "    .dataframe thead th {\n",
       "        text-align: right;\n",
       "    }\n",
       "</style>\n",
       "<table border=\"1\" class=\"dataframe\">\n",
       "  <thead>\n",
       "    <tr style=\"text-align: right;\">\n",
       "      <th></th>\n",
       "      <th>tweet_text</th>\n",
       "      <th>emotion_in_tweet_is_directed_at</th>\n",
       "      <th>is_there_an_emotion_directed_at_a_brand_or_product</th>\n",
       "    </tr>\n",
       "  </thead>\n",
       "  <tbody>\n",
       "    <tr>\n",
       "      <th>0</th>\n",
       "      <td>.@wesley83 I have a 3G iPhone. After 3 hrs twe...</td>\n",
       "      <td>iPhone</td>\n",
       "      <td>Negative emotion</td>\n",
       "    </tr>\n",
       "    <tr>\n",
       "      <th>1</th>\n",
       "      <td>@jessedee Know about @fludapp ? Awesome iPad/i...</td>\n",
       "      <td>iPad or iPhone App</td>\n",
       "      <td>Positive emotion</td>\n",
       "    </tr>\n",
       "    <tr>\n",
       "      <th>2</th>\n",
       "      <td>@swonderlin Can not wait for #iPad 2 also. The...</td>\n",
       "      <td>iPad</td>\n",
       "      <td>Positive emotion</td>\n",
       "    </tr>\n",
       "    <tr>\n",
       "      <th>3</th>\n",
       "      <td>@sxsw I hope this year's festival isn't as cra...</td>\n",
       "      <td>iPad or iPhone App</td>\n",
       "      <td>Negative emotion</td>\n",
       "    </tr>\n",
       "    <tr>\n",
       "      <th>4</th>\n",
       "      <td>@sxtxstate great stuff on Fri #SXSW: Marissa M...</td>\n",
       "      <td>Google</td>\n",
       "      <td>Positive emotion</td>\n",
       "    </tr>\n",
       "  </tbody>\n",
       "</table>\n",
       "</div>"
      ],
      "text/plain": [
       "                                          tweet_text  \\\n",
       "0  .@wesley83 I have a 3G iPhone. After 3 hrs twe...   \n",
       "1  @jessedee Know about @fludapp ? Awesome iPad/i...   \n",
       "2  @swonderlin Can not wait for #iPad 2 also. The...   \n",
       "3  @sxsw I hope this year's festival isn't as cra...   \n",
       "4  @sxtxstate great stuff on Fri #SXSW: Marissa M...   \n",
       "\n",
       "  emotion_in_tweet_is_directed_at  \\\n",
       "0                          iPhone   \n",
       "1              iPad or iPhone App   \n",
       "2                            iPad   \n",
       "3              iPad or iPhone App   \n",
       "4                          Google   \n",
       "\n",
       "  is_there_an_emotion_directed_at_a_brand_or_product  \n",
       "0                                   Negative emotion  \n",
       "1                                   Positive emotion  \n",
       "2                                   Positive emotion  \n",
       "3                                   Negative emotion  \n",
       "4                                   Positive emotion  "
      ]
     },
     "execution_count": 3,
     "metadata": {},
     "output_type": "execute_result"
    }
   ],
   "source": [
    "df.head()"
   ]
  },
  {
   "cell_type": "code",
   "execution_count": 4,
   "id": "4ffbe0eb",
   "metadata": {
    "scrolled": true
   },
   "outputs": [],
   "source": [
    "#View the whole tweet\n",
    "#df.style.set_properties(**{'text-align': 'left'})\n",
    "#Locating single tweets to view all text\n",
    "#df['tweet_text'].iloc[2000]"
   ]
  },
  {
   "cell_type": "code",
   "execution_count": 5,
   "id": "9670e26d",
   "metadata": {
    "scrolled": true
   },
   "outputs": [
    {
     "data": {
      "text/plain": [
       "(9093, 3)"
      ]
     },
     "execution_count": 5,
     "metadata": {},
     "output_type": "execute_result"
    }
   ],
   "source": [
    "df.shape"
   ]
  },
  {
   "cell_type": "code",
   "execution_count": 6,
   "id": "9455d455",
   "metadata": {},
   "outputs": [
    {
     "data": {
      "text/html": [
       "<div>\n",
       "<style scoped>\n",
       "    .dataframe tbody tr th:only-of-type {\n",
       "        vertical-align: middle;\n",
       "    }\n",
       "\n",
       "    .dataframe tbody tr th {\n",
       "        vertical-align: top;\n",
       "    }\n",
       "\n",
       "    .dataframe thead th {\n",
       "        text-align: right;\n",
       "    }\n",
       "</style>\n",
       "<table border=\"1\" class=\"dataframe\">\n",
       "  <thead>\n",
       "    <tr style=\"text-align: right;\">\n",
       "      <th></th>\n",
       "      <th>tweet</th>\n",
       "      <th>directed</th>\n",
       "      <th>emotion</th>\n",
       "    </tr>\n",
       "  </thead>\n",
       "  <tbody>\n",
       "    <tr>\n",
       "      <th>0</th>\n",
       "      <td>.@wesley83 I have a 3G iPhone. After 3 hrs twe...</td>\n",
       "      <td>iPhone</td>\n",
       "      <td>Negative emotion</td>\n",
       "    </tr>\n",
       "    <tr>\n",
       "      <th>1</th>\n",
       "      <td>@jessedee Know about @fludapp ? Awesome iPad/i...</td>\n",
       "      <td>iPad or iPhone App</td>\n",
       "      <td>Positive emotion</td>\n",
       "    </tr>\n",
       "    <tr>\n",
       "      <th>2</th>\n",
       "      <td>@swonderlin Can not wait for #iPad 2 also. The...</td>\n",
       "      <td>iPad</td>\n",
       "      <td>Positive emotion</td>\n",
       "    </tr>\n",
       "    <tr>\n",
       "      <th>3</th>\n",
       "      <td>@sxsw I hope this year's festival isn't as cra...</td>\n",
       "      <td>iPad or iPhone App</td>\n",
       "      <td>Negative emotion</td>\n",
       "    </tr>\n",
       "    <tr>\n",
       "      <th>4</th>\n",
       "      <td>@sxtxstate great stuff on Fri #SXSW: Marissa M...</td>\n",
       "      <td>Google</td>\n",
       "      <td>Positive emotion</td>\n",
       "    </tr>\n",
       "  </tbody>\n",
       "</table>\n",
       "</div>"
      ],
      "text/plain": [
       "                                               tweet            directed  \\\n",
       "0  .@wesley83 I have a 3G iPhone. After 3 hrs twe...              iPhone   \n",
       "1  @jessedee Know about @fludapp ? Awesome iPad/i...  iPad or iPhone App   \n",
       "2  @swonderlin Can not wait for #iPad 2 also. The...                iPad   \n",
       "3  @sxsw I hope this year's festival isn't as cra...  iPad or iPhone App   \n",
       "4  @sxtxstate great stuff on Fri #SXSW: Marissa M...              Google   \n",
       "\n",
       "            emotion  \n",
       "0  Negative emotion  \n",
       "1  Positive emotion  \n",
       "2  Positive emotion  \n",
       "3  Negative emotion  \n",
       "4  Positive emotion  "
      ]
     },
     "execution_count": 6,
     "metadata": {},
     "output_type": "execute_result"
    }
   ],
   "source": [
    "#rename columns\n",
    "df.set_axis(['tweet', 'directed', 'emotion'], axis=1, inplace=True)\n",
    "df.head()"
   ]
  },
  {
   "cell_type": "code",
   "execution_count": 7,
   "id": "d912e178",
   "metadata": {
    "scrolled": false
   },
   "outputs": [],
   "source": [
    "#df.style.set_properties(**{'text-align': 'left'})"
   ]
  },
  {
   "cell_type": "code",
   "execution_count": 8,
   "id": "860aee20",
   "metadata": {},
   "outputs": [],
   "source": [
    "#Drop one missing tweet\n",
    "df.dropna(subset='tweet', axis=0, inplace=True)"
   ]
  },
  {
   "cell_type": "code",
   "execution_count": 9,
   "id": "e9249894",
   "metadata": {},
   "outputs": [
    {
     "data": {
      "text/plain": [
       "iPad                               946\n",
       "Apple                              661\n",
       "iPad or iPhone App                 470\n",
       "Google                             430\n",
       "iPhone                             297\n",
       "Other Google product or service    293\n",
       "Android App                         81\n",
       "Android                             78\n",
       "Other Apple product or service      35\n",
       "Name: directed, dtype: int64"
      ]
     },
     "execution_count": 9,
     "metadata": {},
     "output_type": "execute_result"
    }
   ],
   "source": [
    "df['directed'].value_counts()"
   ]
  },
  {
   "cell_type": "code",
   "execution_count": 10,
   "id": "6eec764a",
   "metadata": {},
   "outputs": [],
   "source": [
    "#Drop non-apple values in Directed to column\n",
    "#Come back to this to make cleaner later??\n",
    "\n",
    "df = df[(df['directed'] != 'Android App') & (df['directed'] != 'Android') & (df['directed'] != 'Google') & (df['directed'] != 'Other Google product or service')]"
   ]
  },
  {
   "cell_type": "code",
   "execution_count": 11,
   "id": "09bf5bf2",
   "metadata": {},
   "outputs": [
    {
     "data": {
      "text/plain": [
       "([0, 1, 2, 3, 4],\n",
       " [Text(0, 0, ''),\n",
       "  Text(0, 0, ''),\n",
       "  Text(0, 0, ''),\n",
       "  Text(0, 0, ''),\n",
       "  Text(0, 0, '')])"
      ]
     },
     "execution_count": 11,
     "metadata": {},
     "output_type": "execute_result"
    },
    {
     "data": {
      "image/png": "[encoded data removed]",
      "text/plain": [
       "<Figure size 640x480 with 1 Axes>"
      ]
     },
     "metadata": {},
     "output_type": "display_data"
    }
   ],
   "source": [
    "plt.bar(df['directed'].value_counts().index, df['directed'].value_counts().values)\n",
    "plt.xticks(rotation=45)"
   ]
  },
  {
   "cell_type": "code",
   "execution_count": 12,
   "id": "ce9f0dab",
   "metadata": {},
   "outputs": [],
   "source": [
    "df['tweet'] = df['tweet'].str.lower()"
   ]
  },
  {
   "cell_type": "markdown",
   "id": "666ebb03",
   "metadata": {},
   "source": [
    "Create dataframe for only NaN values in Directed column"
   ]
  },
  {
   "cell_type": "code",
   "execution_count": 13,
   "id": "96d1179b",
   "metadata": {},
   "outputs": [],
   "source": [
    "d_nan = df[(df['directed'].isna())]"
   ]
  },
  {
   "cell_type": "markdown",
   "id": "1bf1512c",
   "metadata": {},
   "source": [
    "Iterate through rows and fill the NaN values with a string from the tweet based on the product"
   ]
  },
  {
   "cell_type": "code",
   "execution_count": 14,
   "id": "f7637b56",
   "metadata": {},
   "outputs": [],
   "source": [
    "for index, row in d_nan.iterrows():\n",
    "    if 'apple' in str(row['tweet']):\n",
    "        d_nan.at[index, 'directed'] = 'Apple'\n",
    "    elif 'iphone' in str(row['tweet']):\n",
    "        d_nan.at[index, 'directed'] = 'iPhone'\n",
    "    elif 'ipad' in str(row['tweet']):\n",
    "        d_nan.at[index, 'directed'] = 'iPad'\n",
    "    elif 'steve jobs' in str(row['tweet']):\n",
    "        d_nan.at[index, 'directed'] = 'Apple'\n",
    "    elif 'stevejobs' in str(row['tweet']):\n",
    "        d_nan.at[index, 'directed'] = 'Apple'\n",
    "    else:\n",
    "        pass"
   ]
  },
  {
   "cell_type": "code",
   "execution_count": 15,
   "id": "15ab154e",
   "metadata": {},
   "outputs": [
    {
     "data": {
      "text/plain": [
       "tweet          0\n",
       "directed    2682\n",
       "emotion        0\n",
       "dtype: int64"
      ]
     },
     "execution_count": 15,
     "metadata": {},
     "output_type": "execute_result"
    }
   ],
   "source": [
    "##Not all located the string\n",
    "\n",
    "d_nan.isna().sum()"
   ]
  },
  {
   "cell_type": "code",
   "execution_count": 16,
   "id": "6e981310",
   "metadata": {},
   "outputs": [],
   "source": [
    "#Dropping Nulls from the original dataframe\n",
    "dfdrop = df.dropna(subset='directed', axis=0)"
   ]
  },
  {
   "cell_type": "code",
   "execution_count": 17,
   "id": "c7015788",
   "metadata": {},
   "outputs": [],
   "source": [
    "#Concat original dataframe with imputed dataframe\n",
    "df_join = pd.concat([d_nan, dfdrop])"
   ]
  },
  {
   "cell_type": "code",
   "execution_count": 18,
   "id": "ac6b0057",
   "metadata": {},
   "outputs": [],
   "source": [
    "#Drop leftover missing values and rename to original dataframe name - 'df'\n",
    "df = df_join.dropna(axis=0)"
   ]
  },
  {
   "cell_type": "markdown",
   "id": "36e9b66d",
   "metadata": {},
   "source": [
    "Encoding Emotion column"
   ]
  },
  {
   "cell_type": "code",
   "execution_count": 19,
   "id": "aae6894a",
   "metadata": {},
   "outputs": [
    {
     "data": {
      "text/plain": [
       "No emotion toward brand or product    2876\n",
       "Positive emotion                      2135\n",
       "Negative emotion                       418\n",
       "Name: emotion, dtype: int64"
      ]
     },
     "execution_count": 19,
     "metadata": {},
     "output_type": "execute_result"
    }
   ],
   "source": [
    "df = df[(df['emotion'] != \"I can't tell\")]\n",
    "df['emotion'].value_counts()"
   ]
  },
  {
   "cell_type": "code",
   "execution_count": 20,
   "id": "c33f3377",
   "metadata": {},
   "outputs": [],
   "source": [
    "emo_dict = {'No emotion toward brand or product': 1, 'Positive emotion': 2, 'Negative emotion': 0}\n",
    "df['emotion'] = df['emotion'].map(emo_dict)"
   ]
  },
  {
   "cell_type": "code",
   "execution_count": 21,
   "id": "e8d23e52",
   "metadata": {},
   "outputs": [
    {
     "name": "stdout",
     "output_type": "stream",
     "text": [
      "<class 'pandas.core.frame.DataFrame'>\n",
      "Int64Index: 5429 entries, 5 to 9088\n",
      "Data columns (total 3 columns):\n",
      " #   Column    Non-Null Count  Dtype \n",
      "---  ------    --------------  ----- \n",
      " 0   tweet     5429 non-null   object\n",
      " 1   directed  5429 non-null   object\n",
      " 2   emotion   5429 non-null   int64 \n",
      "dtypes: int64(1), object(2)\n",
      "memory usage: 169.7+ KB\n"
     ]
    }
   ],
   "source": [
    "df.info()"
   ]
  },
  {
   "cell_type": "code",
   "execution_count": 22,
   "id": "372b3211",
   "metadata": {},
   "outputs": [
    {
     "data": {
      "text/plain": [
       "True"
      ]
     },
     "execution_count": 22,
     "metadata": {},
     "output_type": "execute_result"
    }
   ],
   "source": [
    "df['tweet'].str.contains('japan').any()"
   ]
  },
  {
   "cell_type": "code",
   "execution_count": 23,
   "id": "85ac5e7f",
   "metadata": {},
   "outputs": [
    {
     "data": {
      "text/plain": [
       "88"
      ]
     },
     "execution_count": 23,
     "metadata": {},
     "output_type": "execute_result"
    }
   ],
   "source": [
    "df['tweet'].str.contains('japan').sum()"
   ]
  },
  {
   "cell_type": "code",
   "execution_count": 24,
   "id": "e9eeaed0",
   "metadata": {},
   "outputs": [
    {
     "data": {
      "text/plain": [
       "(5341, 3)"
      ]
     },
     "execution_count": 24,
     "metadata": {},
     "output_type": "execute_result"
    }
   ],
   "source": [
    "df = df.drop(df[df.apply(lambda row: row.astype(str).str.contains('japan').any(), axis=1)].index)\n",
    "df.shape"
   ]
  },
  {
   "cell_type": "markdown",
   "id": "d49604d7",
   "metadata": {},
   "source": [
    "## Preprocessing"
   ]
  },
  {
   "cell_type": "markdown",
   "id": "d6cd5aeb",
   "metadata": {},
   "source": [
    "#### TrainTestSplit"
   ]
  },
  {
   "cell_type": "code",
   "execution_count": 25,
   "id": "21b0d21c",
   "metadata": {},
   "outputs": [],
   "source": [
    "X = pd.DataFrame(df['tweet'])\n",
    "y = pd.DataFrame(df['emotion'])\n",
    "\n",
    "X_train, X_test, y_train, y_test = train_test_split(X, y, random_state=1)"
   ]
  },
  {
   "cell_type": "markdown",
   "id": "62b4dc7f",
   "metadata": {},
   "source": [
    "### Preprocess train"
   ]
  },
  {
   "cell_type": "markdown",
   "id": "7c68c0c1",
   "metadata": {},
   "source": [
    "#### Tokenize"
   ]
  },
  {
   "cell_type": "code",
   "execution_count": 26,
   "id": "01b50dc7",
   "metadata": {},
   "outputs": [],
   "source": [
    "pattern = r\"(?u)\\b\\w\\w+\\b\" ## tentative pattern, may need to look into better options. This gets rid of punctuation\n",
    "tokenizer = RegexpTokenizer(pattern)\n",
    "#'a-zA-Z0-9'"
   ]
  },
  {
   "cell_type": "code",
   "execution_count": 27,
   "id": "f67a5f65",
   "metadata": {},
   "outputs": [],
   "source": [
    "X_train['tweet'] = X_train['tweet'].apply(tokenizer.tokenize)"
   ]
  },
  {
   "cell_type": "markdown",
   "id": "c2480e9f",
   "metadata": {},
   "source": [
    "#### Remove stopwords"
   ]
  },
  {
   "cell_type": "code",
   "execution_count": 28,
   "id": "5a5e8586",
   "metadata": {},
   "outputs": [],
   "source": [
    "stoplist = stopwords.words('english')"
   ]
  },
  {
   "cell_type": "code",
   "execution_count": 29,
   "id": "f90e2a78",
   "metadata": {},
   "outputs": [],
   "source": [
    "def remove_stops(tweet):\n",
    "    tweet = [x for x in tweet if x not in stoplist]\n",
    "    return tweet"
   ]
  },
  {
   "cell_type": "code",
   "execution_count": 30,
   "id": "d58643ef",
   "metadata": {},
   "outputs": [],
   "source": [
    "X_train['tweet'] = X_train['tweet'].apply(remove_stops)"
   ]
  },
  {
   "cell_type": "code",
   "execution_count": 31,
   "id": "df5159fc",
   "metadata": {
    "scrolled": true
   },
   "outputs": [
    {
     "data": {
      "text/plain": [
       "5292    [rt, mention, sxsw, go, available, platforms, ...\n",
       "472     [even, begins, apple, wins, sxsw, link, via, m...\n",
       "7548    [sxsw, csr, reporting, janecek, microsoft, giv...\n",
       "7123    [waiting, sxsw, session, start, touching, stor...\n",
       "6436    [rt, mention, part, journalsim, support, democ...\n",
       "                              ...                        \n",
       "2840    [picked, leanstartup, bundle, sxsw, mention, l...\n",
       "8547    [mention, temp, store, 6th, amp, congress, sxs...\n",
       "3598    [ridiculous, see, someone, taking, photo, sess...\n",
       "866     [technews, man, panhandling, ipad, sxsw, ыєs, ...\n",
       "8422    [mention, apple, sxsw, popupstore, like, crack...\n",
       "Name: tweet, Length: 4005, dtype: object"
      ]
     },
     "execution_count": 31,
     "metadata": {},
     "output_type": "execute_result"
    }
   ],
   "source": [
    "X_train['tweet']"
   ]
  },
  {
   "cell_type": "markdown",
   "id": "d93dbf53",
   "metadata": {},
   "source": [
    "#### Lemmetization"
   ]
  },
  {
   "cell_type": "code",
   "execution_count": 32,
   "id": "de2809c3",
   "metadata": {},
   "outputs": [],
   "source": [
    "lem = WordNetLemmatizer()"
   ]
  },
  {
   "cell_type": "code",
   "execution_count": 33,
   "id": "8f7e597b",
   "metadata": {},
   "outputs": [],
   "source": [
    "    def get_wordnet_pos(tweet):\n",
    "        \n",
    "        tagged_tweet = pos_tag(tweet)\n",
    "        \n",
    "        new_tags = []\n",
    "        for word, tag in tagged_tweet:\n",
    "            if tag.startswith('J'):\n",
    "                tag = wordnet.ADJ\n",
    "                new_tags.append([word, tag])\n",
    "            elif tag.startswith('V'):\n",
    "                tag = wordnet.VERB\n",
    "                new_tags.append([word, tag])\n",
    "            elif tag.startswith('N'):\n",
    "                tag = wordnet.NOUN\n",
    "                new_tags.append([word, tag])\n",
    "            elif tag.startswith('R'):\n",
    "                tag = wordnet.ADV\n",
    "                new_tags.append([word, tag])\n",
    "            else:\n",
    "                tag = wordnet.NOUN\n",
    "                new_tags.append([word, tag])\n",
    "                \n",
    "        \n",
    "        return new_tags"
   ]
  },
  {
   "cell_type": "code",
   "execution_count": 34,
   "id": "e9ba7cad",
   "metadata": {},
   "outputs": [
    {
     "name": "stdout",
     "output_type": "stream",
     "text": [
      "['beautifully', 'smart', 'simple', 'idea', 'rt', 'madebymany', 'thenextweb', 'wrote', 'hollergram', 'ipad', 'app', 'sxsw', 'http', 'bit', 'ly', 'ieavob']\n"
     ]
    },
    {
     "data": {
      "text/plain": [
       "['beautifully',\n",
       " 'smart',\n",
       " 'simple',\n",
       " 'idea',\n",
       " 'rt',\n",
       " 'madebymany',\n",
       " 'thenextweb',\n",
       " 'write',\n",
       " 'hollergram',\n",
       " 'ipad',\n",
       " 'app',\n",
       " 'sxsw',\n",
       " 'http',\n",
       " 'bit',\n",
       " 'ly',\n",
       " 'ieavob']"
      ]
     },
     "execution_count": 34,
     "metadata": {},
     "output_type": "execute_result"
    }
   ],
   "source": [
    "def lemma(tweet):\n",
    "    tagged_tweet = get_wordnet_pos(tweet)\n",
    "    tweet_lemmed = [lem.lemmatize(token[0], token[1]) for token in tagged_tweet]\n",
    "    return tweet_lemmed\n",
    "\n",
    "#Test to see if the lemmatization worked\n",
    "print(X_train['tweet'][8])\n",
    "lemma(X_train['tweet'][8])"
   ]
  },
  {
   "cell_type": "code",
   "execution_count": 35,
   "id": "dee843c7",
   "metadata": {},
   "outputs": [],
   "source": [
    "X_train['tweet'] = X_train['tweet'].apply(lemma) "
   ]
  },
  {
   "cell_type": "markdown",
   "id": "cfb16022",
   "metadata": {},
   "source": [
    "#### Remove rare words and frequent words"
   ]
  },
  {
   "cell_type": "markdown",
   "id": "96eeff87",
   "metadata": {},
   "source": [
    "Words common in tweets that are not related to the sentiment (@mentions, links, etc)"
   ]
  },
  {
   "cell_type": "code",
   "execution_count": 36,
   "id": "89c7b4bb",
   "metadata": {},
   "outputs": [],
   "source": [
    "word_count = Counter()\n",
    "\n",
    "for tweet in X_train['tweet']:\n",
    "    for token in tweet:\n",
    "        word_count[token] += 1\n",
    "        \n"
   ]
  },
  {
   "cell_type": "code",
   "execution_count": 37,
   "id": "89607952",
   "metadata": {},
   "outputs": [
    {
     "data": {
      "text/plain": [
       "[('sxsw', 4319),\n",
       " ('mention', 2870),\n",
       " ('ipad', 1783),\n",
       " ('link', 1705),\n",
       " ('apple', 1703),\n",
       " ('rt', 1228),\n",
       " ('iphone', 1147),\n",
       " ('store', 1090),\n",
       " ('quot', 604),\n",
       " ('austin', 591),\n",
       " ('app', 464),\n",
       " ('pop', 426),\n",
       " ('open', 371),\n",
       " ('get', 370),\n",
       " ('new', 362),\n",
       " ('ipad2', 342),\n",
       " ('amp', 327),\n",
       " ('line', 318),\n",
       " ('go', 267),\n",
       " ('one', 207),\n",
       " ('win', 202),\n",
       " ('temporary', 198),\n",
       " ('launch', 186),\n",
       " ('via', 174),\n",
       " ('come', 163),\n",
       " ('downtown', 160),\n",
       " ('design', 157),\n",
       " ('popup', 153),\n",
       " ('like', 152),\n",
       " ('android', 146),\n",
       " ('day', 140),\n",
       " ('free', 138),\n",
       " ('use', 136),\n",
       " ('see', 135),\n",
       " ('sxswi', 132),\n",
       " ('make', 130),\n",
       " ('time', 127),\n",
       " ('apps', 123),\n",
       " ('people', 118),\n",
       " ('look', 117),\n",
       " ('set', 113),\n",
       " ('check', 112),\n",
       " ('know', 109),\n",
       " ('take', 109),\n",
       " ('need', 108),\n",
       " ('today', 107),\n",
       " ('give', 101),\n",
       " ('guy', 98),\n",
       " ('shop', 97),\n",
       " ('buy', 93),\n",
       " ('wait', 92),\n",
       " ('want', 90),\n",
       " ('case', 90),\n",
       " ('show', 89),\n",
       " ('mobile', 88),\n",
       " ('cool', 87),\n",
       " ('sell', 86),\n",
       " ('think', 85),\n",
       " ('rumor', 84),\n",
       " ('first', 83),\n",
       " ('great', 81),\n",
       " ('next', 80),\n",
       " ('love', 80),\n",
       " ('game', 79),\n",
       " ('talk', 79),\n",
       " ('good', 78),\n",
       " ('video', 73),\n",
       " ('tech', 72),\n",
       " ('find', 72),\n",
       " ('even', 69),\n",
       " ('congress', 69),\n",
       " ('year', 68),\n",
       " ('say', 68),\n",
       " ('ipads', 67),\n",
       " ('well', 67),\n",
       " ('head', 65),\n",
       " ('awesome', 65),\n",
       " ('away', 64),\n",
       " ('anyone', 64),\n",
       " ('ып', 64),\n",
       " ('would', 64),\n",
       " ('6th', 64),\n",
       " ('party', 63),\n",
       " ('last', 63),\n",
       " ('phone', 62),\n",
       " ('still', 62),\n",
       " ('panel', 62),\n",
       " ('work', 62),\n",
       " ('blackberry', 60),\n",
       " ('download', 60),\n",
       " ('include', 60),\n",
       " ('u', 60),\n",
       " ('tweet', 60),\n",
       " ('around', 59),\n",
       " ('technology', 59),\n",
       " ('temp', 57),\n",
       " ('hour', 55),\n",
       " ('update', 55),\n",
       " ('news', 54),\n",
       " ('really', 54),\n",
       " ('photo', 52),\n",
       " ('long', 52),\n",
       " ('everyone', 51),\n",
       " ('big', 51),\n",
       " ('ыќ', 50),\n",
       " ('ubersocial', 50),\n",
       " ('uberguide', 50),\n",
       " ('thanks', 50),\n",
       " ('flipboard', 50),\n",
       " ('conference', 49),\n",
       " ('week', 49),\n",
       " ('music', 49),\n",
       " ('start', 48),\n",
       " ('hey', 48),\n",
       " ('smart', 48),\n",
       " ('way', 48),\n",
       " ('session', 47),\n",
       " ('marketing', 47),\n",
       " ('right', 47),\n",
       " ('user', 46),\n",
       " ('block', 45),\n",
       " ('laptop', 45),\n",
       " ('ever', 45),\n",
       " ('live', 44),\n",
       " ('battery', 44),\n",
       " ('back', 44),\n",
       " ('heard', 44),\n",
       " ('best', 43),\n",
       " ('com', 43),\n",
       " ('event', 43),\n",
       " ('charge', 43),\n",
       " ('thing', 42),\n",
       " ('leave', 42),\n",
       " ('interface', 42),\n",
       " ('action', 41),\n",
       " ('tapworthy', 41),\n",
       " ('nice', 41),\n",
       " ('could', 41),\n",
       " ('keep', 41),\n",
       " ('begin', 40),\n",
       " ('yes', 40),\n",
       " ('oh', 40),\n",
       " ('release', 40),\n",
       " ('already', 40),\n",
       " ('booth', 39),\n",
       " ('social', 39),\n",
       " ('also', 39),\n",
       " ('someone', 39),\n",
       " ('white', 39),\n",
       " ('let', 39),\n",
       " ('hand', 38),\n",
       " ('tomorrow', 38),\n",
       " ('sponsor', 38),\n",
       " ('tablet', 38),\n",
       " ('many', 37),\n",
       " ('charger', 37),\n",
       " ('bring', 37),\n",
       " ('10', 37),\n",
       " ('tv', 37),\n",
       " ('detail', 37),\n",
       " ('school', 37),\n",
       " ('pack', 37),\n",
       " ('pic', 36),\n",
       " ('please', 36),\n",
       " ('twitter', 35),\n",
       " ('2011', 35),\n",
       " ('gt', 35),\n",
       " ('help', 35),\n",
       " ('product', 35),\n",
       " ('share', 35),\n",
       " ('lot', 34),\n",
       " ('tell', 34),\n",
       " ('much', 34),\n",
       " ('put', 33),\n",
       " ('call', 33),\n",
       " ('sale', 33),\n",
       " ('screen', 33),\n",
       " ('yet', 33),\n",
       " ('meet', 33),\n",
       " ('play', 33),\n",
       " ('stop', 32),\n",
       " ('mashable', 32),\n",
       " ('person', 32),\n",
       " ('two', 32),\n",
       " ('friend', 31),\n",
       " ('core', 31),\n",
       " ('may', 31),\n",
       " ('save', 31),\n",
       " ('front', 31),\n",
       " ('uxdes', 31),\n",
       " ('platform', 30),\n",
       " ('ready', 30),\n",
       " ('crowd', 30),\n",
       " ('fast', 30),\n",
       " ('fb', 29),\n",
       " ('web', 29),\n",
       " ('1st', 29),\n",
       " ('cc', 29),\n",
       " ('hootsuite', 29),\n",
       " ('build', 29)]"
      ]
     },
     "execution_count": 37,
     "metadata": {},
     "output_type": "execute_result"
    }
   ],
   "source": [
    "word_count.most_common()[:200]"
   ]
  },
  {
   "cell_type": "code",
   "execution_count": 38,
   "id": "f4fb96f2",
   "metadata": {},
   "outputs": [],
   "source": [
    "removewords = ['sxsw', 'mention', 'rt', 'quot', 'link', 'sxswi', 'ып', 'ыќ']"
   ]
  },
  {
   "cell_type": "code",
   "execution_count": 39,
   "id": "6dec1b6b",
   "metadata": {},
   "outputs": [],
   "source": [
    "def remove_words(tweet):\n",
    "    tweet = [x for x in tweet if x not in removewords]\n",
    "    return tweet"
   ]
  },
  {
   "cell_type": "code",
   "execution_count": 40,
   "id": "fe3ebf2f",
   "metadata": {},
   "outputs": [],
   "source": [
    "X_train['tweet'] = X_train['tweet'].apply(remove_words)"
   ]
  },
  {
   "cell_type": "code",
   "execution_count": 41,
   "id": "4b43cff8",
   "metadata": {},
   "outputs": [
    {
     "data": {
      "text/html": [
       "<div>\n",
       "<style scoped>\n",
       "    .dataframe tbody tr th:only-of-type {\n",
       "        vertical-align: middle;\n",
       "    }\n",
       "\n",
       "    .dataframe tbody tr th {\n",
       "        vertical-align: top;\n",
       "    }\n",
       "\n",
       "    .dataframe thead th {\n",
       "        text-align: right;\n",
       "    }\n",
       "</style>\n",
       "<table border=\"1\" class=\"dataframe\">\n",
       "  <thead>\n",
       "    <tr style=\"text-align: right;\">\n",
       "      <th></th>\n",
       "      <th>tweet</th>\n",
       "    </tr>\n",
       "  </thead>\n",
       "  <tbody>\n",
       "    <tr>\n",
       "      <th>5292</th>\n",
       "      <td>[go, available, platform, iphone, ipad, androi...</td>\n",
       "    </tr>\n",
       "    <tr>\n",
       "      <th>472</th>\n",
       "      <td>[even, begin, apple, win, via]</td>\n",
       "    </tr>\n",
       "    <tr>\n",
       "      <th>7548</th>\n",
       "      <td>[csr, report, janecek, microsoft, give, charit...</td>\n",
       "    </tr>\n",
       "    <tr>\n",
       "      <th>7123</th>\n",
       "      <td>[wait, session, start, touch, story, design, d...</td>\n",
       "    </tr>\n",
       "    <tr>\n",
       "      <th>6436</th>\n",
       "      <td>[part, journalsim, support, democracy, yes, in...</td>\n",
       "    </tr>\n",
       "    <tr>\n",
       "      <th>...</th>\n",
       "      <td>...</td>\n",
       "    </tr>\n",
       "    <tr>\n",
       "      <th>2840</th>\n",
       "      <td>[pick, leanstartup, bundle, startup, read, ipad]</td>\n",
       "    </tr>\n",
       "    <tr>\n",
       "      <th>8547</th>\n",
       "      <td>[temp, store, 6th, amp, congress, attendee, ex...</td>\n",
       "    </tr>\n",
       "    <tr>\n",
       "      <th>3598</th>\n",
       "      <td>[ridiculous, see, someone, take, photo, sessio...</td>\n",
       "    </tr>\n",
       "    <tr>\n",
       "      <th>866</th>\n",
       "      <td>[technews, man, panhandle, ipad, ыєs, world, c...</td>\n",
       "    </tr>\n",
       "    <tr>\n",
       "      <th>8422</th>\n",
       "      <td>[apple, popupstore, like, crack, house, mac, a...</td>\n",
       "    </tr>\n",
       "  </tbody>\n",
       "</table>\n",
       "<p>4005 rows × 1 columns</p>\n",
       "</div>"
      ],
      "text/plain": [
       "                                                  tweet\n",
       "5292  [go, available, platform, iphone, ipad, androi...\n",
       "472                      [even, begin, apple, win, via]\n",
       "7548  [csr, report, janecek, microsoft, give, charit...\n",
       "7123  [wait, session, start, touch, story, design, d...\n",
       "6436  [part, journalsim, support, democracy, yes, in...\n",
       "...                                                 ...\n",
       "2840   [pick, leanstartup, bundle, startup, read, ipad]\n",
       "8547  [temp, store, 6th, amp, congress, attendee, ex...\n",
       "3598  [ridiculous, see, someone, take, photo, sessio...\n",
       "866   [technews, man, panhandle, ipad, ыєs, world, c...\n",
       "8422  [apple, popupstore, like, crack, house, mac, a...\n",
       "\n",
       "[4005 rows x 1 columns]"
      ]
     },
     "execution_count": 41,
     "metadata": {},
     "output_type": "execute_result"
    }
   ],
   "source": [
    "X_train"
   ]
  },
  {
   "cell_type": "markdown",
   "id": "58408b90",
   "metadata": {},
   "source": [
    "### Vectorization"
   ]
  },
  {
   "cell_type": "markdown",
   "id": "ad64a6af",
   "metadata": {},
   "source": [
    "Join tweets for vectorizing (TFIDF cant take tokens)"
   ]
  },
  {
   "cell_type": "code",
   "execution_count": 42,
   "id": "51482041",
   "metadata": {},
   "outputs": [],
   "source": [
    "for i, row in X_train.iterrows():\n",
    "    joined_tweet = \" \".join(X_train['tweet'][i])\n",
    "    X_train['tweet'][i] = joined_tweet  "
   ]
  },
  {
   "cell_type": "code",
   "execution_count": 43,
   "id": "6d381255",
   "metadata": {},
   "outputs": [
    {
     "data": {
      "text/plain": [
       "'beautifully smart simple idea madebymany thenextweb write hollergram ipad app http bit ly ieavob'"
      ]
     },
     "execution_count": 43,
     "metadata": {},
     "output_type": "execute_result"
    }
   ],
   "source": [
    "#Test\n",
    "X_train['tweet'][8]"
   ]
  },
  {
   "cell_type": "code",
   "execution_count": 44,
   "id": "6e7c8e5c",
   "metadata": {},
   "outputs": [],
   "source": [
    "tf = TfidfVectorizer(max_features=50)\n",
    "\n",
    "\n",
    "X_train_vec = tf.fit_transform(X_train['tweet'])"
   ]
  },
  {
   "cell_type": "code",
   "execution_count": 45,
   "id": "92bd0406",
   "metadata": {},
   "outputs": [
    {
     "data": {
      "text/plain": [
       "<4005x50 sparse matrix of type '<class 'numpy.float64'>'\n",
       "\twith 13641 stored elements in Compressed Sparse Row format>"
      ]
     },
     "execution_count": 45,
     "metadata": {},
     "output_type": "execute_result"
    }
   ],
   "source": [
    "X_train_vec"
   ]
  },
  {
   "cell_type": "code",
   "execution_count": 46,
   "id": "b0b5c0e9",
   "metadata": {},
   "outputs": [],
   "source": [
    "X_train_vec = pd.DataFrame.sparse.from_spmatrix(X_train_vec)"
   ]
  },
  {
   "cell_type": "code",
   "execution_count": 47,
   "id": "36ff61d6",
   "metadata": {},
   "outputs": [],
   "source": [
    "X_train_vec.columns = sorted(tf.vocabulary_)"
   ]
  },
  {
   "cell_type": "code",
   "execution_count": 48,
   "id": "b2c137a2",
   "metadata": {},
   "outputs": [
    {
     "data": {
      "text/html": [
       "<div>\n",
       "<style scoped>\n",
       "    .dataframe tbody tr th:only-of-type {\n",
       "        vertical-align: middle;\n",
       "    }\n",
       "\n",
       "    .dataframe tbody tr th {\n",
       "        vertical-align: top;\n",
       "    }\n",
       "\n",
       "    .dataframe thead th {\n",
       "        text-align: right;\n",
       "    }\n",
       "</style>\n",
       "<table border=\"1\" class=\"dataframe\">\n",
       "  <thead>\n",
       "    <tr style=\"text-align: right;\">\n",
       "      <th></th>\n",
       "      <th>amp</th>\n",
       "      <th>android</th>\n",
       "      <th>app</th>\n",
       "      <th>apple</th>\n",
       "      <th>apps</th>\n",
       "      <th>austin</th>\n",
       "      <th>buy</th>\n",
       "      <th>case</th>\n",
       "      <th>check</th>\n",
       "      <th>come</th>\n",
       "      <th>...</th>\n",
       "      <th>store</th>\n",
       "      <th>take</th>\n",
       "      <th>temporary</th>\n",
       "      <th>time</th>\n",
       "      <th>today</th>\n",
       "      <th>use</th>\n",
       "      <th>via</th>\n",
       "      <th>wait</th>\n",
       "      <th>want</th>\n",
       "      <th>win</th>\n",
       "    </tr>\n",
       "  </thead>\n",
       "  <tbody>\n",
       "    <tr>\n",
       "      <th>0</th>\n",
       "      <td>0.0</td>\n",
       "      <td>0.671824</td>\n",
       "      <td>0.0</td>\n",
       "      <td>0.000000</td>\n",
       "      <td>0.0</td>\n",
       "      <td>0.0</td>\n",
       "      <td>0.0</td>\n",
       "      <td>0.0</td>\n",
       "      <td>0.0</td>\n",
       "      <td>0.0</td>\n",
       "      <td>...</td>\n",
       "      <td>0.0</td>\n",
       "      <td>0.0</td>\n",
       "      <td>0.0</td>\n",
       "      <td>0.0</td>\n",
       "      <td>0.0</td>\n",
       "      <td>0.0</td>\n",
       "      <td>0.000000</td>\n",
       "      <td>0.000000</td>\n",
       "      <td>0.0</td>\n",
       "      <td>0.000000</td>\n",
       "    </tr>\n",
       "    <tr>\n",
       "      <th>1</th>\n",
       "      <td>0.0</td>\n",
       "      <td>0.000000</td>\n",
       "      <td>0.0</td>\n",
       "      <td>0.319290</td>\n",
       "      <td>0.0</td>\n",
       "      <td>0.0</td>\n",
       "      <td>0.0</td>\n",
       "      <td>0.0</td>\n",
       "      <td>0.0</td>\n",
       "      <td>0.0</td>\n",
       "      <td>...</td>\n",
       "      <td>0.0</td>\n",
       "      <td>0.0</td>\n",
       "      <td>0.0</td>\n",
       "      <td>0.0</td>\n",
       "      <td>0.0</td>\n",
       "      <td>0.0</td>\n",
       "      <td>0.677687</td>\n",
       "      <td>0.000000</td>\n",
       "      <td>0.0</td>\n",
       "      <td>0.662415</td>\n",
       "    </tr>\n",
       "    <tr>\n",
       "      <th>2</th>\n",
       "      <td>0.0</td>\n",
       "      <td>0.000000</td>\n",
       "      <td>0.0</td>\n",
       "      <td>0.198338</td>\n",
       "      <td>0.0</td>\n",
       "      <td>0.0</td>\n",
       "      <td>0.0</td>\n",
       "      <td>0.0</td>\n",
       "      <td>0.0</td>\n",
       "      <td>0.0</td>\n",
       "      <td>...</td>\n",
       "      <td>0.0</td>\n",
       "      <td>0.0</td>\n",
       "      <td>0.0</td>\n",
       "      <td>0.0</td>\n",
       "      <td>0.0</td>\n",
       "      <td>0.0</td>\n",
       "      <td>0.000000</td>\n",
       "      <td>0.000000</td>\n",
       "      <td>0.0</td>\n",
       "      <td>0.000000</td>\n",
       "    </tr>\n",
       "    <tr>\n",
       "      <th>3</th>\n",
       "      <td>0.0</td>\n",
       "      <td>0.000000</td>\n",
       "      <td>0.0</td>\n",
       "      <td>0.000000</td>\n",
       "      <td>0.0</td>\n",
       "      <td>0.0</td>\n",
       "      <td>0.0</td>\n",
       "      <td>0.0</td>\n",
       "      <td>0.0</td>\n",
       "      <td>0.0</td>\n",
       "      <td>...</td>\n",
       "      <td>0.0</td>\n",
       "      <td>0.0</td>\n",
       "      <td>0.0</td>\n",
       "      <td>0.0</td>\n",
       "      <td>0.0</td>\n",
       "      <td>0.0</td>\n",
       "      <td>0.000000</td>\n",
       "      <td>0.713475</td>\n",
       "      <td>0.0</td>\n",
       "      <td>0.000000</td>\n",
       "    </tr>\n",
       "    <tr>\n",
       "      <th>4</th>\n",
       "      <td>0.0</td>\n",
       "      <td>0.000000</td>\n",
       "      <td>0.0</td>\n",
       "      <td>0.000000</td>\n",
       "      <td>0.0</td>\n",
       "      <td>0.0</td>\n",
       "      <td>0.0</td>\n",
       "      <td>0.0</td>\n",
       "      <td>0.0</td>\n",
       "      <td>0.0</td>\n",
       "      <td>...</td>\n",
       "      <td>0.0</td>\n",
       "      <td>0.0</td>\n",
       "      <td>0.0</td>\n",
       "      <td>0.0</td>\n",
       "      <td>0.0</td>\n",
       "      <td>0.0</td>\n",
       "      <td>0.000000</td>\n",
       "      <td>0.000000</td>\n",
       "      <td>0.0</td>\n",
       "      <td>0.000000</td>\n",
       "    </tr>\n",
       "  </tbody>\n",
       "</table>\n",
       "<p>5 rows × 50 columns</p>\n",
       "</div>"
      ],
      "text/plain": [
       "   amp   android  app     apple  apps  austin  buy  case  check  come  ...  \\\n",
       "0  0.0  0.671824  0.0  0.000000   0.0     0.0  0.0   0.0    0.0   0.0  ...   \n",
       "1  0.0  0.000000  0.0  0.319290   0.0     0.0  0.0   0.0    0.0   0.0  ...   \n",
       "2  0.0  0.000000  0.0  0.198338   0.0     0.0  0.0   0.0    0.0   0.0  ...   \n",
       "3  0.0  0.000000  0.0  0.000000   0.0     0.0  0.0   0.0    0.0   0.0  ...   \n",
       "4  0.0  0.000000  0.0  0.000000   0.0     0.0  0.0   0.0    0.0   0.0  ...   \n",
       "\n",
       "   store  take  temporary  time  today  use       via      wait  want  \\\n",
       "0    0.0   0.0        0.0   0.0    0.0  0.0  0.000000  0.000000   0.0   \n",
       "1    0.0   0.0        0.0   0.0    0.0  0.0  0.677687  0.000000   0.0   \n",
       "2    0.0   0.0        0.0   0.0    0.0  0.0  0.000000  0.000000   0.0   \n",
       "3    0.0   0.0        0.0   0.0    0.0  0.0  0.000000  0.713475   0.0   \n",
       "4    0.0   0.0        0.0   0.0    0.0  0.0  0.000000  0.000000   0.0   \n",
       "\n",
       "        win  \n",
       "0  0.000000  \n",
       "1  0.662415  \n",
       "2  0.000000  \n",
       "3  0.000000  \n",
       "4  0.000000  \n",
       "\n",
       "[5 rows x 50 columns]"
      ]
     },
     "execution_count": 48,
     "metadata": {},
     "output_type": "execute_result"
    }
   ],
   "source": [
    "X_train_vec.head()"
   ]
  },
  {
   "cell_type": "code",
   "execution_count": 49,
   "id": "ef609dd0",
   "metadata": {},
   "outputs": [
    {
     "data": {
      "text/plain": [
       "emotion\n",
       "1          2108\n",
       "2          1596\n",
       "0           301\n",
       "dtype: int64"
      ]
     },
     "execution_count": 49,
     "metadata": {},
     "output_type": "execute_result"
    }
   ],
   "source": [
    "y_train.value_counts()"
   ]
  },
  {
   "cell_type": "markdown",
   "id": "7c10227b",
   "metadata": {},
   "source": [
    "### Preprocess Test"
   ]
  },
  {
   "cell_type": "code",
   "execution_count": 50,
   "id": "1465c617",
   "metadata": {},
   "outputs": [],
   "source": [
    "X_test['tweet'] = X_test['tweet'].apply(tokenizer.tokenize)"
   ]
  },
  {
   "cell_type": "code",
   "execution_count": 51,
   "id": "cb29f994",
   "metadata": {},
   "outputs": [],
   "source": [
    "X_test['tweet'] = X_test['tweet'].apply(remove_stops)"
   ]
  },
  {
   "cell_type": "code",
   "execution_count": 52,
   "id": "ba43ef67",
   "metadata": {},
   "outputs": [],
   "source": [
    "X_test['tweet'] = X_test['tweet'].apply(lemma)"
   ]
  },
  {
   "cell_type": "code",
   "execution_count": 53,
   "id": "720159b2",
   "metadata": {},
   "outputs": [],
   "source": [
    "X_test['tweet'] = X_test['tweet'].apply(remove_words)"
   ]
  },
  {
   "cell_type": "code",
   "execution_count": 54,
   "id": "1ca37fd5",
   "metadata": {},
   "outputs": [
    {
     "data": {
      "text/html": [
       "<div>\n",
       "<style scoped>\n",
       "    .dataframe tbody tr th:only-of-type {\n",
       "        vertical-align: middle;\n",
       "    }\n",
       "\n",
       "    .dataframe tbody tr th {\n",
       "        vertical-align: top;\n",
       "    }\n",
       "\n",
       "    .dataframe thead th {\n",
       "        text-align: right;\n",
       "    }\n",
       "</style>\n",
       "<table border=\"1\" class=\"dataframe\">\n",
       "  <thead>\n",
       "    <tr style=\"text-align: right;\">\n",
       "      <th></th>\n",
       "      <th>tweet</th>\n",
       "    </tr>\n",
       "  </thead>\n",
       "  <tbody>\n",
       "    <tr>\n",
       "      <th>8859</th>\n",
       "      <td>[mashable, talk, line, taker, many, spend, goo...</td>\n",
       "    </tr>\n",
       "    <tr>\n",
       "      <th>7275</th>\n",
       "      <td>[anyone, know, hour, apple, store]</td>\n",
       "    </tr>\n",
       "    <tr>\n",
       "      <th>8367</th>\n",
       "      <td>[day, late, night, party, pack, 30, session, d...</td>\n",
       "    </tr>\n",
       "    <tr>\n",
       "      <th>5993</th>\n",
       "      <td>[hey, iphone, love, turn, art, iphone, case, l...</td>\n",
       "    </tr>\n",
       "    <tr>\n",
       "      <th>5940</th>\n",
       "      <td>[get, crave, mind, create, app, foodspotting, ...</td>\n",
       "    </tr>\n",
       "    <tr>\n",
       "      <th>...</th>\n",
       "      <td>...</td>\n",
       "    </tr>\n",
       "    <tr>\n",
       "      <th>7910</th>\n",
       "      <td>[mark, third, time, someone, ask, watch, ipad,...</td>\n",
       "    </tr>\n",
       "    <tr>\n",
       "      <th>7682</th>\n",
       "      <td>[cnngrill, celebrate, piday, pecan, apple, str...</td>\n",
       "    </tr>\n",
       "    <tr>\n",
       "      <th>6140</th>\n",
       "      <td>[ipad, people, brilliant, spider, secret, bryc...</td>\n",
       "    </tr>\n",
       "    <tr>\n",
       "      <th>3322</th>\n",
       "      <td>[gonna, get, ipad2, apple, store, today, bet, ...</td>\n",
       "    </tr>\n",
       "    <tr>\n",
       "      <th>6911</th>\n",
       "      <td>[tr, wonder, many, come, back, ipad, maybe, ev...</td>\n",
       "    </tr>\n",
       "  </tbody>\n",
       "</table>\n",
       "<p>1336 rows × 1 columns</p>\n",
       "</div>"
      ],
      "text/plain": [
       "                                                  tweet\n",
       "8859  [mashable, talk, line, taker, many, spend, goo...\n",
       "7275                 [anyone, know, hour, apple, store]\n",
       "8367  [day, late, night, party, pack, 30, session, d...\n",
       "5993  [hey, iphone, love, turn, art, iphone, case, l...\n",
       "5940  [get, crave, mind, create, app, foodspotting, ...\n",
       "...                                                 ...\n",
       "7910  [mark, third, time, someone, ask, watch, ipad,...\n",
       "7682  [cnngrill, celebrate, piday, pecan, apple, str...\n",
       "6140  [ipad, people, brilliant, spider, secret, bryc...\n",
       "3322  [gonna, get, ipad2, apple, store, today, bet, ...\n",
       "6911  [tr, wonder, many, come, back, ipad, maybe, ev...\n",
       "\n",
       "[1336 rows x 1 columns]"
      ]
     },
     "execution_count": 54,
     "metadata": {},
     "output_type": "execute_result"
    }
   ],
   "source": [
    "X_test"
   ]
  },
  {
   "cell_type": "markdown",
   "id": "e53499d0",
   "metadata": {},
   "source": [
    "#### Vectorizing Test"
   ]
  },
  {
   "cell_type": "code",
   "execution_count": 55,
   "id": "680b0b01",
   "metadata": {},
   "outputs": [],
   "source": [
    "for i, row in X_test.iterrows():\n",
    "    joined_tweet = \" \".join(X_test['tweet'][i])\n",
    "    X_test['tweet'][i] = joined_tweet  "
   ]
  },
  {
   "cell_type": "code",
   "execution_count": 56,
   "id": "9e1897c6",
   "metadata": {},
   "outputs": [],
   "source": [
    "X_test_vec = tf.transform(X_test['tweet'])"
   ]
  },
  {
   "cell_type": "markdown",
   "id": "5c173d9c",
   "metadata": {},
   "source": [
    "# First Model - Decision Tree Classifier"
   ]
  },
  {
   "cell_type": "code",
   "execution_count": 57,
   "id": "20a853d3",
   "metadata": {},
   "outputs": [],
   "source": [
    "dt = DecisionTreeClassifier(max_depth=3, random_state=1)"
   ]
  },
  {
   "cell_type": "code",
   "execution_count": 58,
   "id": "33c900f3",
   "metadata": {},
   "outputs": [
    {
     "data": {
      "text/plain": [
       "DecisionTreeClassifier(max_depth=3, random_state=1)"
      ]
     },
     "execution_count": 58,
     "metadata": {},
     "output_type": "execute_result"
    }
   ],
   "source": [
    "dt.fit(X_train_vec, y_train)"
   ]
  },
  {
   "cell_type": "code",
   "execution_count": 59,
   "id": "da467587",
   "metadata": {},
   "outputs": [
    {
     "data": {
      "text/plain": [
       "<sklearn.metrics._plot.confusion_matrix.ConfusionMatrixDisplay at 0x7fcefcee46a0>"
      ]
     },
     "execution_count": 59,
     "metadata": {},
     "output_type": "execute_result"
    },
    {
     "data": {
      "image/png": "[encoded data removed]",
      "text/plain": [
       "<Figure size 640x480 with 2 Axes>"
      ]
     },
     "metadata": {},
     "output_type": "display_data"
    }
   ],
   "source": [
    "plot_confusion_matrix(dt, X_test_vec, y_test)"
   ]
  },
  {
   "cell_type": "code",
   "execution_count": 60,
   "id": "578eda7f",
   "metadata": {},
   "outputs": [
    {
     "data": {
      "text/plain": [
       "[Text(0.5769230769230769, 0.875, 'X[10] <= 0.43\\ngini = 0.559\\nsamples = 4005\\nvalue = [301, 2108, 1596]'),\n",
       " Text(0.3076923076923077, 0.625, 'X[2] <= 0.569\\ngini = 0.557\\nsamples = 3921\\nvalue = [300, 2099, 1522]'),\n",
       " Text(0.15384615384615385, 0.375, 'X[1] <= 0.138\\ngini = 0.553\\nsamples = 3769\\nvalue = [283, 2053, 1433]'),\n",
       " Text(0.07692307692307693, 0.125, 'gini = 0.557\\nsamples = 3635\\nvalue = [278, 1950, 1407]'),\n",
       " Text(0.23076923076923078, 0.125, 'gini = 0.37\\nsamples = 134\\nvalue = [5, 103, 26]'),\n",
       " Text(0.46153846153846156, 0.375, 'X[2] <= 0.637\\ngini = 0.553\\nsamples = 152\\nvalue = [17, 46, 89]'),\n",
       " Text(0.38461538461538464, 0.125, 'gini = 0.257\\nsamples = 33\\nvalue = [0, 5, 28]'),\n",
       " Text(0.5384615384615384, 0.125, 'gini = 0.598\\nsamples = 119\\nvalue = [17, 41, 61]'),\n",
       " Text(0.8461538461538461, 0.625, 'X[0] <= 0.19\\ngini = 0.212\\nsamples = 84\\nvalue = [1, 9, 74]'),\n",
       " Text(0.7692307692307693, 0.375, 'X[35] <= 0.213\\ngini = 0.178\\nsamples = 82\\nvalue = [1, 7, 74]'),\n",
       " Text(0.6923076923076923, 0.125, 'gini = 0.16\\nsamples = 81\\nvalue = [1, 6, 74]'),\n",
       " Text(0.8461538461538461, 0.125, 'gini = 0.0\\nsamples = 1\\nvalue = [0, 1, 0]'),\n",
       " Text(0.9230769230769231, 0.375, 'gini = 0.0\\nsamples = 2\\nvalue = [0, 2, 0]')]"
      ]
     },
     "execution_count": 60,
     "metadata": {},
     "output_type": "execute_result"
    },
    {
     "data": {
      "image/png": "[encoded data removed]",
      "text/plain": [
       "<Figure size 640x480 with 1 Axes>"
      ]
     },
     "metadata": {},
     "output_type": "display_data"
    }
   ],
   "source": [
    "plot_tree(dt)"
   ]
  },
  {
   "cell_type": "code",
   "execution_count": 61,
   "id": "167e911e",
   "metadata": {},
   "outputs": [
    {
     "data": {
      "text/plain": [
       "0.5561377245508982"
      ]
     },
     "execution_count": 61,
     "metadata": {},
     "output_type": "execute_result"
    }
   ],
   "source": [
    "dt.score(X_test_vec, y_test)"
   ]
  },
  {
   "cell_type": "code",
   "execution_count": 62,
   "id": "b6c38275",
   "metadata": {},
   "outputs": [
    {
     "data": {
      "text/plain": [
       "0.5540574282147316"
      ]
     },
     "execution_count": 62,
     "metadata": {},
     "output_type": "execute_result"
    }
   ],
   "source": [
    "dt.score(X_train_vec, y_train)"
   ]
  },
  {
   "cell_type": "code",
   "execution_count": 64,
   "id": "d04f252b",
   "metadata": {
    "scrolled": true
   },
   "outputs": [
    {
     "data": {
      "text/html": [
       "<div>\n",
       "<style scoped>\n",
       "    .dataframe tbody tr th:only-of-type {\n",
       "        vertical-align: middle;\n",
       "    }\n",
       "\n",
       "    .dataframe tbody tr th {\n",
       "        vertical-align: top;\n",
       "    }\n",
       "\n",
       "    .dataframe thead th {\n",
       "        text-align: right;\n",
       "    }\n",
       "</style>\n",
       "<table border=\"1\" class=\"dataframe\">\n",
       "  <thead>\n",
       "    <tr style=\"text-align: right;\">\n",
       "      <th></th>\n",
       "      <th>Important</th>\n",
       "    </tr>\n",
       "  </thead>\n",
       "  <tbody>\n",
       "    <tr>\n",
       "      <th>cool</th>\n",
       "      <td>0.494347</td>\n",
       "    </tr>\n",
       "    <tr>\n",
       "      <th>app</th>\n",
       "      <td>0.269907</td>\n",
       "    </tr>\n",
       "    <tr>\n",
       "      <th>android</th>\n",
       "      <td>0.167372</td>\n",
       "    </tr>\n",
       "    <tr>\n",
       "      <th>amp</th>\n",
       "      <td>0.045027</td>\n",
       "    </tr>\n",
       "    <tr>\n",
       "      <th>popup</th>\n",
       "      <td>0.023347</td>\n",
       "    </tr>\n",
       "    <tr>\n",
       "      <th>wait</th>\n",
       "      <td>0.000000</td>\n",
       "    </tr>\n",
       "    <tr>\n",
       "      <th>via</th>\n",
       "      <td>0.000000</td>\n",
       "    </tr>\n",
       "    <tr>\n",
       "      <th>mobile</th>\n",
       "      <td>0.000000</td>\n",
       "    </tr>\n",
       "    <tr>\n",
       "      <th>need</th>\n",
       "      <td>0.000000</td>\n",
       "    </tr>\n",
       "    <tr>\n",
       "      <th>new</th>\n",
       "      <td>0.000000</td>\n",
       "    </tr>\n",
       "    <tr>\n",
       "      <th>one</th>\n",
       "      <td>0.000000</td>\n",
       "    </tr>\n",
       "    <tr>\n",
       "      <th>open</th>\n",
       "      <td>0.000000</td>\n",
       "    </tr>\n",
       "    <tr>\n",
       "      <th>people</th>\n",
       "      <td>0.000000</td>\n",
       "    </tr>\n",
       "    <tr>\n",
       "      <th>pop</th>\n",
       "      <td>0.000000</td>\n",
       "    </tr>\n",
       "    <tr>\n",
       "      <th>see</th>\n",
       "      <td>0.000000</td>\n",
       "    </tr>\n",
       "    <tr>\n",
       "      <th>set</th>\n",
       "      <td>0.000000</td>\n",
       "    </tr>\n",
       "    <tr>\n",
       "      <th>shop</th>\n",
       "      <td>0.000000</td>\n",
       "    </tr>\n",
       "    <tr>\n",
       "      <th>make</th>\n",
       "      <td>0.000000</td>\n",
       "    </tr>\n",
       "    <tr>\n",
       "      <th>store</th>\n",
       "      <td>0.000000</td>\n",
       "    </tr>\n",
       "    <tr>\n",
       "      <th>take</th>\n",
       "      <td>0.000000</td>\n",
       "    </tr>\n",
       "    <tr>\n",
       "      <th>want</th>\n",
       "      <td>0.000000</td>\n",
       "    </tr>\n",
       "    <tr>\n",
       "      <th>temporary</th>\n",
       "      <td>0.000000</td>\n",
       "    </tr>\n",
       "    <tr>\n",
       "      <th>time</th>\n",
       "      <td>0.000000</td>\n",
       "    </tr>\n",
       "    <tr>\n",
       "      <th>today</th>\n",
       "      <td>0.000000</td>\n",
       "    </tr>\n",
       "    <tr>\n",
       "      <th>use</th>\n",
       "      <td>0.000000</td>\n",
       "    </tr>\n",
       "    <tr>\n",
       "      <th>show</th>\n",
       "      <td>0.000000</td>\n",
       "    </tr>\n",
       "    <tr>\n",
       "      <th>line</th>\n",
       "      <td>0.000000</td>\n",
       "    </tr>\n",
       "    <tr>\n",
       "      <th>look</th>\n",
       "      <td>0.000000</td>\n",
       "    </tr>\n",
       "    <tr>\n",
       "      <th>downtown</th>\n",
       "      <td>0.000000</td>\n",
       "    </tr>\n",
       "    <tr>\n",
       "      <th>apple</th>\n",
       "      <td>0.000000</td>\n",
       "    </tr>\n",
       "    <tr>\n",
       "      <th>apps</th>\n",
       "      <td>0.000000</td>\n",
       "    </tr>\n",
       "    <tr>\n",
       "      <th>austin</th>\n",
       "      <td>0.000000</td>\n",
       "    </tr>\n",
       "    <tr>\n",
       "      <th>buy</th>\n",
       "      <td>0.000000</td>\n",
       "    </tr>\n",
       "    <tr>\n",
       "      <th>case</th>\n",
       "      <td>0.000000</td>\n",
       "    </tr>\n",
       "    <tr>\n",
       "      <th>check</th>\n",
       "      <td>0.000000</td>\n",
       "    </tr>\n",
       "    <tr>\n",
       "      <th>come</th>\n",
       "      <td>0.000000</td>\n",
       "    </tr>\n",
       "    <tr>\n",
       "      <th>day</th>\n",
       "      <td>0.000000</td>\n",
       "    </tr>\n",
       "    <tr>\n",
       "      <th>design</th>\n",
       "      <td>0.000000</td>\n",
       "    </tr>\n",
       "    <tr>\n",
       "      <th>free</th>\n",
       "      <td>0.000000</td>\n",
       "    </tr>\n",
       "    <tr>\n",
       "      <th>like</th>\n",
       "      <td>0.000000</td>\n",
       "    </tr>\n",
       "    <tr>\n",
       "      <th>get</th>\n",
       "      <td>0.000000</td>\n",
       "    </tr>\n",
       "    <tr>\n",
       "      <th>give</th>\n",
       "      <td>0.000000</td>\n",
       "    </tr>\n",
       "    <tr>\n",
       "      <th>go</th>\n",
       "      <td>0.000000</td>\n",
       "    </tr>\n",
       "    <tr>\n",
       "      <th>guy</th>\n",
       "      <td>0.000000</td>\n",
       "    </tr>\n",
       "    <tr>\n",
       "      <th>ipad</th>\n",
       "      <td>0.000000</td>\n",
       "    </tr>\n",
       "    <tr>\n",
       "      <th>ipad2</th>\n",
       "      <td>0.000000</td>\n",
       "    </tr>\n",
       "    <tr>\n",
       "      <th>iphone</th>\n",
       "      <td>0.000000</td>\n",
       "    </tr>\n",
       "    <tr>\n",
       "      <th>know</th>\n",
       "      <td>0.000000</td>\n",
       "    </tr>\n",
       "    <tr>\n",
       "      <th>launch</th>\n",
       "      <td>0.000000</td>\n",
       "    </tr>\n",
       "    <tr>\n",
       "      <th>win</th>\n",
       "      <td>0.000000</td>\n",
       "    </tr>\n",
       "  </tbody>\n",
       "</table>\n",
       "</div>"
      ],
      "text/plain": [
       "           Important\n",
       "cool        0.494347\n",
       "app         0.269907\n",
       "android     0.167372\n",
       "amp         0.045027\n",
       "popup       0.023347\n",
       "wait        0.000000\n",
       "via         0.000000\n",
       "mobile      0.000000\n",
       "need        0.000000\n",
       "new         0.000000\n",
       "one         0.000000\n",
       "open        0.000000\n",
       "people      0.000000\n",
       "pop         0.000000\n",
       "see         0.000000\n",
       "set         0.000000\n",
       "shop        0.000000\n",
       "make        0.000000\n",
       "store       0.000000\n",
       "take        0.000000\n",
       "want        0.000000\n",
       "temporary   0.000000\n",
       "time        0.000000\n",
       "today       0.000000\n",
       "use         0.000000\n",
       "show        0.000000\n",
       "line        0.000000\n",
       "look        0.000000\n",
       "downtown    0.000000\n",
       "apple       0.000000\n",
       "apps        0.000000\n",
       "austin      0.000000\n",
       "buy         0.000000\n",
       "case        0.000000\n",
       "check       0.000000\n",
       "come        0.000000\n",
       "day         0.000000\n",
       "design      0.000000\n",
       "free        0.000000\n",
       "like        0.000000\n",
       "get         0.000000\n",
       "give        0.000000\n",
       "go          0.000000\n",
       "guy         0.000000\n",
       "ipad        0.000000\n",
       "ipad2       0.000000\n",
       "iphone      0.000000\n",
       "know        0.000000\n",
       "launch      0.000000\n",
       "win         0.000000"
      ]
     },
     "execution_count": 64,
     "metadata": {},
     "output_type": "execute_result"
    }
   ],
   "source": [
    "features=X_train_vec.columns.tolist()\n",
    "important = dt.feature_importances_\n",
    "important_features = pd.DataFrame(important, index=features, columns=['Important'])\n",
    "important_features.sort_values('Important', ascending=False)"
   ]
  },
  {
   "cell_type": "markdown",
   "id": "9d49dfa2",
   "metadata": {},
   "source": [
    "#### Interpretation"
   ]
  },
  {
   "cell_type": "markdown",
   "id": "33c429d1",
   "metadata": {},
   "source": [
    "Most of the important words are the products/companies. We still have some cleaning to remove words that dont offer any sentiment. "
   ]
  },
  {
   "cell_type": "markdown",
   "id": "9428623c",
   "metadata": {},
   "source": [
    "## Second round of preprocessing"
   ]
  },
  {
   "cell_type": "code",
   "execution_count": 65,
   "id": "d8114213",
   "metadata": {},
   "outputs": [],
   "source": [
    "#function that iterates over tweets\n",
    "#returns a cleaned tweet in new col \n",
    "#does not contain words from a specified list\n",
    "\n",
    "def clean_tweets(df, remove_list):\n",
    "    clean_tweets = []\n",
    "    for tweet in df['tweet']:\n",
    "        words = tweet.split()\n",
    "        clean_words = [x for x in words if x not in remove_list]\n",
    "        clean_tweet = ' '.join(clean_words)\n",
    "        clean_tweets.append(clean_tweet)\n",
    "    df['clean_tweet'] = clean_tweets\n",
    "    return df"
   ]
  },
  {
   "cell_type": "code",
   "execution_count": 66,
   "id": "3f28b397",
   "metadata": {},
   "outputs": [
    {
     "data": {
      "text/html": [
       "<div>\n",
       "<style scoped>\n",
       "    .dataframe tbody tr th:only-of-type {\n",
       "        vertical-align: middle;\n",
       "    }\n",
       "\n",
       "    .dataframe tbody tr th {\n",
       "        vertical-align: top;\n",
       "    }\n",
       "\n",
       "    .dataframe thead th {\n",
       "        text-align: right;\n",
       "    }\n",
       "</style>\n",
       "<table border=\"1\" class=\"dataframe\">\n",
       "  <thead>\n",
       "    <tr style=\"text-align: right;\">\n",
       "      <th></th>\n",
       "      <th>tweet</th>\n",
       "      <th>clean_tweet</th>\n",
       "    </tr>\n",
       "  </thead>\n",
       "  <tbody>\n",
       "    <tr>\n",
       "      <th>5292</th>\n",
       "      <td>go available platform iphone ipad android wind...</td>\n",
       "      <td>go available platform ipad window phone blackb...</td>\n",
       "    </tr>\n",
       "    <tr>\n",
       "      <th>472</th>\n",
       "      <td>even begin apple win via</td>\n",
       "      <td>even begin win</td>\n",
       "    </tr>\n",
       "    <tr>\n",
       "      <th>7548</th>\n",
       "      <td>csr report janecek microsoft give charity appl...</td>\n",
       "      <td>csr report janecek microsoft give charity give...</td>\n",
       "    </tr>\n",
       "    <tr>\n",
       "      <th>7123</th>\n",
       "      <td>wait session start touch story design digital ...</td>\n",
       "      <td>wait session start touch story design digital ...</td>\n",
       "    </tr>\n",
       "    <tr>\n",
       "      <th>6436</th>\n",
       "      <td>part journalsim support democracy yes inform p...</td>\n",
       "      <td>part journalsim support democracy yes inform p...</td>\n",
       "    </tr>\n",
       "  </tbody>\n",
       "</table>\n",
       "</div>"
      ],
      "text/plain": [
       "                                                  tweet  \\\n",
       "5292  go available platform iphone ipad android wind...   \n",
       "472                            even begin apple win via   \n",
       "7548  csr report janecek microsoft give charity appl...   \n",
       "7123  wait session start touch story design digital ...   \n",
       "6436  part journalsim support democracy yes inform p...   \n",
       "\n",
       "                                            clean_tweet  \n",
       "5292  go available platform ipad window phone blackb...  \n",
       "472                                      even begin win  \n",
       "7548  csr report janecek microsoft give charity give...  \n",
       "7123  wait session start touch story design digital ...  \n",
       "6436  part journalsim support democracy yes inform p...  "
      ]
     },
     "execution_count": 66,
     "metadata": {},
     "output_type": "execute_result"
    }
   ],
   "source": [
    "remove2 = ['amp', 'via', 'android', 'app', 'apps', 'apple', 'iphone']\n",
    "\n",
    "X_train2 = clean_tweets(X_train, remove2)\n",
    "X_train2.head()"
   ]
  },
  {
   "cell_type": "code",
   "execution_count": 67,
   "id": "f23ad084",
   "metadata": {},
   "outputs": [
    {
     "data": {
      "text/html": [
       "<div>\n",
       "<style scoped>\n",
       "    .dataframe tbody tr th:only-of-type {\n",
       "        vertical-align: middle;\n",
       "    }\n",
       "\n",
       "    .dataframe tbody tr th {\n",
       "        vertical-align: top;\n",
       "    }\n",
       "\n",
       "    .dataframe thead th {\n",
       "        text-align: right;\n",
       "    }\n",
       "</style>\n",
       "<table border=\"1\" class=\"dataframe\">\n",
       "  <thead>\n",
       "    <tr style=\"text-align: right;\">\n",
       "      <th></th>\n",
       "      <th>tweet</th>\n",
       "      <th>clean_tweet</th>\n",
       "    </tr>\n",
       "  </thead>\n",
       "  <tbody>\n",
       "    <tr>\n",
       "      <th>8859</th>\n",
       "      <td>mashable talk line taker many spend good part ...</td>\n",
       "      <td>mashable talk line taker many spend good part ...</td>\n",
       "    </tr>\n",
       "    <tr>\n",
       "      <th>7275</th>\n",
       "      <td>anyone know hour apple store</td>\n",
       "      <td>anyone know hour store</td>\n",
       "    </tr>\n",
       "    <tr>\n",
       "      <th>8367</th>\n",
       "      <td>day late night party pack 30 session design ip...</td>\n",
       "      <td>day late night party pack 30 session design ip...</td>\n",
       "    </tr>\n",
       "    <tr>\n",
       "      <th>5993</th>\n",
       "      <td>hey iphone love turn art iphone case let u kno...</td>\n",
       "      <td>hey love turn art case let u know zazzlesxsw</td>\n",
       "    </tr>\n",
       "    <tr>\n",
       "      <th>5940</th>\n",
       "      <td>get crave mind create app foodspotting iphone ...</td>\n",
       "      <td>get crave mind create foodspotting</td>\n",
       "    </tr>\n",
       "  </tbody>\n",
       "</table>\n",
       "</div>"
      ],
      "text/plain": [
       "                                                  tweet  \\\n",
       "8859  mashable talk line taker many spend good part ...   \n",
       "7275                       anyone know hour apple store   \n",
       "8367  day late night party pack 30 session design ip...   \n",
       "5993  hey iphone love turn art iphone case let u kno...   \n",
       "5940  get crave mind create app foodspotting iphone ...   \n",
       "\n",
       "                                            clean_tweet  \n",
       "8859  mashable talk line taker many spend good part ...  \n",
       "7275                             anyone know hour store  \n",
       "8367  day late night party pack 30 session design ip...  \n",
       "5993       hey love turn art case let u know zazzlesxsw  \n",
       "5940                 get crave mind create foodspotting  "
      ]
     },
     "execution_count": 67,
     "metadata": {},
     "output_type": "execute_result"
    }
   ],
   "source": [
    "#clean X_test\n",
    "X_test2 = clean_tweets(X_test,remove2)\n",
    "X_test2.head()"
   ]
  },
  {
   "cell_type": "code",
   "execution_count": 68,
   "id": "4012b271",
   "metadata": {},
   "outputs": [],
   "source": [
    "X_train2 = X_train2.drop(['tweet'], axis=1)"
   ]
  },
  {
   "cell_type": "code",
   "execution_count": 69,
   "id": "f805e4f6",
   "metadata": {},
   "outputs": [
    {
     "data": {
      "text/html": [
       "<div>\n",
       "<style scoped>\n",
       "    .dataframe tbody tr th:only-of-type {\n",
       "        vertical-align: middle;\n",
       "    }\n",
       "\n",
       "    .dataframe tbody tr th {\n",
       "        vertical-align: top;\n",
       "    }\n",
       "\n",
       "    .dataframe thead th {\n",
       "        text-align: right;\n",
       "    }\n",
       "</style>\n",
       "<table border=\"1\" class=\"dataframe\">\n",
       "  <thead>\n",
       "    <tr style=\"text-align: right;\">\n",
       "      <th></th>\n",
       "      <th>tweet</th>\n",
       "    </tr>\n",
       "  </thead>\n",
       "  <tbody>\n",
       "    <tr>\n",
       "      <th>5292</th>\n",
       "      <td>go available platform ipad window phone blackb...</td>\n",
       "    </tr>\n",
       "    <tr>\n",
       "      <th>472</th>\n",
       "      <td>even begin win</td>\n",
       "    </tr>\n",
       "    <tr>\n",
       "      <th>7548</th>\n",
       "      <td>csr report janecek microsoft give charity give...</td>\n",
       "    </tr>\n",
       "    <tr>\n",
       "      <th>7123</th>\n",
       "      <td>wait session start touch story design digital ...</td>\n",
       "    </tr>\n",
       "    <tr>\n",
       "      <th>6436</th>\n",
       "      <td>part journalsim support democracy yes inform p...</td>\n",
       "    </tr>\n",
       "  </tbody>\n",
       "</table>\n",
       "</div>"
      ],
      "text/plain": [
       "                                                  tweet\n",
       "5292  go available platform ipad window phone blackb...\n",
       "472                                      even begin win\n",
       "7548  csr report janecek microsoft give charity give...\n",
       "7123  wait session start touch story design digital ...\n",
       "6436  part journalsim support democracy yes inform p..."
      ]
     },
     "execution_count": 69,
     "metadata": {},
     "output_type": "execute_result"
    }
   ],
   "source": [
    "X_train2 = X_train2.rename(columns= {'clean_tweet': 'tweet'})\n",
    "X_train2.head()"
   ]
  },
  {
   "cell_type": "code",
   "execution_count": 70,
   "id": "4445cac1",
   "metadata": {},
   "outputs": [
    {
     "data": {
      "text/html": [
       "<div>\n",
       "<style scoped>\n",
       "    .dataframe tbody tr th:only-of-type {\n",
       "        vertical-align: middle;\n",
       "    }\n",
       "\n",
       "    .dataframe tbody tr th {\n",
       "        vertical-align: top;\n",
       "    }\n",
       "\n",
       "    .dataframe thead th {\n",
       "        text-align: right;\n",
       "    }\n",
       "</style>\n",
       "<table border=\"1\" class=\"dataframe\">\n",
       "  <thead>\n",
       "    <tr style=\"text-align: right;\">\n",
       "      <th></th>\n",
       "      <th>clean_tweet</th>\n",
       "    </tr>\n",
       "  </thead>\n",
       "  <tbody>\n",
       "    <tr>\n",
       "      <th>8859</th>\n",
       "      <td>mashable talk line taker many spend good part ...</td>\n",
       "    </tr>\n",
       "    <tr>\n",
       "      <th>7275</th>\n",
       "      <td>anyone know hour store</td>\n",
       "    </tr>\n",
       "    <tr>\n",
       "      <th>8367</th>\n",
       "      <td>day late night party pack 30 session design ip...</td>\n",
       "    </tr>\n",
       "    <tr>\n",
       "      <th>5993</th>\n",
       "      <td>hey love turn art case let u know zazzlesxsw</td>\n",
       "    </tr>\n",
       "    <tr>\n",
       "      <th>5940</th>\n",
       "      <td>get crave mind create foodspotting</td>\n",
       "    </tr>\n",
       "    <tr>\n",
       "      <th>...</th>\n",
       "      <td>...</td>\n",
       "    </tr>\n",
       "    <tr>\n",
       "      <th>7910</th>\n",
       "      <td>mark third time someone ask watch ipad hit res...</td>\n",
       "    </tr>\n",
       "    <tr>\n",
       "      <th>7682</th>\n",
       "      <td>cnngrill celebrate piday pecan strawberry rhub...</td>\n",
       "    </tr>\n",
       "    <tr>\n",
       "      <th>6140</th>\n",
       "      <td>ipad people brilliant spider secret bryce mano...</td>\n",
       "    </tr>\n",
       "    <tr>\n",
       "      <th>3322</th>\n",
       "      <td>gonna get ipad2 store today bet que get big ip...</td>\n",
       "    </tr>\n",
       "    <tr>\n",
       "      <th>6911</th>\n",
       "      <td>tr wonder many come back ipad maybe everyone</td>\n",
       "    </tr>\n",
       "  </tbody>\n",
       "</table>\n",
       "<p>1336 rows × 1 columns</p>\n",
       "</div>"
      ],
      "text/plain": [
       "                                            clean_tweet\n",
       "8859  mashable talk line taker many spend good part ...\n",
       "7275                             anyone know hour store\n",
       "8367  day late night party pack 30 session design ip...\n",
       "5993       hey love turn art case let u know zazzlesxsw\n",
       "5940                 get crave mind create foodspotting\n",
       "...                                                 ...\n",
       "7910  mark third time someone ask watch ipad hit res...\n",
       "7682  cnngrill celebrate piday pecan strawberry rhub...\n",
       "6140  ipad people brilliant spider secret bryce mano...\n",
       "3322  gonna get ipad2 store today bet que get big ip...\n",
       "6911       tr wonder many come back ipad maybe everyone\n",
       "\n",
       "[1336 rows x 1 columns]"
      ]
     },
     "execution_count": 70,
     "metadata": {},
     "output_type": "execute_result"
    }
   ],
   "source": [
    "X_test2 = X_test2.drop(['tweet'], axis=1)\n",
    "X_test2"
   ]
  },
  {
   "cell_type": "code",
   "execution_count": 71,
   "id": "e3e3ae2a",
   "metadata": {},
   "outputs": [
    {
     "data": {
      "text/html": [
       "<div>\n",
       "<style scoped>\n",
       "    .dataframe tbody tr th:only-of-type {\n",
       "        vertical-align: middle;\n",
       "    }\n",
       "\n",
       "    .dataframe tbody tr th {\n",
       "        vertical-align: top;\n",
       "    }\n",
       "\n",
       "    .dataframe thead th {\n",
       "        text-align: right;\n",
       "    }\n",
       "</style>\n",
       "<table border=\"1\" class=\"dataframe\">\n",
       "  <thead>\n",
       "    <tr style=\"text-align: right;\">\n",
       "      <th></th>\n",
       "      <th>tweet</th>\n",
       "    </tr>\n",
       "  </thead>\n",
       "  <tbody>\n",
       "    <tr>\n",
       "      <th>8859</th>\n",
       "      <td>mashable talk line taker many spend good part ...</td>\n",
       "    </tr>\n",
       "    <tr>\n",
       "      <th>7275</th>\n",
       "      <td>anyone know hour store</td>\n",
       "    </tr>\n",
       "    <tr>\n",
       "      <th>8367</th>\n",
       "      <td>day late night party pack 30 session design ip...</td>\n",
       "    </tr>\n",
       "    <tr>\n",
       "      <th>5993</th>\n",
       "      <td>hey love turn art case let u know zazzlesxsw</td>\n",
       "    </tr>\n",
       "    <tr>\n",
       "      <th>5940</th>\n",
       "      <td>get crave mind create foodspotting</td>\n",
       "    </tr>\n",
       "  </tbody>\n",
       "</table>\n",
       "</div>"
      ],
      "text/plain": [
       "                                                  tweet\n",
       "8859  mashable talk line taker many spend good part ...\n",
       "7275                             anyone know hour store\n",
       "8367  day late night party pack 30 session design ip...\n",
       "5993       hey love turn art case let u know zazzlesxsw\n",
       "5940                 get crave mind create foodspotting"
      ]
     },
     "execution_count": 71,
     "metadata": {},
     "output_type": "execute_result"
    }
   ],
   "source": [
    "X_test2 = X_test2.rename(columns= {'clean_tweet': 'tweet'})\n",
    "X_test2.head()"
   ]
  },
  {
   "cell_type": "markdown",
   "id": "22877b78",
   "metadata": {},
   "source": [
    "### vectorizing new x_train and x_test"
   ]
  },
  {
   "cell_type": "code",
   "execution_count": 72,
   "id": "a90b76dc",
   "metadata": {},
   "outputs": [],
   "source": [
    "tf2 = TfidfVectorizer(max_features=50)\n",
    "\n",
    "X_train_vec2 = tf2.fit_transform(X_train2['tweet'])"
   ]
  },
  {
   "cell_type": "code",
   "execution_count": 73,
   "id": "0765faa6",
   "metadata": {},
   "outputs": [
    {
     "data": {
      "text/html": [
       "<div>\n",
       "<style scoped>\n",
       "    .dataframe tbody tr th:only-of-type {\n",
       "        vertical-align: middle;\n",
       "    }\n",
       "\n",
       "    .dataframe tbody tr th {\n",
       "        vertical-align: top;\n",
       "    }\n",
       "\n",
       "    .dataframe thead th {\n",
       "        text-align: right;\n",
       "    }\n",
       "</style>\n",
       "<table border=\"1\" class=\"dataframe\">\n",
       "  <thead>\n",
       "    <tr style=\"text-align: right;\">\n",
       "      <th></th>\n",
       "      <th>austin</th>\n",
       "      <th>buy</th>\n",
       "      <th>case</th>\n",
       "      <th>check</th>\n",
       "      <th>come</th>\n",
       "      <th>cool</th>\n",
       "      <th>day</th>\n",
       "      <th>design</th>\n",
       "      <th>downtown</th>\n",
       "      <th>first</th>\n",
       "      <th>...</th>\n",
       "      <th>store</th>\n",
       "      <th>take</th>\n",
       "      <th>temporary</th>\n",
       "      <th>think</th>\n",
       "      <th>time</th>\n",
       "      <th>today</th>\n",
       "      <th>use</th>\n",
       "      <th>wait</th>\n",
       "      <th>want</th>\n",
       "      <th>win</th>\n",
       "    </tr>\n",
       "  </thead>\n",
       "  <tbody>\n",
       "    <tr>\n",
       "      <th>0</th>\n",
       "      <td>0.0</td>\n",
       "      <td>0.0</td>\n",
       "      <td>0.0</td>\n",
       "      <td>0.0</td>\n",
       "      <td>0.0</td>\n",
       "      <td>0.0</td>\n",
       "      <td>0.0</td>\n",
       "      <td>0.000000</td>\n",
       "      <td>0.0</td>\n",
       "      <td>0.0</td>\n",
       "      <td>...</td>\n",
       "      <td>0.0</td>\n",
       "      <td>0.0</td>\n",
       "      <td>0.0</td>\n",
       "      <td>0.0</td>\n",
       "      <td>0.0</td>\n",
       "      <td>0.0</td>\n",
       "      <td>0.0</td>\n",
       "      <td>0.000000</td>\n",
       "      <td>0.0</td>\n",
       "      <td>0.0</td>\n",
       "    </tr>\n",
       "    <tr>\n",
       "      <th>1</th>\n",
       "      <td>0.0</td>\n",
       "      <td>0.0</td>\n",
       "      <td>0.0</td>\n",
       "      <td>0.0</td>\n",
       "      <td>0.0</td>\n",
       "      <td>0.0</td>\n",
       "      <td>0.0</td>\n",
       "      <td>0.000000</td>\n",
       "      <td>0.0</td>\n",
       "      <td>0.0</td>\n",
       "      <td>...</td>\n",
       "      <td>0.0</td>\n",
       "      <td>0.0</td>\n",
       "      <td>0.0</td>\n",
       "      <td>0.0</td>\n",
       "      <td>0.0</td>\n",
       "      <td>0.0</td>\n",
       "      <td>0.0</td>\n",
       "      <td>0.000000</td>\n",
       "      <td>0.0</td>\n",
       "      <td>1.0</td>\n",
       "    </tr>\n",
       "    <tr>\n",
       "      <th>2</th>\n",
       "      <td>0.0</td>\n",
       "      <td>0.0</td>\n",
       "      <td>0.0</td>\n",
       "      <td>0.0</td>\n",
       "      <td>0.0</td>\n",
       "      <td>0.0</td>\n",
       "      <td>0.0</td>\n",
       "      <td>0.000000</td>\n",
       "      <td>0.0</td>\n",
       "      <td>0.0</td>\n",
       "      <td>...</td>\n",
       "      <td>0.0</td>\n",
       "      <td>0.0</td>\n",
       "      <td>0.0</td>\n",
       "      <td>0.0</td>\n",
       "      <td>0.0</td>\n",
       "      <td>0.0</td>\n",
       "      <td>0.0</td>\n",
       "      <td>0.000000</td>\n",
       "      <td>0.0</td>\n",
       "      <td>0.0</td>\n",
       "    </tr>\n",
       "    <tr>\n",
       "      <th>3</th>\n",
       "      <td>0.0</td>\n",
       "      <td>0.0</td>\n",
       "      <td>0.0</td>\n",
       "      <td>0.0</td>\n",
       "      <td>0.0</td>\n",
       "      <td>0.0</td>\n",
       "      <td>0.0</td>\n",
       "      <td>0.643878</td>\n",
       "      <td>0.0</td>\n",
       "      <td>0.0</td>\n",
       "      <td>...</td>\n",
       "      <td>0.0</td>\n",
       "      <td>0.0</td>\n",
       "      <td>0.0</td>\n",
       "      <td>0.0</td>\n",
       "      <td>0.0</td>\n",
       "      <td>0.0</td>\n",
       "      <td>0.0</td>\n",
       "      <td>0.713475</td>\n",
       "      <td>0.0</td>\n",
       "      <td>0.0</td>\n",
       "    </tr>\n",
       "    <tr>\n",
       "      <th>4</th>\n",
       "      <td>0.0</td>\n",
       "      <td>0.0</td>\n",
       "      <td>0.0</td>\n",
       "      <td>0.0</td>\n",
       "      <td>0.0</td>\n",
       "      <td>0.0</td>\n",
       "      <td>0.0</td>\n",
       "      <td>0.000000</td>\n",
       "      <td>0.0</td>\n",
       "      <td>0.0</td>\n",
       "      <td>...</td>\n",
       "      <td>0.0</td>\n",
       "      <td>0.0</td>\n",
       "      <td>0.0</td>\n",
       "      <td>0.0</td>\n",
       "      <td>0.0</td>\n",
       "      <td>0.0</td>\n",
       "      <td>0.0</td>\n",
       "      <td>0.000000</td>\n",
       "      <td>0.0</td>\n",
       "      <td>0.0</td>\n",
       "    </tr>\n",
       "  </tbody>\n",
       "</table>\n",
       "<p>5 rows × 50 columns</p>\n",
       "</div>"
      ],
      "text/plain": [
       "   austin  buy  case  check  come  cool  day    design  downtown  first  ...  \\\n",
       "0     0.0  0.0   0.0    0.0   0.0   0.0  0.0  0.000000       0.0    0.0  ...   \n",
       "1     0.0  0.0   0.0    0.0   0.0   0.0  0.0  0.000000       0.0    0.0  ...   \n",
       "2     0.0  0.0   0.0    0.0   0.0   0.0  0.0  0.000000       0.0    0.0  ...   \n",
       "3     0.0  0.0   0.0    0.0   0.0   0.0  0.0  0.643878       0.0    0.0  ...   \n",
       "4     0.0  0.0   0.0    0.0   0.0   0.0  0.0  0.000000       0.0    0.0  ...   \n",
       "\n",
       "   store  take  temporary  think  time  today  use      wait  want  win  \n",
       "0    0.0   0.0        0.0    0.0   0.0    0.0  0.0  0.000000   0.0  0.0  \n",
       "1    0.0   0.0        0.0    0.0   0.0    0.0  0.0  0.000000   0.0  1.0  \n",
       "2    0.0   0.0        0.0    0.0   0.0    0.0  0.0  0.000000   0.0  0.0  \n",
       "3    0.0   0.0        0.0    0.0   0.0    0.0  0.0  0.713475   0.0  0.0  \n",
       "4    0.0   0.0        0.0    0.0   0.0    0.0  0.0  0.000000   0.0  0.0  \n",
       "\n",
       "[5 rows x 50 columns]"
      ]
     },
     "execution_count": 73,
     "metadata": {},
     "output_type": "execute_result"
    }
   ],
   "source": [
    "X_train_vec2 = pd.DataFrame.sparse.from_spmatrix(X_train_vec2)\n",
    "X_train_vec2.columns = sorted(tf2.vocabulary_)\n",
    "X_train_vec2.head()"
   ]
  },
  {
   "cell_type": "code",
   "execution_count": 74,
   "id": "8482d10d",
   "metadata": {},
   "outputs": [
    {
     "data": {
      "text/html": [
       "<div>\n",
       "<style scoped>\n",
       "    .dataframe tbody tr th:only-of-type {\n",
       "        vertical-align: middle;\n",
       "    }\n",
       "\n",
       "    .dataframe tbody tr th {\n",
       "        vertical-align: top;\n",
       "    }\n",
       "\n",
       "    .dataframe thead th {\n",
       "        text-align: right;\n",
       "    }\n",
       "</style>\n",
       "<table border=\"1\" class=\"dataframe\">\n",
       "  <thead>\n",
       "    <tr style=\"text-align: right;\">\n",
       "      <th></th>\n",
       "      <th>austin</th>\n",
       "      <th>buy</th>\n",
       "      <th>case</th>\n",
       "      <th>check</th>\n",
       "      <th>come</th>\n",
       "      <th>cool</th>\n",
       "      <th>day</th>\n",
       "      <th>design</th>\n",
       "      <th>downtown</th>\n",
       "      <th>first</th>\n",
       "      <th>...</th>\n",
       "      <th>store</th>\n",
       "      <th>take</th>\n",
       "      <th>temporary</th>\n",
       "      <th>think</th>\n",
       "      <th>time</th>\n",
       "      <th>today</th>\n",
       "      <th>use</th>\n",
       "      <th>wait</th>\n",
       "      <th>want</th>\n",
       "      <th>win</th>\n",
       "    </tr>\n",
       "  </thead>\n",
       "  <tbody>\n",
       "    <tr>\n",
       "      <th>0</th>\n",
       "      <td>0.0</td>\n",
       "      <td>0.0</td>\n",
       "      <td>0.000000</td>\n",
       "      <td>0.0</td>\n",
       "      <td>0.0</td>\n",
       "      <td>0.0</td>\n",
       "      <td>0.000000</td>\n",
       "      <td>0.000000</td>\n",
       "      <td>0.0</td>\n",
       "      <td>0.0</td>\n",
       "      <td>...</td>\n",
       "      <td>0.000000</td>\n",
       "      <td>0.0</td>\n",
       "      <td>0.0</td>\n",
       "      <td>0.0</td>\n",
       "      <td>0.0</td>\n",
       "      <td>0.0</td>\n",
       "      <td>0.0</td>\n",
       "      <td>0.0</td>\n",
       "      <td>0.0</td>\n",
       "      <td>0.0</td>\n",
       "    </tr>\n",
       "    <tr>\n",
       "      <th>1</th>\n",
       "      <td>0.0</td>\n",
       "      <td>0.0</td>\n",
       "      <td>0.000000</td>\n",
       "      <td>0.0</td>\n",
       "      <td>0.0</td>\n",
       "      <td>0.0</td>\n",
       "      <td>0.000000</td>\n",
       "      <td>0.000000</td>\n",
       "      <td>0.0</td>\n",
       "      <td>0.0</td>\n",
       "      <td>...</td>\n",
       "      <td>0.449576</td>\n",
       "      <td>0.0</td>\n",
       "      <td>0.0</td>\n",
       "      <td>0.0</td>\n",
       "      <td>0.0</td>\n",
       "      <td>0.0</td>\n",
       "      <td>0.0</td>\n",
       "      <td>0.0</td>\n",
       "      <td>0.0</td>\n",
       "      <td>0.0</td>\n",
       "    </tr>\n",
       "    <tr>\n",
       "      <th>2</th>\n",
       "      <td>0.0</td>\n",
       "      <td>0.0</td>\n",
       "      <td>0.000000</td>\n",
       "      <td>0.0</td>\n",
       "      <td>0.0</td>\n",
       "      <td>0.0</td>\n",
       "      <td>0.684363</td>\n",
       "      <td>0.670032</td>\n",
       "      <td>0.0</td>\n",
       "      <td>0.0</td>\n",
       "      <td>...</td>\n",
       "      <td>0.000000</td>\n",
       "      <td>0.0</td>\n",
       "      <td>0.0</td>\n",
       "      <td>0.0</td>\n",
       "      <td>0.0</td>\n",
       "      <td>0.0</td>\n",
       "      <td>0.0</td>\n",
       "      <td>0.0</td>\n",
       "      <td>0.0</td>\n",
       "      <td>0.0</td>\n",
       "    </tr>\n",
       "    <tr>\n",
       "      <th>3</th>\n",
       "      <td>0.0</td>\n",
       "      <td>0.0</td>\n",
       "      <td>0.578136</td>\n",
       "      <td>0.0</td>\n",
       "      <td>0.0</td>\n",
       "      <td>0.0</td>\n",
       "      <td>0.000000</td>\n",
       "      <td>0.000000</td>\n",
       "      <td>0.0</td>\n",
       "      <td>0.0</td>\n",
       "      <td>...</td>\n",
       "      <td>0.000000</td>\n",
       "      <td>0.0</td>\n",
       "      <td>0.0</td>\n",
       "      <td>0.0</td>\n",
       "      <td>0.0</td>\n",
       "      <td>0.0</td>\n",
       "      <td>0.0</td>\n",
       "      <td>0.0</td>\n",
       "      <td>0.0</td>\n",
       "      <td>0.0</td>\n",
       "    </tr>\n",
       "    <tr>\n",
       "      <th>4</th>\n",
       "      <td>0.0</td>\n",
       "      <td>0.0</td>\n",
       "      <td>0.000000</td>\n",
       "      <td>0.0</td>\n",
       "      <td>0.0</td>\n",
       "      <td>0.0</td>\n",
       "      <td>0.000000</td>\n",
       "      <td>0.000000</td>\n",
       "      <td>0.0</td>\n",
       "      <td>0.0</td>\n",
       "      <td>...</td>\n",
       "      <td>0.000000</td>\n",
       "      <td>0.0</td>\n",
       "      <td>0.0</td>\n",
       "      <td>0.0</td>\n",
       "      <td>0.0</td>\n",
       "      <td>0.0</td>\n",
       "      <td>0.0</td>\n",
       "      <td>0.0</td>\n",
       "      <td>0.0</td>\n",
       "      <td>0.0</td>\n",
       "    </tr>\n",
       "  </tbody>\n",
       "</table>\n",
       "<p>5 rows × 50 columns</p>\n",
       "</div>"
      ],
      "text/plain": [
       "   austin  buy      case  check  come  cool       day    design  downtown  \\\n",
       "0     0.0  0.0  0.000000    0.0   0.0   0.0  0.000000  0.000000       0.0   \n",
       "1     0.0  0.0  0.000000    0.0   0.0   0.0  0.000000  0.000000       0.0   \n",
       "2     0.0  0.0  0.000000    0.0   0.0   0.0  0.684363  0.670032       0.0   \n",
       "3     0.0  0.0  0.578136    0.0   0.0   0.0  0.000000  0.000000       0.0   \n",
       "4     0.0  0.0  0.000000    0.0   0.0   0.0  0.000000  0.000000       0.0   \n",
       "\n",
       "   first  ...     store  take  temporary  think  time  today  use  wait  want  \\\n",
       "0    0.0  ...  0.000000   0.0        0.0    0.0   0.0    0.0  0.0   0.0   0.0   \n",
       "1    0.0  ...  0.449576   0.0        0.0    0.0   0.0    0.0  0.0   0.0   0.0   \n",
       "2    0.0  ...  0.000000   0.0        0.0    0.0   0.0    0.0  0.0   0.0   0.0   \n",
       "3    0.0  ...  0.000000   0.0        0.0    0.0   0.0    0.0  0.0   0.0   0.0   \n",
       "4    0.0  ...  0.000000   0.0        0.0    0.0   0.0    0.0  0.0   0.0   0.0   \n",
       "\n",
       "   win  \n",
       "0  0.0  \n",
       "1  0.0  \n",
       "2  0.0  \n",
       "3  0.0  \n",
       "4  0.0  \n",
       "\n",
       "[5 rows x 50 columns]"
      ]
     },
     "execution_count": 74,
     "metadata": {},
     "output_type": "execute_result"
    }
   ],
   "source": [
    "X_test_vec2 = tf2.transform(X_test2['tweet'])\n",
    "X_test_vec2 = pd.DataFrame.sparse.from_spmatrix(X_test_vec2)\n",
    "X_test_vec2.columns = sorted(tf2.vocabulary_)\n",
    "X_test_vec2.head()"
   ]
  },
  {
   "cell_type": "code",
   "execution_count": 77,
   "id": "562a7afb",
   "metadata": {
    "scrolled": true
   },
   "outputs": [
    {
     "data": {
      "text/plain": [
       "{'go': 13,\n",
       " 'ipad': 16,\n",
       " 'win': 49,\n",
       " 'give': 12,\n",
       " 'wait': 47,\n",
       " 'design': 7,\n",
       " 'time': 44,\n",
       " 'open': 30,\n",
       " 'temporary': 42,\n",
       " 'store': 40,\n",
       " 'think': 43,\n",
       " 'people': 31,\n",
       " 'need': 26,\n",
       " 'know': 18,\n",
       " 'want': 48,\n",
       " 'one': 29,\n",
       " 'take': 41,\n",
       " 'check': 3,\n",
       " 'austin': 0,\n",
       " 'line': 21,\n",
       " 'mobile': 25,\n",
       " 'pop': 32,\n",
       " 'get': 11,\n",
       " 'new': 27,\n",
       " 'guy': 15,\n",
       " 'shop': 38,\n",
       " 'ipad2': 17,\n",
       " 'great': 14,\n",
       " 'downtown': 8,\n",
       " 'cool': 5,\n",
       " 'set': 37,\n",
       " 'come': 4,\n",
       " 'day': 6,\n",
       " 'free': 10,\n",
       " 'popup': 33,\n",
       " 'look': 22,\n",
       " 'rumor': 34,\n",
       " 'launch': 19,\n",
       " 'show': 39,\n",
       " 'like': 20,\n",
       " 'see': 35,\n",
       " 'buy': 1,\n",
       " 'next': 28,\n",
       " 'use': 46,\n",
       " 'case': 2,\n",
       " 'love': 23,\n",
       " 'sell': 36,\n",
       " 'make': 24,\n",
       " 'first': 9,\n",
       " 'today': 45}"
      ]
     },
     "execution_count": 77,
     "metadata": {},
     "output_type": "execute_result"
    }
   ],
   "source": [
    "tf2.vocabulary_"
   ]
  },
  {
   "cell_type": "markdown",
   "id": "a85727ef",
   "metadata": {},
   "source": [
    "### Decision Tree Classifier 2"
   ]
  },
  {
   "cell_type": "code",
   "execution_count": 88,
   "id": "a4f21edd",
   "metadata": {},
   "outputs": [],
   "source": [
    "#not really using 7 here for any purpose other than\n",
    "#rachael did\n",
    "dt2 = DecisionTreeClassifier(max_depth=7, random_state=1)"
   ]
  },
  {
   "cell_type": "code",
   "execution_count": 89,
   "id": "2fb00286",
   "metadata": {},
   "outputs": [
    {
     "data": {
      "text/plain": [
       "<sklearn.metrics._plot.confusion_matrix.ConfusionMatrixDisplay at 0x7fcefd7fa6d0>"
      ]
     },
     "execution_count": 89,
     "metadata": {},
     "output_type": "execute_result"
    },
    {
     "data": {
      "image/png": "[encoded data removed]",
      "text/plain": [
       "<Figure size 640x480 with 2 Axes>"
      ]
     },
     "metadata": {},
     "output_type": "display_data"
    }
   ],
   "source": [
    "dt2.fit(X_train_vec2, y_train)\n",
    "plot_confusion_matrix(dt2, X_test_vec2, y_test)"
   ]
  },
  {
   "cell_type": "code",
   "execution_count": 90,
   "id": "63f242e3",
   "metadata": {},
   "outputs": [
    {
     "data": {
      "text/html": [
       "<div>\n",
       "<style scoped>\n",
       "    .dataframe tbody tr th:only-of-type {\n",
       "        vertical-align: middle;\n",
       "    }\n",
       "\n",
       "    .dataframe tbody tr th {\n",
       "        vertical-align: top;\n",
       "    }\n",
       "\n",
       "    .dataframe thead th {\n",
       "        text-align: right;\n",
       "    }\n",
       "</style>\n",
       "<table border=\"1\" class=\"dataframe\">\n",
       "  <thead>\n",
       "    <tr style=\"text-align: right;\">\n",
       "      <th></th>\n",
       "      <th>Important</th>\n",
       "    </tr>\n",
       "  </thead>\n",
       "  <tbody>\n",
       "    <tr>\n",
       "      <th>cool</th>\n",
       "      <td>0.217672</td>\n",
       "    </tr>\n",
       "    <tr>\n",
       "      <th>great</th>\n",
       "      <td>0.140499</td>\n",
       "    </tr>\n",
       "    <tr>\n",
       "      <th>love</th>\n",
       "      <td>0.098991</td>\n",
       "    </tr>\n",
       "    <tr>\n",
       "      <th>mobile</th>\n",
       "      <td>0.078586</td>\n",
       "    </tr>\n",
       "    <tr>\n",
       "      <th>austin</th>\n",
       "      <td>0.067757</td>\n",
       "    </tr>\n",
       "    <tr>\n",
       "      <th>store</th>\n",
       "      <td>0.046870</td>\n",
       "    </tr>\n",
       "    <tr>\n",
       "      <th>design</th>\n",
       "      <td>0.045116</td>\n",
       "    </tr>\n",
       "    <tr>\n",
       "      <th>ipad2</th>\n",
       "      <td>0.037606</td>\n",
       "    </tr>\n",
       "    <tr>\n",
       "      <th>make</th>\n",
       "      <td>0.033605</td>\n",
       "    </tr>\n",
       "    <tr>\n",
       "      <th>buy</th>\n",
       "      <td>0.033010</td>\n",
       "    </tr>\n",
       "    <tr>\n",
       "      <th>win</th>\n",
       "      <td>0.028406</td>\n",
       "    </tr>\n",
       "    <tr>\n",
       "      <th>check</th>\n",
       "      <td>0.024617</td>\n",
       "    </tr>\n",
       "    <tr>\n",
       "      <th>ipad</th>\n",
       "      <td>0.022053</td>\n",
       "    </tr>\n",
       "    <tr>\n",
       "      <th>case</th>\n",
       "      <td>0.021620</td>\n",
       "    </tr>\n",
       "    <tr>\n",
       "      <th>new</th>\n",
       "      <td>0.017996</td>\n",
       "    </tr>\n",
       "    <tr>\n",
       "      <th>next</th>\n",
       "      <td>0.011461</td>\n",
       "    </tr>\n",
       "    <tr>\n",
       "      <th>guy</th>\n",
       "      <td>0.010968</td>\n",
       "    </tr>\n",
       "    <tr>\n",
       "      <th>need</th>\n",
       "      <td>0.010683</td>\n",
       "    </tr>\n",
       "    <tr>\n",
       "      <th>use</th>\n",
       "      <td>0.010500</td>\n",
       "    </tr>\n",
       "    <tr>\n",
       "      <th>today</th>\n",
       "      <td>0.010145</td>\n",
       "    </tr>\n",
       "    <tr>\n",
       "      <th>people</th>\n",
       "      <td>0.010118</td>\n",
       "    </tr>\n",
       "    <tr>\n",
       "      <th>shop</th>\n",
       "      <td>0.009892</td>\n",
       "    </tr>\n",
       "    <tr>\n",
       "      <th>time</th>\n",
       "      <td>0.009849</td>\n",
       "    </tr>\n",
       "    <tr>\n",
       "      <th>go</th>\n",
       "      <td>0.001982</td>\n",
       "    </tr>\n",
       "    <tr>\n",
       "      <th>set</th>\n",
       "      <td>0.000000</td>\n",
       "    </tr>\n",
       "    <tr>\n",
       "      <th>show</th>\n",
       "      <td>0.000000</td>\n",
       "    </tr>\n",
       "    <tr>\n",
       "      <th>take</th>\n",
       "      <td>0.000000</td>\n",
       "    </tr>\n",
       "    <tr>\n",
       "      <th>downtown</th>\n",
       "      <td>0.000000</td>\n",
       "    </tr>\n",
       "    <tr>\n",
       "      <th>see</th>\n",
       "      <td>0.000000</td>\n",
       "    </tr>\n",
       "    <tr>\n",
       "      <th>temporary</th>\n",
       "      <td>0.000000</td>\n",
       "    </tr>\n",
       "    <tr>\n",
       "      <th>think</th>\n",
       "      <td>0.000000</td>\n",
       "    </tr>\n",
       "    <tr>\n",
       "      <th>wait</th>\n",
       "      <td>0.000000</td>\n",
       "    </tr>\n",
       "    <tr>\n",
       "      <th>want</th>\n",
       "      <td>0.000000</td>\n",
       "    </tr>\n",
       "    <tr>\n",
       "      <th>sell</th>\n",
       "      <td>0.000000</td>\n",
       "    </tr>\n",
       "    <tr>\n",
       "      <th>pop</th>\n",
       "      <td>0.000000</td>\n",
       "    </tr>\n",
       "    <tr>\n",
       "      <th>rumor</th>\n",
       "      <td>0.000000</td>\n",
       "    </tr>\n",
       "    <tr>\n",
       "      <th>popup</th>\n",
       "      <td>0.000000</td>\n",
       "    </tr>\n",
       "    <tr>\n",
       "      <th>open</th>\n",
       "      <td>0.000000</td>\n",
       "    </tr>\n",
       "    <tr>\n",
       "      <th>one</th>\n",
       "      <td>0.000000</td>\n",
       "    </tr>\n",
       "    <tr>\n",
       "      <th>day</th>\n",
       "      <td>0.000000</td>\n",
       "    </tr>\n",
       "    <tr>\n",
       "      <th>first</th>\n",
       "      <td>0.000000</td>\n",
       "    </tr>\n",
       "    <tr>\n",
       "      <th>free</th>\n",
       "      <td>0.000000</td>\n",
       "    </tr>\n",
       "    <tr>\n",
       "      <th>get</th>\n",
       "      <td>0.000000</td>\n",
       "    </tr>\n",
       "    <tr>\n",
       "      <th>look</th>\n",
       "      <td>0.000000</td>\n",
       "    </tr>\n",
       "    <tr>\n",
       "      <th>line</th>\n",
       "      <td>0.000000</td>\n",
       "    </tr>\n",
       "    <tr>\n",
       "      <th>like</th>\n",
       "      <td>0.000000</td>\n",
       "    </tr>\n",
       "    <tr>\n",
       "      <th>launch</th>\n",
       "      <td>0.000000</td>\n",
       "    </tr>\n",
       "    <tr>\n",
       "      <th>know</th>\n",
       "      <td>0.000000</td>\n",
       "    </tr>\n",
       "    <tr>\n",
       "      <th>give</th>\n",
       "      <td>0.000000</td>\n",
       "    </tr>\n",
       "    <tr>\n",
       "      <th>come</th>\n",
       "      <td>0.000000</td>\n",
       "    </tr>\n",
       "  </tbody>\n",
       "</table>\n",
       "</div>"
      ],
      "text/plain": [
       "           Important\n",
       "cool        0.217672\n",
       "great       0.140499\n",
       "love        0.098991\n",
       "mobile      0.078586\n",
       "austin      0.067757\n",
       "store       0.046870\n",
       "design      0.045116\n",
       "ipad2       0.037606\n",
       "make        0.033605\n",
       "buy         0.033010\n",
       "win         0.028406\n",
       "check       0.024617\n",
       "ipad        0.022053\n",
       "case        0.021620\n",
       "new         0.017996\n",
       "next        0.011461\n",
       "guy         0.010968\n",
       "need        0.010683\n",
       "use         0.010500\n",
       "today       0.010145\n",
       "people      0.010118\n",
       "shop        0.009892\n",
       "time        0.009849\n",
       "go          0.001982\n",
       "set         0.000000\n",
       "show        0.000000\n",
       "take        0.000000\n",
       "downtown    0.000000\n",
       "see         0.000000\n",
       "temporary   0.000000\n",
       "think       0.000000\n",
       "wait        0.000000\n",
       "want        0.000000\n",
       "sell        0.000000\n",
       "pop         0.000000\n",
       "rumor       0.000000\n",
       "popup       0.000000\n",
       "open        0.000000\n",
       "one         0.000000\n",
       "day         0.000000\n",
       "first       0.000000\n",
       "free        0.000000\n",
       "get         0.000000\n",
       "look        0.000000\n",
       "line        0.000000\n",
       "like        0.000000\n",
       "launch      0.000000\n",
       "know        0.000000\n",
       "give        0.000000\n",
       "come        0.000000"
      ]
     },
     "execution_count": 90,
     "metadata": {},
     "output_type": "execute_result"
    }
   ],
   "source": [
    "features2 = X_train_vec2.columns.tolist()\n",
    "important2 = dt2.feature_importances_\n",
    "important_features2 = pd.DataFrame(important2, index=features2, columns=['Important'])\n",
    "important_features2.sort_values('Important', ascending=False)"
   ]
  },
  {
   "cell_type": "code",
   "execution_count": 91,
   "id": "1274e29b",
   "metadata": {},
   "outputs": [
    {
     "name": "stdout",
     "output_type": "stream",
     "text": [
      "\n",
      " clasification report 1:\n",
      "               precision    recall  f1-score   support\n",
      "\n",
      "           0       0.00      0.00      0.00       106\n",
      "           1       0.55      0.97      0.70       709\n",
      "           2       0.66      0.11      0.18       521\n",
      "\n",
      "    accuracy                           0.56      1336\n",
      "   macro avg       0.40      0.36      0.29      1336\n",
      "weighted avg       0.55      0.56      0.44      1336\n",
      "\n",
      "\n",
      " clasification report 2:\n",
      "               precision    recall  f1-score   support\n",
      "\n",
      "           0       0.50      0.01      0.02       106\n",
      "           1       0.55      0.98      0.70       709\n",
      "           2       0.71      0.10      0.17       521\n",
      "\n",
      "    accuracy                           0.56      1336\n",
      "   macro avg       0.59      0.36      0.30      1336\n",
      "weighted avg       0.61      0.56      0.44      1336\n",
      "\n"
     ]
    }
   ],
   "source": [
    "#classification report\n",
    "pred = dt.predict(X_test_vec)\n",
    "pred2 = dt2.predict(X_test_vec2)\n",
    "print ('\\n clasification report 1:\\n', classification_report(y_test,pred))\n",
    "print ('\\n clasification report 2:\\n', classification_report(y_test,pred2))"
   ]
  },
  {
   "cell_type": "code",
   "execution_count": 87,
   "id": "1d0b85c2",
   "metadata": {},
   "outputs": [
    {
     "data": {
      "text/plain": [
       "emotion\n",
       "1          2108\n",
       "2          1596\n",
       "0           301\n",
       "dtype: int64"
      ]
     },
     "execution_count": 87,
     "metadata": {},
     "output_type": "execute_result"
    }
   ],
   "source": [
    "y_train.value_counts()"
   ]
  },
  {
   "cell_type": "code",
   "execution_count": null,
   "id": "af3cef20",
   "metadata": {},
   "outputs": [],
   "source": []
  }
 ],
 "metadata": {
  "kernelspec": {
   "display_name": "Python 3 (ipykernel)",
   "language": "python",
   "name": "python3"
  },
  "language_info": {
   "codemirror_mode": {
    "name": "ipython",
    "version": 3
   },
   "file_extension": ".py",
   "mimetype": "text/x-python",
   "name": "python",
   "nbconvert_exporter": "python",
   "pygments_lexer": "ipython3",
   "version": "3.9.13"
  }
 },
 "nbformat": 4,
 "nbformat_minor": 5
}
