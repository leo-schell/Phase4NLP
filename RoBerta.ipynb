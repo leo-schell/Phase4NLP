{
 "cells": [
  {
   "cell_type": "code",
   "execution_count": 2,
   "id": "c711ebf1",
   "metadata": {},
   "outputs": [],
   "source": [
    "import pandas as pd\n",
    "import matplotlib.pyplot as plt\n",
    "%matplotlib inline"
   ]
  },
  {
   "cell_type": "code",
   "execution_count": 100,
   "id": "c0d68a6a",
   "metadata": {},
   "outputs": [
    {
     "data": {
      "text/html": [
       "<div>\n",
       "<style scoped>\n",
       "    .dataframe tbody tr th:only-of-type {\n",
       "        vertical-align: middle;\n",
       "    }\n",
       "\n",
       "    .dataframe tbody tr th {\n",
       "        vertical-align: top;\n",
       "    }\n",
       "\n",
       "    .dataframe thead th {\n",
       "        text-align: right;\n",
       "    }\n",
       "</style>\n",
       "<table border=\"1\" class=\"dataframe\">\n",
       "  <thead>\n",
       "    <tr style=\"text-align: right;\">\n",
       "      <th></th>\n",
       "      <th>tweet_text</th>\n",
       "      <th>emotion_in_tweet_is_directed_at</th>\n",
       "      <th>is_there_an_emotion_directed_at_a_brand_or_product</th>\n",
       "    </tr>\n",
       "  </thead>\n",
       "  <tbody>\n",
       "    <tr>\n",
       "      <th>0</th>\n",
       "      <td>.@wesley83 I have a 3G iPhone. After 3 hrs twe...</td>\n",
       "      <td>iPhone</td>\n",
       "      <td>Negative emotion</td>\n",
       "    </tr>\n",
       "    <tr>\n",
       "      <th>1</th>\n",
       "      <td>@jessedee Know about @fludapp ? Awesome iPad/i...</td>\n",
       "      <td>iPad or iPhone App</td>\n",
       "      <td>Positive emotion</td>\n",
       "    </tr>\n",
       "    <tr>\n",
       "      <th>2</th>\n",
       "      <td>@swonderlin Can not wait for #iPad 2 also. The...</td>\n",
       "      <td>iPad</td>\n",
       "      <td>Positive emotion</td>\n",
       "    </tr>\n",
       "    <tr>\n",
       "      <th>3</th>\n",
       "      <td>@sxsw I hope this year's festival isn't as cra...</td>\n",
       "      <td>iPad or iPhone App</td>\n",
       "      <td>Negative emotion</td>\n",
       "    </tr>\n",
       "    <tr>\n",
       "      <th>4</th>\n",
       "      <td>@sxtxstate great stuff on Fri #SXSW: Marissa M...</td>\n",
       "      <td>Google</td>\n",
       "      <td>Positive emotion</td>\n",
       "    </tr>\n",
       "    <tr>\n",
       "      <th>5</th>\n",
       "      <td>@teachntech00 New iPad Apps For #SpeechTherapy...</td>\n",
       "      <td>NaN</td>\n",
       "      <td>No emotion toward brand or product</td>\n",
       "    </tr>\n",
       "    <tr>\n",
       "      <th>6</th>\n",
       "      <td>NaN</td>\n",
       "      <td>NaN</td>\n",
       "      <td>No emotion toward brand or product</td>\n",
       "    </tr>\n",
       "    <tr>\n",
       "      <th>7</th>\n",
       "      <td>#SXSW is just starting, #CTIA is around the co...</td>\n",
       "      <td>Android</td>\n",
       "      <td>Positive emotion</td>\n",
       "    </tr>\n",
       "    <tr>\n",
       "      <th>8</th>\n",
       "      <td>Beautifully smart and simple idea RT @madebyma...</td>\n",
       "      <td>iPad or iPhone App</td>\n",
       "      <td>Positive emotion</td>\n",
       "    </tr>\n",
       "    <tr>\n",
       "      <th>9</th>\n",
       "      <td>Counting down the days to #sxsw plus strong Ca...</td>\n",
       "      <td>Apple</td>\n",
       "      <td>Positive emotion</td>\n",
       "    </tr>\n",
       "    <tr>\n",
       "      <th>10</th>\n",
       "      <td>Excited to meet the @samsungmobileus at #sxsw ...</td>\n",
       "      <td>Android</td>\n",
       "      <td>Positive emotion</td>\n",
       "    </tr>\n",
       "    <tr>\n",
       "      <th>11</th>\n",
       "      <td>Find &amp;amp; Start Impromptu Parties at #SXSW Wi...</td>\n",
       "      <td>Android App</td>\n",
       "      <td>Positive emotion</td>\n",
       "    </tr>\n",
       "    <tr>\n",
       "      <th>12</th>\n",
       "      <td>Foursquare ups the game, just in time for #SXS...</td>\n",
       "      <td>Android App</td>\n",
       "      <td>Positive emotion</td>\n",
       "    </tr>\n",
       "    <tr>\n",
       "      <th>13</th>\n",
       "      <td>Gotta love this #SXSW Google Calendar featurin...</td>\n",
       "      <td>Other Google product or service</td>\n",
       "      <td>Positive emotion</td>\n",
       "    </tr>\n",
       "    <tr>\n",
       "      <th>14</th>\n",
       "      <td>Great #sxsw ipad app from @madebymany: http://...</td>\n",
       "      <td>iPad or iPhone App</td>\n",
       "      <td>Positive emotion</td>\n",
       "    </tr>\n",
       "  </tbody>\n",
       "</table>\n",
       "</div>"
      ],
      "text/plain": [
       "                                           tweet_text  \\\n",
       "0   .@wesley83 I have a 3G iPhone. After 3 hrs twe...   \n",
       "1   @jessedee Know about @fludapp ? Awesome iPad/i...   \n",
       "2   @swonderlin Can not wait for #iPad 2 also. The...   \n",
       "3   @sxsw I hope this year's festival isn't as cra...   \n",
       "4   @sxtxstate great stuff on Fri #SXSW: Marissa M...   \n",
       "5   @teachntech00 New iPad Apps For #SpeechTherapy...   \n",
       "6                                                 NaN   \n",
       "7   #SXSW is just starting, #CTIA is around the co...   \n",
       "8   Beautifully smart and simple idea RT @madebyma...   \n",
       "9   Counting down the days to #sxsw plus strong Ca...   \n",
       "10  Excited to meet the @samsungmobileus at #sxsw ...   \n",
       "11  Find &amp; Start Impromptu Parties at #SXSW Wi...   \n",
       "12  Foursquare ups the game, just in time for #SXS...   \n",
       "13  Gotta love this #SXSW Google Calendar featurin...   \n",
       "14  Great #sxsw ipad app from @madebymany: http://...   \n",
       "\n",
       "    emotion_in_tweet_is_directed_at  \\\n",
       "0                            iPhone   \n",
       "1                iPad or iPhone App   \n",
       "2                              iPad   \n",
       "3                iPad or iPhone App   \n",
       "4                            Google   \n",
       "5                               NaN   \n",
       "6                               NaN   \n",
       "7                           Android   \n",
       "8                iPad or iPhone App   \n",
       "9                             Apple   \n",
       "10                          Android   \n",
       "11                      Android App   \n",
       "12                      Android App   \n",
       "13  Other Google product or service   \n",
       "14               iPad or iPhone App   \n",
       "\n",
       "   is_there_an_emotion_directed_at_a_brand_or_product  \n",
       "0                                    Negative emotion  \n",
       "1                                    Positive emotion  \n",
       "2                                    Positive emotion  \n",
       "3                                    Negative emotion  \n",
       "4                                    Positive emotion  \n",
       "5                  No emotion toward brand or product  \n",
       "6                  No emotion toward brand or product  \n",
       "7                                    Positive emotion  \n",
       "8                                    Positive emotion  \n",
       "9                                    Positive emotion  \n",
       "10                                   Positive emotion  \n",
       "11                                   Positive emotion  \n",
       "12                                   Positive emotion  \n",
       "13                                   Positive emotion  \n",
       "14                                   Positive emotion  "
      ]
     },
     "execution_count": 100,
     "metadata": {},
     "output_type": "execute_result"
    }
   ],
   "source": [
    "df = pd.read_csv('data/tweets.csv')\n",
    "df.head(15)"
   ]
  },
  {
   "cell_type": "code",
   "execution_count": 101,
   "id": "0f4bf15c",
   "metadata": {},
   "outputs": [
    {
     "name": "stderr",
     "output_type": "stream",
     "text": [
      "/var/folders/xc/4fn08svj2dgdk_3wj3xkp_rr0000gn/T/ipykernel_1189/2398655619.py:2: FutureWarning: DataFrame.set_axis 'inplace' keyword is deprecated and will be removed in a future version. Use `obj = obj.set_axis(..., copy=False)` instead\n",
      "  df.set_axis(['tweet', 'directed', 'emotion'], axis=1, inplace=True)\n"
     ]
    },
    {
     "data": {
      "text/html": [
       "<div>\n",
       "<style scoped>\n",
       "    .dataframe tbody tr th:only-of-type {\n",
       "        vertical-align: middle;\n",
       "    }\n",
       "\n",
       "    .dataframe tbody tr th {\n",
       "        vertical-align: top;\n",
       "    }\n",
       "\n",
       "    .dataframe thead th {\n",
       "        text-align: right;\n",
       "    }\n",
       "</style>\n",
       "<table border=\"1\" class=\"dataframe\">\n",
       "  <thead>\n",
       "    <tr style=\"text-align: right;\">\n",
       "      <th></th>\n",
       "      <th>tweet</th>\n",
       "      <th>directed</th>\n",
       "      <th>emotion</th>\n",
       "    </tr>\n",
       "  </thead>\n",
       "  <tbody>\n",
       "    <tr>\n",
       "      <th>0</th>\n",
       "      <td>.@wesley83 I have a 3G iPhone. After 3 hrs twe...</td>\n",
       "      <td>iPhone</td>\n",
       "      <td>Negative emotion</td>\n",
       "    </tr>\n",
       "    <tr>\n",
       "      <th>1</th>\n",
       "      <td>@jessedee Know about @fludapp ? Awesome iPad/i...</td>\n",
       "      <td>iPad or iPhone App</td>\n",
       "      <td>Positive emotion</td>\n",
       "    </tr>\n",
       "    <tr>\n",
       "      <th>2</th>\n",
       "      <td>@swonderlin Can not wait for #iPad 2 also. The...</td>\n",
       "      <td>iPad</td>\n",
       "      <td>Positive emotion</td>\n",
       "    </tr>\n",
       "    <tr>\n",
       "      <th>3</th>\n",
       "      <td>@sxsw I hope this year's festival isn't as cra...</td>\n",
       "      <td>iPad or iPhone App</td>\n",
       "      <td>Negative emotion</td>\n",
       "    </tr>\n",
       "    <tr>\n",
       "      <th>4</th>\n",
       "      <td>@sxtxstate great stuff on Fri #SXSW: Marissa M...</td>\n",
       "      <td>Google</td>\n",
       "      <td>Positive emotion</td>\n",
       "    </tr>\n",
       "  </tbody>\n",
       "</table>\n",
       "</div>"
      ],
      "text/plain": [
       "                                               tweet            directed  \\\n",
       "0  .@wesley83 I have a 3G iPhone. After 3 hrs twe...              iPhone   \n",
       "1  @jessedee Know about @fludapp ? Awesome iPad/i...  iPad or iPhone App   \n",
       "2  @swonderlin Can not wait for #iPad 2 also. The...                iPad   \n",
       "3  @sxsw I hope this year's festival isn't as cra...  iPad or iPhone App   \n",
       "4  @sxtxstate great stuff on Fri #SXSW: Marissa M...              Google   \n",
       "\n",
       "            emotion  \n",
       "0  Negative emotion  \n",
       "1  Positive emotion  \n",
       "2  Positive emotion  \n",
       "3  Negative emotion  \n",
       "4  Positive emotion  "
      ]
     },
     "execution_count": 101,
     "metadata": {},
     "output_type": "execute_result"
    }
   ],
   "source": [
    "#rename columns\n",
    "df.set_axis(['tweet', 'directed', 'emotion'], axis=1, inplace=True)\n",
    "df.head()"
   ]
  },
  {
   "cell_type": "code",
   "execution_count": 102,
   "id": "0674612b",
   "metadata": {},
   "outputs": [
    {
     "data": {
      "text/plain": [
       "No emotion toward brand or product    5389\n",
       "Positive emotion                      2978\n",
       "Negative emotion                       570\n",
       "I can't tell                           156\n",
       "Name: emotion, dtype: int64"
      ]
     },
     "execution_count": 102,
     "metadata": {},
     "output_type": "execute_result"
    }
   ],
   "source": [
    "df['emotion'].value_counts()"
   ]
  },
  {
   "cell_type": "markdown",
   "id": "1a35cbd5",
   "metadata": {},
   "source": []
  },
  {
   "cell_type": "code",
   "execution_count": 5,
   "id": "21ad091c",
   "metadata": {},
   "outputs": [],
   "source": [
    "#TweetEval preprocess function\n",
    "\n",
    "def preprocess(text):\n",
    "    new_text = []\n",
    "    for t in text.split(\" \"):\n",
    "        t = '@user' if t.startswith('@') and len(t) > 1 else t\n",
    "        t = 'http' if t.startswith('http') else t\n",
    "        new_text.append(t)\n",
    "    return \" \".join(new_text)"
   ]
  },
  {
   "cell_type": "code",
   "execution_count": 6,
   "id": "f695554d",
   "metadata": {},
   "outputs": [
    {
     "name": "stdout",
     "output_type": "stream",
     "text": [
      "Requirement already satisfied: transformers in /opt/anaconda3/lib/python3.9/site-packages (4.27.3)\n",
      "Requirement already satisfied: filelock in /opt/anaconda3/lib/python3.9/site-packages (from transformers) (3.6.0)\n",
      "Requirement already satisfied: packaging>=20.0 in /opt/anaconda3/lib/python3.9/site-packages (from transformers) (21.3)\n",
      "Requirement already satisfied: numpy>=1.17 in /opt/anaconda3/lib/python3.9/site-packages (from transformers) (1.23.5)\n",
      "Requirement already satisfied: huggingface-hub<1.0,>=0.11.0 in /opt/anaconda3/lib/python3.9/site-packages (from transformers) (0.13.3)\n",
      "Requirement already satisfied: tokenizers!=0.11.3,<0.14,>=0.11.1 in /opt/anaconda3/lib/python3.9/site-packages (from transformers) (0.13.2)\n",
      "Requirement already satisfied: regex!=2019.12.17 in /opt/anaconda3/lib/python3.9/site-packages (from transformers) (2022.7.9)\n",
      "Requirement already satisfied: requests in /opt/anaconda3/lib/python3.9/site-packages (from transformers) (2.28.1)\n",
      "Requirement already satisfied: tqdm>=4.27 in /opt/anaconda3/lib/python3.9/site-packages (from transformers) (4.64.1)\n",
      "Requirement already satisfied: pyyaml>=5.1 in /opt/anaconda3/lib/python3.9/site-packages (from transformers) (6.0)\n",
      "Requirement already satisfied: typing-extensions>=3.7.4.3 in /opt/anaconda3/lib/python3.9/site-packages (from huggingface-hub<1.0,>=0.11.0->transformers) (4.3.0)\n",
      "Requirement already satisfied: pyparsing!=3.0.5,>=2.0.2 in /opt/anaconda3/lib/python3.9/site-packages (from packaging>=20.0->transformers) (3.0.9)\n",
      "Requirement already satisfied: charset-normalizer<3,>=2 in /opt/anaconda3/lib/python3.9/site-packages (from requests->transformers) (2.0.4)\n",
      "Requirement already satisfied: certifi>=2017.4.17 in /opt/anaconda3/lib/python3.9/site-packages (from requests->transformers) (2022.9.24)\n",
      "Requirement already satisfied: idna<4,>=2.5 in /opt/anaconda3/lib/python3.9/site-packages (from requests->transformers) (3.3)\n",
      "Requirement already satisfied: urllib3<1.27,>=1.21.1 in /opt/anaconda3/lib/python3.9/site-packages (from requests->transformers) (1.26.11)\n"
     ]
    }
   ],
   "source": [
    "!pip install transformers"
   ]
  },
  {
   "cell_type": "code",
   "execution_count": 7,
   "id": "4b7fc565",
   "metadata": {},
   "outputs": [],
   "source": [
    "from transformers import AutoModelForSequenceClassification\n",
    "from transformers import TFAutoModelForSequenceClassification\n",
    "from transformers import AutoTokenizer\n",
    "import numpy as np\n",
    "from scipy.special import softmax\n",
    "import csv\n",
    "import urllib.request\n",
    "\n",
    "task='sentiment'\n",
    "MODEL = f\"cardiffnlp/twitter-roberta-base-{task}\"\n",
    "\n",
    "tokenizer = AutoTokenizer.from_pretrained(MODEL)"
   ]
  },
  {
   "cell_type": "code",
   "execution_count": 8,
   "id": "bc1417e9",
   "metadata": {},
   "outputs": [],
   "source": [
    "import torch"
   ]
  },
  {
   "cell_type": "code",
   "execution_count": 9,
   "id": "dc4e3307",
   "metadata": {},
   "outputs": [
    {
     "name": "stdout",
     "output_type": "stream",
     "text": [
      "2.0.0\n"
     ]
    }
   ],
   "source": [
    "print(torch.__version__)"
   ]
  },
  {
   "cell_type": "code",
   "execution_count": 10,
   "id": "452a9d50",
   "metadata": {},
   "outputs": [],
   "source": [
    "# download label mapping\n",
    "mapping_link = f\"https://raw.githubusercontent.com/cardiffnlp/tweeteval/main/datasets/{task}/mapping.txt\"\n",
    "with urllib.request.urlopen(mapping_link) as f:\n",
    "    html = f.read().decode('utf-8').split(\"\\n\")\n",
    "    csvreader = csv.reader(html, delimiter='\\t')\n",
    "labels = [row[1] for row in csvreader if len(row) > 1]"
   ]
  },
  {
   "cell_type": "code",
   "execution_count": 11,
   "id": "6ef42542",
   "metadata": {},
   "outputs": [
    {
     "name": "stderr",
     "output_type": "stream",
     "text": [
      "All TF 2.0 model weights were used when initializing RobertaForSequenceClassification.\n",
      "\n",
      "All the weights of RobertaForSequenceClassification were initialized from the TF 2.0 model.\n",
      "If your task is similar to the task the model of the checkpoint was trained on, you can already use RobertaForSequenceClassification for predictions without further training.\n"
     ]
    }
   ],
   "source": [
    "# PT\n",
    "model = AutoModelForSequenceClassification.from_pretrained(MODEL, from_tf=True)\n",
    "\n",
    "text = \"Good night 😊\"\n",
    "text = preprocess(text)\n",
    "encoded_input = tokenizer(text, return_tensors='pt')\n",
    "output = model(**encoded_input)\n",
    "scores = output[0][0].detach().numpy()\n",
    "scores = softmax(scores)"
   ]
  },
  {
   "cell_type": "code",
   "execution_count": 12,
   "id": "840046cf",
   "metadata": {},
   "outputs": [
    {
     "name": "stdout",
     "output_type": "stream",
     "text": [
      "1) positive 0.8466\n",
      "2) neutral 0.1458\n",
      "3) negative 0.0076\n"
     ]
    }
   ],
   "source": [
    "ranking = np.argsort(scores)\n",
    "ranking = ranking[::-1]\n",
    "for i in range(scores.shape[0]):\n",
    "    l = labels[ranking[i]]\n",
    "    s = scores[ranking[i]]\n",
    "    print(f\"{i+1}) {l} {np.round(float(s), 4)}\")"
   ]
  },
  {
   "cell_type": "code",
   "execution_count": 13,
   "id": "09531c9c",
   "metadata": {},
   "outputs": [],
   "source": [
    "def clean_roberta(df):\n",
    "    clean_tweets = []\n",
    "    for tweet in df['tweet']:\n",
    "        words = str(tweet).split()\n",
    "        new_text = []\n",
    "        for t in words:\n",
    "            t = '@user' if t.startswith('@') and len(t) > 1 else t\n",
    "            t = '@user' if t.startswith('.@') and len(t) > 1 else t\n",
    "            t = 'http' if t.startswith('http') else t\n",
    "            new_text.append(t)\n",
    "        new_t = \" \".join(new_text)\n",
    "        clean_tweets.append(new_t)\n",
    "    df['clean_tweet'] = clean_tweets\n",
    "    return df"
   ]
  },
  {
   "cell_type": "code",
   "execution_count": 14,
   "id": "f4ac4771",
   "metadata": {},
   "outputs": [],
   "source": [
    "clean_roberta = clean_roberta(df)"
   ]
  },
  {
   "cell_type": "code",
   "execution_count": 15,
   "id": "64430487",
   "metadata": {},
   "outputs": [
    {
     "data": {
      "text/html": [
       "<div>\n",
       "<style scoped>\n",
       "    .dataframe tbody tr th:only-of-type {\n",
       "        vertical-align: middle;\n",
       "    }\n",
       "\n",
       "    .dataframe tbody tr th {\n",
       "        vertical-align: top;\n",
       "    }\n",
       "\n",
       "    .dataframe thead th {\n",
       "        text-align: right;\n",
       "    }\n",
       "</style>\n",
       "<table border=\"1\" class=\"dataframe\">\n",
       "  <thead>\n",
       "    <tr style=\"text-align: right;\">\n",
       "      <th></th>\n",
       "      <th>tweet</th>\n",
       "      <th>directed</th>\n",
       "      <th>emotion</th>\n",
       "      <th>clean_tweet</th>\n",
       "    </tr>\n",
       "  </thead>\n",
       "  <tbody>\n",
       "    <tr>\n",
       "      <th>0</th>\n",
       "      <td>.@wesley83 I have a 3G iPhone. After 3 hrs twe...</td>\n",
       "      <td>iPhone</td>\n",
       "      <td>Negative emotion</td>\n",
       "      <td>@user I have a 3G iPhone. After 3 hrs tweeting...</td>\n",
       "    </tr>\n",
       "    <tr>\n",
       "      <th>1</th>\n",
       "      <td>@jessedee Know about @fludapp ? Awesome iPad/i...</td>\n",
       "      <td>iPad or iPhone App</td>\n",
       "      <td>Positive emotion</td>\n",
       "      <td>@user Know about @user ? Awesome iPad/iPhone a...</td>\n",
       "    </tr>\n",
       "    <tr>\n",
       "      <th>2</th>\n",
       "      <td>@swonderlin Can not wait for #iPad 2 also. The...</td>\n",
       "      <td>iPad</td>\n",
       "      <td>Positive emotion</td>\n",
       "      <td>@user Can not wait for #iPad 2 also. They shou...</td>\n",
       "    </tr>\n",
       "    <tr>\n",
       "      <th>3</th>\n",
       "      <td>@sxsw I hope this year's festival isn't as cra...</td>\n",
       "      <td>iPad or iPhone App</td>\n",
       "      <td>Negative emotion</td>\n",
       "      <td>@user I hope this year's festival isn't as cra...</td>\n",
       "    </tr>\n",
       "    <tr>\n",
       "      <th>4</th>\n",
       "      <td>@sxtxstate great stuff on Fri #SXSW: Marissa M...</td>\n",
       "      <td>Google</td>\n",
       "      <td>Positive emotion</td>\n",
       "      <td>@user great stuff on Fri #SXSW: Marissa Mayer ...</td>\n",
       "    </tr>\n",
       "  </tbody>\n",
       "</table>\n",
       "</div>"
      ],
      "text/plain": [
       "                                               tweet            directed  \\\n",
       "0  .@wesley83 I have a 3G iPhone. After 3 hrs twe...              iPhone   \n",
       "1  @jessedee Know about @fludapp ? Awesome iPad/i...  iPad or iPhone App   \n",
       "2  @swonderlin Can not wait for #iPad 2 also. The...                iPad   \n",
       "3  @sxsw I hope this year's festival isn't as cra...  iPad or iPhone App   \n",
       "4  @sxtxstate great stuff on Fri #SXSW: Marissa M...              Google   \n",
       "\n",
       "            emotion                                        clean_tweet  \n",
       "0  Negative emotion  @user I have a 3G iPhone. After 3 hrs tweeting...  \n",
       "1  Positive emotion  @user Know about @user ? Awesome iPad/iPhone a...  \n",
       "2  Positive emotion  @user Can not wait for #iPad 2 also. They shou...  \n",
       "3  Negative emotion  @user I hope this year's festival isn't as cra...  \n",
       "4  Positive emotion  @user great stuff on Fri #SXSW: Marissa Mayer ...  "
      ]
     },
     "execution_count": 15,
     "metadata": {},
     "output_type": "execute_result"
    }
   ],
   "source": [
    "clean_roberta.head()"
   ]
  },
  {
   "cell_type": "code",
   "execution_count": 16,
   "id": "ba31ddd1",
   "metadata": {},
   "outputs": [],
   "source": [
    "#encoded_input_df = clean_roberta['clean_tweet'].apply(tokenizer.tokenize)"
   ]
  },
  {
   "cell_type": "code",
   "execution_count": 17,
   "id": "4e0a8aed",
   "metadata": {},
   "outputs": [],
   "source": [
    "#encoded_input_df.head()"
   ]
  },
  {
   "cell_type": "code",
   "execution_count": 18,
   "id": "d8dc7bf9",
   "metadata": {},
   "outputs": [],
   "source": [
    "#output = model(**encoded_input_df)\n",
    "#scores = output[0][0].detach().numpy()\n",
    "#scores = softmax(scores)"
   ]
  },
  {
   "cell_type": "code",
   "execution_count": 19,
   "id": "326e5bef",
   "metadata": {},
   "outputs": [
    {
     "data": {
      "text/plain": [
       "'@user New iPad Apps For #SpeechTherapy And Communication Are Showcased At The #SXSW Conference http #iear #edchat #asd'"
      ]
     },
     "execution_count": 19,
     "metadata": {},
     "output_type": "execute_result"
    }
   ],
   "source": [
    "test = clean_roberta['clean_tweet'][5]\n",
    "test"
   ]
  },
  {
   "cell_type": "code",
   "execution_count": 20,
   "id": "461642c1",
   "metadata": {},
   "outputs": [
    {
     "data": {
      "text/plain": [
       "{'input_ids': tensor([[    0,  1039, 12105,   188,  9481, 29324,   286,   849, 29235,  7529,\n",
       "         43958, 32748,   178, 17051,  3945,  2907,   438, 11835,   497,    20,\n",
       "           849,   104,  1000, 11871,  2815,  2054,   849,   118,  4352,   849,\n",
       "           196, 29465,   849,   281,   417,     2]]), 'attention_mask': tensor([[1, 1, 1, 1, 1, 1, 1, 1, 1, 1, 1, 1, 1, 1, 1, 1, 1, 1, 1, 1, 1, 1, 1, 1,\n",
       "         1, 1, 1, 1, 1, 1, 1, 1, 1, 1, 1, 1]])}"
      ]
     },
     "execution_count": 20,
     "metadata": {},
     "output_type": "execute_result"
    }
   ],
   "source": [
    "#testing model\n",
    "\n",
    "encoded_input_test = tokenizer(test, return_tensors='pt')\n",
    "encoded_input_test"
   ]
  },
  {
   "cell_type": "code",
   "execution_count": 21,
   "id": "b9248624",
   "metadata": {},
   "outputs": [
    {
     "data": {
      "text/plain": [
       "SequenceClassifierOutput(loss=None, logits=tensor([[-3.3895,  2.1188,  1.3288]], grad_fn=<AddmmBackward0>), hidden_states=None, attentions=None)"
      ]
     },
     "execution_count": 21,
     "metadata": {},
     "output_type": "execute_result"
    }
   ],
   "source": [
    "#testing model\n",
    "output_test = model(**encoded_input_test)\n",
    "output_test"
   ]
  },
  {
   "cell_type": "code",
   "execution_count": 22,
   "id": "fef8c76f",
   "metadata": {},
   "outputs": [
    {
     "data": {
      "text/plain": [
       "array([0.00277996, 0.68592894, 0.31129107], dtype=float32)"
      ]
     },
     "execution_count": 22,
     "metadata": {},
     "output_type": "execute_result"
    }
   ],
   "source": [
    "#testing model\n",
    "scores_test = output_test[0][0].detach().numpy()\n",
    "scores_test = softmax(scores_test)\n",
    "scores_test"
   ]
  },
  {
   "cell_type": "code",
   "execution_count": 23,
   "id": "fefcbfd3",
   "metadata": {},
   "outputs": [
    {
     "name": "stdout",
     "output_type": "stream",
     "text": [
      "1) neutral 0.6859\n",
      "2) positive 0.3113\n",
      "3) negative 0.0028\n"
     ]
    }
   ],
   "source": [
    "#testing model\n",
    "ranking_test = np.argsort(scores_test)\n",
    "ranking_test = ranking_test[::-1]\n",
    "for i in range(scores_test.shape[0]):\n",
    "    l = labels[ranking_test[i]]\n",
    "    s = scores_test[ranking_test[i]]\n",
    "    print(f\"{i+1}) {l} {np.round(float(s), 4)}\")"
   ]
  },
  {
   "cell_type": "code",
   "execution_count": 24,
   "id": "d6f4bdc8",
   "metadata": {},
   "outputs": [
    {
     "name": "stdout",
     "output_type": "stream",
     "text": [
      "1) negative 0.4247\n",
      "2) neutral 0.397\n",
      "3) positive 0.1783\n",
      "@user I have a 3G iPhone. After 3 hrs tweeting at #RISE_Austin, it was dead! I need to upgrade. Plugin stations at #SXSW.\n"
     ]
    }
   ],
   "source": [
    "test2 = clean_roberta['clean_tweet'][0]\n",
    "encoded_input_test2 = tokenizer(test2, return_tensors='pt')\n",
    "output_test2 = model(**encoded_input_test2)\n",
    "scores_test2 = output_test2[0][0].detach().numpy()\n",
    "scores_test2 = softmax(scores_test2)\n",
    "ranking_test2 = np.argsort(scores_test2)\n",
    "ranking_test2 = ranking_test2[::-1]\n",
    "for i in range(scores_test2.shape[0]):\n",
    "    l = labels[ranking_test2[i]]\n",
    "    s = scores_test2[ranking_test2[i]]\n",
    "    print(f\"{i+1}) {l} {np.round(float(s), 4)}\")\n",
    "print(test2)"
   ]
  },
  {
   "cell_type": "code",
   "execution_count": 25,
   "id": "d9250c79",
   "metadata": {},
   "outputs": [
    {
     "name": "stdout",
     "output_type": "stream",
     "text": [
      "1) neutral 0.6859\n",
      "2) positive 0.3113\n",
      "3) negative 0.0028\n",
      "@user New iPad Apps For #SpeechTherapy And Communication Are Showcased At The #SXSW Conference http #iear #edchat #asd\n"
     ]
    }
   ],
   "source": [
    "test3 = clean_roberta['clean_tweet'][5]\n",
    "encoded_input_test3 = tokenizer(test3, return_tensors='pt')\n",
    "output_test3 = model(**encoded_input_test3)\n",
    "scores_test3 = output_test3[0][0].detach().numpy()\n",
    "scores_test3 = softmax(scores_test3)\n",
    "ranking_test3 = np.argsort(scores_test3)\n",
    "ranking_test3 = ranking_test3[::-1]\n",
    "for i in range(scores_test3.shape[0]):\n",
    "    l = labels[ranking_test3[i]]\n",
    "    s = scores_test3[ranking_test3[i]]\n",
    "    print(f\"{i+1}) {l} {np.round(float(s), 4)}\")\n",
    "print(test3)"
   ]
  },
  {
   "cell_type": "code",
   "execution_count": 26,
   "id": "c7d123b6",
   "metadata": {},
   "outputs": [
    {
     "name": "stdout",
     "output_type": "stream",
     "text": [
      "@user New iPad Apps For #SpeechTherapy And Communication Are Showcased At The #SXSW Conference http #iear #edchat #asd\n",
      "1\n"
     ]
    }
   ],
   "source": [
    "scores_test3 = softmax(scores_test3)\n",
    "score_list = []\n",
    "neg = scores_test3[0]\n",
    "score_list.append(neg)\n",
    "neut = scores_test3[1]\n",
    "score_list.append(neut)\n",
    "pos = scores_test3[2]\n",
    "score_list.append(pos)\n",
    "\n",
    "for score in score_list:\n",
    "    if max(score_list) == neg:\n",
    "        score = 0\n",
    "    elif max(score_list) == neut:\n",
    "        score = 1\n",
    "    elif max(score_list) == pos:\n",
    "        score = 2\n",
    "print(test3)\n",
    "print(score)\n"
   ]
  },
  {
   "cell_type": "code",
   "execution_count": 27,
   "id": "0cbffacf",
   "metadata": {},
   "outputs": [
    {
     "name": "stdout",
     "output_type": "stream",
     "text": [
      "[0.23033516, 0.45608738, 0.3135775]\n"
     ]
    },
    {
     "data": {
      "text/plain": [
       "1"
      ]
     },
     "execution_count": 27,
     "metadata": {},
     "output_type": "execute_result"
    }
   ],
   "source": [
    "score_list3 = []\n",
    "score_list3.append(scores_test3[0])\n",
    "score_list3.append(scores_test3[1])\n",
    "score_list3.append(scores_test3[2])\n",
    "\n",
    "print(score_list3)\n",
    "\n",
    "def find_max_score_index(scores):\n",
    "    max_score = max(scores)\n",
    "    max_index = scores.index(max_score)\n",
    "    if max_index == 0:\n",
    "        return 0\n",
    "    elif max_index == 1:\n",
    "        return 1\n",
    "    elif max_index == 2:\n",
    "        return 2\n",
    "    else:\n",
    "        return \"Error: Maximum score not found in first three indices\"\n",
    "        \n",
    "find_max_score_index(score_list3)"
   ]
  },
  {
   "cell_type": "code",
   "execution_count": 28,
   "id": "82457917",
   "metadata": {},
   "outputs": [
    {
     "name": "stdout",
     "output_type": "stream",
     "text": [
      "[0.3630661, 0.35315055, 0.28378338]\n"
     ]
    },
    {
     "data": {
      "text/plain": [
       "[0]"
      ]
     },
     "execution_count": 28,
     "metadata": {},
     "output_type": "execute_result"
    }
   ],
   "source": [
    "scores_test2 = softmax(scores_test2)\n",
    "score_list2 = []\n",
    "score_list2.append(scores_test2[0])\n",
    "score_list2.append(scores_test2[1])\n",
    "score_list2.append(scores_test2[2])\n",
    "\n",
    "print(score_list2)\n",
    "\n",
    "def find_max_score_index(scores):\n",
    "    sentiment_score = []\n",
    "    max_score = max(scores)\n",
    "    max_index = scores.index(max_score)\n",
    "    if max_index == 0:\n",
    "        sentiment_score.append(0)\n",
    "    elif max_index == 1:\n",
    "        sentiment_score.append(1)\n",
    "    elif max_index == 2:\n",
    "        sentiment_score.append(2)\n",
    "    else:\n",
    "        sentiment_score.append(5)\n",
    "    return sentiment_score\n",
    "        \n",
    "find_max_score_index(score_list2)"
   ]
  },
  {
   "cell_type": "code",
   "execution_count": 29,
   "id": "aa4fda71",
   "metadata": {},
   "outputs": [
    {
     "data": {
      "text/html": [
       "<div>\n",
       "<style scoped>\n",
       "    .dataframe tbody tr th:only-of-type {\n",
       "        vertical-align: middle;\n",
       "    }\n",
       "\n",
       "    .dataframe tbody tr th {\n",
       "        vertical-align: top;\n",
       "    }\n",
       "\n",
       "    .dataframe thead th {\n",
       "        text-align: right;\n",
       "    }\n",
       "</style>\n",
       "<table border=\"1\" class=\"dataframe\">\n",
       "  <thead>\n",
       "    <tr style=\"text-align: right;\">\n",
       "      <th></th>\n",
       "      <th>tweet</th>\n",
       "      <th>directed</th>\n",
       "      <th>emotion</th>\n",
       "      <th>clean_tweet</th>\n",
       "    </tr>\n",
       "  </thead>\n",
       "  <tbody>\n",
       "    <tr>\n",
       "      <th>0</th>\n",
       "      <td>.@wesley83 I have a 3G iPhone. After 3 hrs twe...</td>\n",
       "      <td>iPhone</td>\n",
       "      <td>Negative emotion</td>\n",
       "      <td>@user I have a 3G iPhone. After 3 hrs tweeting...</td>\n",
       "    </tr>\n",
       "    <tr>\n",
       "      <th>1</th>\n",
       "      <td>@jessedee Know about @fludapp ? Awesome iPad/i...</td>\n",
       "      <td>iPad or iPhone App</td>\n",
       "      <td>Positive emotion</td>\n",
       "      <td>@user Know about @user ? Awesome iPad/iPhone a...</td>\n",
       "    </tr>\n",
       "    <tr>\n",
       "      <th>2</th>\n",
       "      <td>@swonderlin Can not wait for #iPad 2 also. The...</td>\n",
       "      <td>iPad</td>\n",
       "      <td>Positive emotion</td>\n",
       "      <td>@user Can not wait for #iPad 2 also. They shou...</td>\n",
       "    </tr>\n",
       "    <tr>\n",
       "      <th>3</th>\n",
       "      <td>@sxsw I hope this year's festival isn't as cra...</td>\n",
       "      <td>iPad or iPhone App</td>\n",
       "      <td>Negative emotion</td>\n",
       "      <td>@user I hope this year's festival isn't as cra...</td>\n",
       "    </tr>\n",
       "    <tr>\n",
       "      <th>4</th>\n",
       "      <td>@sxtxstate great stuff on Fri #SXSW: Marissa M...</td>\n",
       "      <td>Google</td>\n",
       "      <td>Positive emotion</td>\n",
       "      <td>@user great stuff on Fri #SXSW: Marissa Mayer ...</td>\n",
       "    </tr>\n",
       "  </tbody>\n",
       "</table>\n",
       "</div>"
      ],
      "text/plain": [
       "                                               tweet            directed  \\\n",
       "0  .@wesley83 I have a 3G iPhone. After 3 hrs twe...              iPhone   \n",
       "1  @jessedee Know about @fludapp ? Awesome iPad/i...  iPad or iPhone App   \n",
       "2  @swonderlin Can not wait for #iPad 2 also. The...                iPad   \n",
       "3  @sxsw I hope this year's festival isn't as cra...  iPad or iPhone App   \n",
       "4  @sxtxstate great stuff on Fri #SXSW: Marissa M...              Google   \n",
       "\n",
       "            emotion                                        clean_tweet  \n",
       "0  Negative emotion  @user I have a 3G iPhone. After 3 hrs tweeting...  \n",
       "1  Positive emotion  @user Know about @user ? Awesome iPad/iPhone a...  \n",
       "2  Positive emotion  @user Can not wait for #iPad 2 also. They shou...  \n",
       "3  Negative emotion  @user I hope this year's festival isn't as cra...  \n",
       "4  Positive emotion  @user great stuff on Fri #SXSW: Marissa Mayer ...  "
      ]
     },
     "execution_count": 29,
     "metadata": {},
     "output_type": "execute_result"
    }
   ],
   "source": [
    "clean_roberta.head()"
   ]
  },
  {
   "cell_type": "code",
   "execution_count": 30,
   "id": "06e216f3",
   "metadata": {},
   "outputs": [],
   "source": [
    "def model_roberta(df):\n",
    "    sentiment = []\n",
    "    \n",
    "    #encode and run through model in clean_tweets\n",
    "    for tweet in df['tweet']:\n",
    "        encoded_input = tokenizer(str(tweet), return_tensors='pt')\n",
    "        output = model(**encoded_input)\n",
    "        scores = output[0][0].detach().numpy()\n",
    "        scores = softmax(scores)\n",
    "\n",
    "        score_list = []\n",
    "        score_list.append(scores[0])\n",
    "        score_list.append(scores[1])\n",
    "        score_list.append(scores[2])\n",
    "\n",
    "        def find_max_score_index(scores):\n",
    "            max_score = max(scores)\n",
    "            max_index = scores.index(max_score)\n",
    "            if max_index == 0:\n",
    "                return 0\n",
    "            elif max_index == 1:\n",
    "                return 1\n",
    "            elif max_index == 2:\n",
    "                return 2\n",
    "            else:\n",
    "                return 5\n",
    "            \n",
    "        sentiment.append(find_max_score_index(score_list))\n",
    "        \n",
    "    clean_roberta['score'] = sentiment\n",
    "\n",
    "    return df"
   ]
  },
  {
   "cell_type": "code",
   "execution_count": 31,
   "id": "2c97ef7e",
   "metadata": {},
   "outputs": [
    {
     "data": {
      "text/html": [
       "<div>\n",
       "<style scoped>\n",
       "    .dataframe tbody tr th:only-of-type {\n",
       "        vertical-align: middle;\n",
       "    }\n",
       "\n",
       "    .dataframe tbody tr th {\n",
       "        vertical-align: top;\n",
       "    }\n",
       "\n",
       "    .dataframe thead th {\n",
       "        text-align: right;\n",
       "    }\n",
       "</style>\n",
       "<table border=\"1\" class=\"dataframe\">\n",
       "  <thead>\n",
       "    <tr style=\"text-align: right;\">\n",
       "      <th></th>\n",
       "      <th>tweet</th>\n",
       "      <th>directed</th>\n",
       "      <th>emotion</th>\n",
       "      <th>clean_tweet</th>\n",
       "      <th>score</th>\n",
       "    </tr>\n",
       "  </thead>\n",
       "  <tbody>\n",
       "    <tr>\n",
       "      <th>0</th>\n",
       "      <td>.@wesley83 I have a 3G iPhone. After 3 hrs twe...</td>\n",
       "      <td>iPhone</td>\n",
       "      <td>Negative emotion</td>\n",
       "      <td>@user I have a 3G iPhone. After 3 hrs tweeting...</td>\n",
       "      <td>0</td>\n",
       "    </tr>\n",
       "    <tr>\n",
       "      <th>1</th>\n",
       "      <td>@jessedee Know about @fludapp ? Awesome iPad/i...</td>\n",
       "      <td>iPad or iPhone App</td>\n",
       "      <td>Positive emotion</td>\n",
       "      <td>@user Know about @user ? Awesome iPad/iPhone a...</td>\n",
       "      <td>2</td>\n",
       "    </tr>\n",
       "    <tr>\n",
       "      <th>2</th>\n",
       "      <td>@swonderlin Can not wait for #iPad 2 also. The...</td>\n",
       "      <td>iPad</td>\n",
       "      <td>Positive emotion</td>\n",
       "      <td>@user Can not wait for #iPad 2 also. They shou...</td>\n",
       "      <td>2</td>\n",
       "    </tr>\n",
       "    <tr>\n",
       "      <th>3</th>\n",
       "      <td>@sxsw I hope this year's festival isn't as cra...</td>\n",
       "      <td>iPad or iPhone App</td>\n",
       "      <td>Negative emotion</td>\n",
       "      <td>@user I hope this year's festival isn't as cra...</td>\n",
       "      <td>1</td>\n",
       "    </tr>\n",
       "    <tr>\n",
       "      <th>4</th>\n",
       "      <td>@sxtxstate great stuff on Fri #SXSW: Marissa M...</td>\n",
       "      <td>Google</td>\n",
       "      <td>Positive emotion</td>\n",
       "      <td>@user great stuff on Fri #SXSW: Marissa Mayer ...</td>\n",
       "      <td>2</td>\n",
       "    </tr>\n",
       "    <tr>\n",
       "      <th>...</th>\n",
       "      <td>...</td>\n",
       "      <td>...</td>\n",
       "      <td>...</td>\n",
       "      <td>...</td>\n",
       "      <td>...</td>\n",
       "    </tr>\n",
       "    <tr>\n",
       "      <th>9088</th>\n",
       "      <td>Ipad everywhere. #SXSW {link}</td>\n",
       "      <td>iPad</td>\n",
       "      <td>Positive emotion</td>\n",
       "      <td>Ipad everywhere. #SXSW {link}</td>\n",
       "      <td>1</td>\n",
       "    </tr>\n",
       "    <tr>\n",
       "      <th>9089</th>\n",
       "      <td>Wave, buzz... RT @mention We interrupt your re...</td>\n",
       "      <td>NaN</td>\n",
       "      <td>No emotion toward brand or product</td>\n",
       "      <td>Wave, buzz... RT @user We interrupt your regul...</td>\n",
       "      <td>1</td>\n",
       "    </tr>\n",
       "    <tr>\n",
       "      <th>9090</th>\n",
       "      <td>Google's Zeiger, a physician never reported po...</td>\n",
       "      <td>NaN</td>\n",
       "      <td>No emotion toward brand or product</td>\n",
       "      <td>Google's Zeiger, a physician never reported po...</td>\n",
       "      <td>1</td>\n",
       "    </tr>\n",
       "    <tr>\n",
       "      <th>9091</th>\n",
       "      <td>Some Verizon iPhone customers complained their...</td>\n",
       "      <td>NaN</td>\n",
       "      <td>No emotion toward brand or product</td>\n",
       "      <td>Some Verizon iPhone customers complained their...</td>\n",
       "      <td>0</td>\n",
       "    </tr>\n",
       "    <tr>\n",
       "      <th>9092</th>\n",
       "      <td>ЊПЎЋПаЉь_‹ЃК‹ЃО‹ЃТ‹ЃЈ‹ЃБ‹вв‹Ѓ_‹ЃЈ‹ЃЏ‹в_‹ЫвRT @...</td>\n",
       "      <td>NaN</td>\n",
       "      <td>No emotion toward brand or product</td>\n",
       "      <td>ЊПЎЋПаЉь_‹ЃК‹ЃО‹ЃТ‹ЃЈ‹ЃБ‹вв‹Ѓ_‹ЃЈ‹ЃЏ‹в_‹ЫвRT @...</td>\n",
       "      <td>1</td>\n",
       "    </tr>\n",
       "  </tbody>\n",
       "</table>\n",
       "<p>9093 rows × 5 columns</p>\n",
       "</div>"
      ],
      "text/plain": [
       "                                                  tweet            directed  \\\n",
       "0     .@wesley83 I have a 3G iPhone. After 3 hrs twe...              iPhone   \n",
       "1     @jessedee Know about @fludapp ? Awesome iPad/i...  iPad or iPhone App   \n",
       "2     @swonderlin Can not wait for #iPad 2 also. The...                iPad   \n",
       "3     @sxsw I hope this year's festival isn't as cra...  iPad or iPhone App   \n",
       "4     @sxtxstate great stuff on Fri #SXSW: Marissa M...              Google   \n",
       "...                                                 ...                 ...   \n",
       "9088                      Ipad everywhere. #SXSW {link}                iPad   \n",
       "9089  Wave, buzz... RT @mention We interrupt your re...                 NaN   \n",
       "9090  Google's Zeiger, a physician never reported po...                 NaN   \n",
       "9091  Some Verizon iPhone customers complained their...                 NaN   \n",
       "9092  ЊПЎЋПаЉь_‹ЃК‹ЃО‹ЃТ‹ЃЈ‹ЃБ‹вв‹Ѓ_‹ЃЈ‹ЃЏ‹в_‹ЫвRT @...                 NaN   \n",
       "\n",
       "                                 emotion  \\\n",
       "0                       Negative emotion   \n",
       "1                       Positive emotion   \n",
       "2                       Positive emotion   \n",
       "3                       Negative emotion   \n",
       "4                       Positive emotion   \n",
       "...                                  ...   \n",
       "9088                    Positive emotion   \n",
       "9089  No emotion toward brand or product   \n",
       "9090  No emotion toward brand or product   \n",
       "9091  No emotion toward brand or product   \n",
       "9092  No emotion toward brand or product   \n",
       "\n",
       "                                            clean_tweet  score  \n",
       "0     @user I have a 3G iPhone. After 3 hrs tweeting...      0  \n",
       "1     @user Know about @user ? Awesome iPad/iPhone a...      2  \n",
       "2     @user Can not wait for #iPad 2 also. They shou...      2  \n",
       "3     @user I hope this year's festival isn't as cra...      1  \n",
       "4     @user great stuff on Fri #SXSW: Marissa Mayer ...      2  \n",
       "...                                                 ...    ...  \n",
       "9088                      Ipad everywhere. #SXSW {link}      1  \n",
       "9089  Wave, buzz... RT @user We interrupt your regul...      1  \n",
       "9090  Google's Zeiger, a physician never reported po...      1  \n",
       "9091  Some Verizon iPhone customers complained their...      0  \n",
       "9092  ЊПЎЋПаЉь_‹ЃК‹ЃО‹ЃТ‹ЃЈ‹ЃБ‹вв‹Ѓ_‹ЃЈ‹ЃЏ‹в_‹ЫвRT @...      1  \n",
       "\n",
       "[9093 rows x 5 columns]"
      ]
     },
     "execution_count": 31,
     "metadata": {},
     "output_type": "execute_result"
    }
   ],
   "source": [
    "model_roberta(clean_roberta)"
   ]
  },
  {
   "cell_type": "code",
   "execution_count": 32,
   "id": "2a5308cd",
   "metadata": {},
   "outputs": [
    {
     "data": {
      "text/plain": [
       "2    4989\n",
       "1    3423\n",
       "0     681\n",
       "Name: score, dtype: int64"
      ]
     },
     "execution_count": 32,
     "metadata": {},
     "output_type": "execute_result"
    }
   ],
   "source": [
    "clean_roberta['score'].value_counts()"
   ]
  },
  {
   "cell_type": "markdown",
   "id": "c44c7e63",
   "metadata": {},
   "source": [
    "# Taking roBERTa a step further\n",
    "\n",
    "We'd like to look at how roberta categorizes tweets when we apply more preprocessing"
   ]
  },
  {
   "cell_type": "code",
   "execution_count": 33,
   "id": "b61cfecc",
   "metadata": {},
   "outputs": [
    {
     "data": {
      "text/plain": [
       "'Excited to meet the @user at #sxsw so I can show them my Sprint Galaxy S still running Android 2.1. #fail'"
      ]
     },
     "execution_count": 33,
     "metadata": {},
     "output_type": "execute_result"
    }
   ],
   "source": [
    "test5 = clean_roberta['clean_tweet'][10]\n",
    "test5"
   ]
  },
  {
   "cell_type": "code",
   "execution_count": 41,
   "id": "760b5bb8",
   "metadata": {},
   "outputs": [],
   "source": [
    " def get_wordnet_pos(clean_tweet):\n",
    "        clean_tweet = pos_tag(str(clean_tweet).split())\n",
    "\n",
    "        new_tags = []\n",
    "        for word, tag in clean_tweet:\n",
    "            if tag.startswith('J'):\n",
    "                tag = wordnet.ADJ\n",
    "                new_tags.append([word, tag])\n",
    "            elif tag.startswith('V'):\n",
    "                tag = wordnet.VERB\n",
    "                new_tags.append([word, tag])\n",
    "            elif tag.startswith('N'):\n",
    "                tag = wordnet.NOUN\n",
    "                new_tags.append([word, tag])\n",
    "            elif tag.startswith('R'):\n",
    "                tag = wordnet.ADV\n",
    "                new_tags.append([word, tag])\n",
    "            else:\n",
    "                tag = wordnet.NOUN\n",
    "                new_tags.append([word, tag])\n",
    "\n",
    "\n",
    "        return new_tags"
   ]
  },
  {
   "cell_type": "code",
   "execution_count": 75,
   "id": "f7079ce8",
   "metadata": {},
   "outputs": [
    {
     "name": "stderr",
     "output_type": "stream",
     "text": [
      "[nltk_data] Downloading package words to\n",
      "[nltk_data]     /Users/leahschell/nltk_data...\n",
      "[nltk_data]   Package words is already up-to-date!\n"
     ]
    }
   ],
   "source": [
    "#imports for preprocessing\n",
    "\n",
    "import nltk\n",
    "import string\n",
    "nltk.download('words')\n",
    "from nltk.stem.wordnet import WordNetLemmatizer\n",
    "from nltk import pos_tag\n",
    "from nltk.corpus import wordnet\n",
    "\n",
    "#getting pos\n",
    "\n",
    "clean_roberta['clean_preprocess'] = clean_roberta['clean_tweet'].apply(get_wordnet_pos)"
   ]
  },
  {
   "cell_type": "code",
   "execution_count": 76,
   "id": "ff2515d9",
   "metadata": {},
   "outputs": [
    {
     "data": {
      "text/html": [
       "<div>\n",
       "<style scoped>\n",
       "    .dataframe tbody tr th:only-of-type {\n",
       "        vertical-align: middle;\n",
       "    }\n",
       "\n",
       "    .dataframe tbody tr th {\n",
       "        vertical-align: top;\n",
       "    }\n",
       "\n",
       "    .dataframe thead th {\n",
       "        text-align: right;\n",
       "    }\n",
       "</style>\n",
       "<table border=\"1\" class=\"dataframe\">\n",
       "  <thead>\n",
       "    <tr style=\"text-align: right;\">\n",
       "      <th></th>\n",
       "      <th>tweet</th>\n",
       "      <th>directed</th>\n",
       "      <th>emotion</th>\n",
       "      <th>clean_tweet</th>\n",
       "      <th>score</th>\n",
       "      <th>clean_preprocess</th>\n",
       "      <th>final_preprocess</th>\n",
       "    </tr>\n",
       "  </thead>\n",
       "  <tbody>\n",
       "    <tr>\n",
       "      <th>0</th>\n",
       "      <td>.@wesley83 I have a 3G iPhone. After 3 hrs twe...</td>\n",
       "      <td>iPhone</td>\n",
       "      <td>Negative emotion</td>\n",
       "      <td>@user I have a 3G iPhone. After 3 hrs tweeting...</td>\n",
       "      <td>0</td>\n",
       "      <td>[[@user, n], [I, n], [have, v], [a, n], [3G, n...</td>\n",
       "      <td>[ [ ' @ u s e r ' ,   ' n ' ] ,   [ ' I ' ,   ...</td>\n",
       "    </tr>\n",
       "    <tr>\n",
       "      <th>1</th>\n",
       "      <td>@jessedee Know about @fludapp ? Awesome iPad/i...</td>\n",
       "      <td>iPad or iPhone App</td>\n",
       "      <td>Positive emotion</td>\n",
       "      <td>@user Know about @user ? Awesome iPad/iPhone a...</td>\n",
       "      <td>2</td>\n",
       "      <td>[[@user, r], [Know, n], [about, n], [@user, n]...</td>\n",
       "      <td>[ [ ' @ u s e r ' ,   ' r ' ] ,   [ ' K n o w ...</td>\n",
       "    </tr>\n",
       "    <tr>\n",
       "      <th>2</th>\n",
       "      <td>@swonderlin Can not wait for #iPad 2 also. The...</td>\n",
       "      <td>iPad</td>\n",
       "      <td>Positive emotion</td>\n",
       "      <td>@user Can not wait for #iPad 2 also. They shou...</td>\n",
       "      <td>2</td>\n",
       "      <td>[[@user, n], [Can, n], [not, r], [wait, v], [f...</td>\n",
       "      <td>[ [ ' @ u s e r ' ,   ' n ' ] ,   [ ' C a n ' ...</td>\n",
       "    </tr>\n",
       "    <tr>\n",
       "      <th>3</th>\n",
       "      <td>@sxsw I hope this year's festival isn't as cra...</td>\n",
       "      <td>iPad or iPhone App</td>\n",
       "      <td>Negative emotion</td>\n",
       "      <td>@user I hope this year's festival isn't as cra...</td>\n",
       "      <td>1</td>\n",
       "      <td>[[@user, n], [I, n], [hope, v], [this, n], [ye...</td>\n",
       "      <td>[ [ ' @ u s e r ' ,   ' n ' ] ,   [ ' I ' ,   ...</td>\n",
       "    </tr>\n",
       "    <tr>\n",
       "      <th>4</th>\n",
       "      <td>@sxtxstate great stuff on Fri #SXSW: Marissa M...</td>\n",
       "      <td>Google</td>\n",
       "      <td>Positive emotion</td>\n",
       "      <td>@user great stuff on Fri #SXSW: Marissa Mayer ...</td>\n",
       "      <td>2</td>\n",
       "      <td>[[@user, r], [great, a], [stuff, n], [on, n], ...</td>\n",
       "      <td>[ [ ' @ u s e r ' ,   ' r ' ] ,   [ ' g r e a ...</td>\n",
       "    </tr>\n",
       "  </tbody>\n",
       "</table>\n",
       "</div>"
      ],
      "text/plain": [
       "                                               tweet            directed  \\\n",
       "0  .@wesley83 I have a 3G iPhone. After 3 hrs twe...              iPhone   \n",
       "1  @jessedee Know about @fludapp ? Awesome iPad/i...  iPad or iPhone App   \n",
       "2  @swonderlin Can not wait for #iPad 2 also. The...                iPad   \n",
       "3  @sxsw I hope this year's festival isn't as cra...  iPad or iPhone App   \n",
       "4  @sxtxstate great stuff on Fri #SXSW: Marissa M...              Google   \n",
       "\n",
       "            emotion                                        clean_tweet  score  \\\n",
       "0  Negative emotion  @user I have a 3G iPhone. After 3 hrs tweeting...      0   \n",
       "1  Positive emotion  @user Know about @user ? Awesome iPad/iPhone a...      2   \n",
       "2  Positive emotion  @user Can not wait for #iPad 2 also. They shou...      2   \n",
       "3  Negative emotion  @user I hope this year's festival isn't as cra...      1   \n",
       "4  Positive emotion  @user great stuff on Fri #SXSW: Marissa Mayer ...      2   \n",
       "\n",
       "                                    clean_preprocess  \\\n",
       "0  [[@user, n], [I, n], [have, v], [a, n], [3G, n...   \n",
       "1  [[@user, r], [Know, n], [about, n], [@user, n]...   \n",
       "2  [[@user, n], [Can, n], [not, r], [wait, v], [f...   \n",
       "3  [[@user, n], [I, n], [hope, v], [this, n], [ye...   \n",
       "4  [[@user, r], [great, a], [stuff, n], [on, n], ...   \n",
       "\n",
       "                                    final_preprocess  \n",
       "0  [ [ ' @ u s e r ' ,   ' n ' ] ,   [ ' I ' ,   ...  \n",
       "1  [ [ ' @ u s e r ' ,   ' r ' ] ,   [ ' K n o w ...  \n",
       "2  [ [ ' @ u s e r ' ,   ' n ' ] ,   [ ' C a n ' ...  \n",
       "3  [ [ ' @ u s e r ' ,   ' n ' ] ,   [ ' I ' ,   ...  \n",
       "4  [ [ ' @ u s e r ' ,   ' r ' ] ,   [ ' g r e a ...  "
      ]
     },
     "execution_count": 76,
     "metadata": {},
     "output_type": "execute_result"
    }
   ],
   "source": [
    "clean_roberta.head()"
   ]
  },
  {
   "cell_type": "code",
   "execution_count": 80,
   "id": "8e140450",
   "metadata": {},
   "outputs": [],
   "source": [
    "# applying our own preprocessing function based on research about roBERTa\n",
    "\n",
    "def preprocess(clean_tweet):\n",
    "    \n",
    "    lem = WordNetLemmatizer()\n",
    "    clean_tweet_lemmed = [lem.lemmatize(pair[0], pair[1]) for pair in clean_tweet]\n",
    "    \n",
    "    \n",
    "    preprocess_tweet = [x for x in clean_tweet_lemmed if x not in removewords]\n",
    "    preprocess_tweet = \" \".join(preprocess_tweet)\n",
    "    \n",
    "    return preprocess_tweet"
   ]
  },
  {
   "cell_type": "code",
   "execution_count": 65,
   "id": "e08a871e",
   "metadata": {
    "scrolled": true
   },
   "outputs": [
    {
     "data": {
      "text/plain": [
       "[['@user', 'r'],\n",
       " ['New', 'n'],\n",
       " ['iPad', 'n'],\n",
       " ['Apps', 'n'],\n",
       " ['For', 'n'],\n",
       " ['#SpeechTherapy', 'n'],\n",
       " ['And', 'n'],\n",
       " ['Communication', 'n'],\n",
       " ['Are', 'n'],\n",
       " ['Showcased', 'v'],\n",
       " ['At', 'n'],\n",
       " ['The', 'n'],\n",
       " ['#SXSW', 'n'],\n",
       " ['Conference', 'n'],\n",
       " ['http', 'v'],\n",
       " ['#iear', 'a'],\n",
       " ['#edchat', 'n'],\n",
       " ['#asd', 'n']]"
      ]
     },
     "execution_count": 65,
     "metadata": {},
     "output_type": "execute_result"
    }
   ],
   "source": [
    "test6 = clean_roberta['clean_preprocess'][5]\n",
    "test6"
   ]
  },
  {
   "cell_type": "code",
   "execution_count": 67,
   "id": "e0141a42",
   "metadata": {},
   "outputs": [
    {
     "data": {
      "text/plain": [
       "['@user',\n",
       " 'New',\n",
       " 'iPad',\n",
       " 'Apps',\n",
       " 'For',\n",
       " '#SpeechTherapy',\n",
       " 'And',\n",
       " 'Communication',\n",
       " 'Are',\n",
       " 'Showcased',\n",
       " 'At',\n",
       " 'The',\n",
       " '#SXSW',\n",
       " 'Conference',\n",
       " 'http',\n",
       " '#iear',\n",
       " '#edchat',\n",
       " '#asd']"
      ]
     },
     "execution_count": 67,
     "metadata": {},
     "output_type": "execute_result"
    }
   ],
   "source": [
    "lem_test = WordNetLemmatizer()\n",
    "    \n",
    "clean_tweet_lemmed_test = [lem_test.lemmatize(pair[0], pair[1]) for pair in test6] \n",
    "clean_tweet_lemmed_test"
   ]
  },
  {
   "cell_type": "code",
   "execution_count": 68,
   "id": "e4e10d28",
   "metadata": {},
   "outputs": [
    {
     "data": {
      "text/plain": [
       "'@user New iPad Apps For #SpeechTherapy And Communication Are Showcased At The #SXSW Conference http #iear #edchat #asd'"
      ]
     },
     "execution_count": 68,
     "metadata": {},
     "output_type": "execute_result"
    }
   ],
   "source": [
    "#removing some words and preprocessing\n",
    "removewords = ['ып', 'ыќ']\n",
    "\n",
    "preprocess_tweet_test = [x for x in clean_tweet_lemmed_test if x not in removewords]\n",
    "preprocess_tweet_test = \" \".join(preprocess_tweet_test)\n",
    "preprocess_tweet_test"
   ]
  },
  {
   "cell_type": "code",
   "execution_count": 82,
   "id": "c2eec064",
   "metadata": {},
   "outputs": [
    {
     "data": {
      "text/html": [
       "<div>\n",
       "<style scoped>\n",
       "    .dataframe tbody tr th:only-of-type {\n",
       "        vertical-align: middle;\n",
       "    }\n",
       "\n",
       "    .dataframe tbody tr th {\n",
       "        vertical-align: top;\n",
       "    }\n",
       "\n",
       "    .dataframe thead th {\n",
       "        text-align: right;\n",
       "    }\n",
       "</style>\n",
       "<table border=\"1\" class=\"dataframe\">\n",
       "  <thead>\n",
       "    <tr style=\"text-align: right;\">\n",
       "      <th></th>\n",
       "      <th>tweet</th>\n",
       "      <th>directed</th>\n",
       "      <th>emotion</th>\n",
       "      <th>clean_tweet</th>\n",
       "      <th>score</th>\n",
       "      <th>clean_preprocess</th>\n",
       "      <th>final_preprocess</th>\n",
       "    </tr>\n",
       "  </thead>\n",
       "  <tbody>\n",
       "    <tr>\n",
       "      <th>0</th>\n",
       "      <td>.@wesley83 I have a 3G iPhone. After 3 hrs twe...</td>\n",
       "      <td>iPhone</td>\n",
       "      <td>Negative emotion</td>\n",
       "      <td>@user I have a 3G iPhone. After 3 hrs tweeting...</td>\n",
       "      <td>0</td>\n",
       "      <td>[[@user, n], [I, n], [have, v], [a, n], [3G, n...</td>\n",
       "      <td>@user I have a 3G iPhone. After 3 hr tweeting ...</td>\n",
       "    </tr>\n",
       "    <tr>\n",
       "      <th>1</th>\n",
       "      <td>@jessedee Know about @fludapp ? Awesome iPad/i...</td>\n",
       "      <td>iPad or iPhone App</td>\n",
       "      <td>Positive emotion</td>\n",
       "      <td>@user Know about @user ? Awesome iPad/iPhone a...</td>\n",
       "      <td>2</td>\n",
       "      <td>[[@user, r], [Know, n], [about, n], [@user, n]...</td>\n",
       "      <td>@user Know about @user ? Awesome iPad/iPhone a...</td>\n",
       "    </tr>\n",
       "    <tr>\n",
       "      <th>2</th>\n",
       "      <td>@swonderlin Can not wait for #iPad 2 also. The...</td>\n",
       "      <td>iPad</td>\n",
       "      <td>Positive emotion</td>\n",
       "      <td>@user Can not wait for #iPad 2 also. They shou...</td>\n",
       "      <td>2</td>\n",
       "      <td>[[@user, n], [Can, n], [not, r], [wait, v], [f...</td>\n",
       "      <td>@user Can not wait for #iPad 2 also. They shou...</td>\n",
       "    </tr>\n",
       "    <tr>\n",
       "      <th>3</th>\n",
       "      <td>@sxsw I hope this year's festival isn't as cra...</td>\n",
       "      <td>iPad or iPhone App</td>\n",
       "      <td>Negative emotion</td>\n",
       "      <td>@user I hope this year's festival isn't as cra...</td>\n",
       "      <td>1</td>\n",
       "      <td>[[@user, n], [I, n], [hope, v], [this, n], [ye...</td>\n",
       "      <td>@user I hope this year's festival isn't as cra...</td>\n",
       "    </tr>\n",
       "    <tr>\n",
       "      <th>4</th>\n",
       "      <td>@sxtxstate great stuff on Fri #SXSW: Marissa M...</td>\n",
       "      <td>Google</td>\n",
       "      <td>Positive emotion</td>\n",
       "      <td>@user great stuff on Fri #SXSW: Marissa Mayer ...</td>\n",
       "      <td>2</td>\n",
       "      <td>[[@user, r], [great, a], [stuff, n], [on, n], ...</td>\n",
       "      <td>@user great stuff on Fri #SXSW: Marissa Mayer ...</td>\n",
       "    </tr>\n",
       "  </tbody>\n",
       "</table>\n",
       "</div>"
      ],
      "text/plain": [
       "                                               tweet            directed  \\\n",
       "0  .@wesley83 I have a 3G iPhone. After 3 hrs twe...              iPhone   \n",
       "1  @jessedee Know about @fludapp ? Awesome iPad/i...  iPad or iPhone App   \n",
       "2  @swonderlin Can not wait for #iPad 2 also. The...                iPad   \n",
       "3  @sxsw I hope this year's festival isn't as cra...  iPad or iPhone App   \n",
       "4  @sxtxstate great stuff on Fri #SXSW: Marissa M...              Google   \n",
       "\n",
       "            emotion                                        clean_tweet  score  \\\n",
       "0  Negative emotion  @user I have a 3G iPhone. After 3 hrs tweeting...      0   \n",
       "1  Positive emotion  @user Know about @user ? Awesome iPad/iPhone a...      2   \n",
       "2  Positive emotion  @user Can not wait for #iPad 2 also. They shou...      2   \n",
       "3  Negative emotion  @user I hope this year's festival isn't as cra...      1   \n",
       "4  Positive emotion  @user great stuff on Fri #SXSW: Marissa Mayer ...      2   \n",
       "\n",
       "                                    clean_preprocess  \\\n",
       "0  [[@user, n], [I, n], [have, v], [a, n], [3G, n...   \n",
       "1  [[@user, r], [Know, n], [about, n], [@user, n]...   \n",
       "2  [[@user, n], [Can, n], [not, r], [wait, v], [f...   \n",
       "3  [[@user, n], [I, n], [hope, v], [this, n], [ye...   \n",
       "4  [[@user, r], [great, a], [stuff, n], [on, n], ...   \n",
       "\n",
       "                                    final_preprocess  \n",
       "0  @user I have a 3G iPhone. After 3 hr tweeting ...  \n",
       "1  @user Know about @user ? Awesome iPad/iPhone a...  \n",
       "2  @user Can not wait for #iPad 2 also. They shou...  \n",
       "3  @user I hope this year's festival isn't as cra...  \n",
       "4  @user great stuff on Fri #SXSW: Marissa Mayer ...  "
      ]
     },
     "execution_count": 82,
     "metadata": {},
     "output_type": "execute_result"
    }
   ],
   "source": [
    "#removing some words and preprocessing\n",
    "removewords = ['ып', 'ыќ']\n",
    "\n",
    "clean_roberta['final_preprocess'] = clean_roberta['clean_preprocess'].apply(preprocess)\n",
    "clean_roberta.head()"
   ]
  },
  {
   "cell_type": "code",
   "execution_count": 84,
   "id": "80234b1c",
   "metadata": {},
   "outputs": [
    {
     "data": {
      "text/html": [
       "<div>\n",
       "<style scoped>\n",
       "    .dataframe tbody tr th:only-of-type {\n",
       "        vertical-align: middle;\n",
       "    }\n",
       "\n",
       "    .dataframe tbody tr th {\n",
       "        vertical-align: top;\n",
       "    }\n",
       "\n",
       "    .dataframe thead th {\n",
       "        text-align: right;\n",
       "    }\n",
       "</style>\n",
       "<table border=\"1\" class=\"dataframe\">\n",
       "  <thead>\n",
       "    <tr style=\"text-align: right;\">\n",
       "      <th></th>\n",
       "      <th>tweet</th>\n",
       "      <th>directed</th>\n",
       "      <th>emotion</th>\n",
       "      <th>clean_tweet</th>\n",
       "      <th>score</th>\n",
       "      <th>final_preprocess</th>\n",
       "    </tr>\n",
       "  </thead>\n",
       "  <tbody>\n",
       "    <tr>\n",
       "      <th>0</th>\n",
       "      <td>.@wesley83 I have a 3G iPhone. After 3 hrs twe...</td>\n",
       "      <td>iPhone</td>\n",
       "      <td>Negative emotion</td>\n",
       "      <td>@user I have a 3G iPhone. After 3 hrs tweeting...</td>\n",
       "      <td>0</td>\n",
       "      <td>@user I have a 3G iPhone. After 3 hr tweeting ...</td>\n",
       "    </tr>\n",
       "    <tr>\n",
       "      <th>1</th>\n",
       "      <td>@jessedee Know about @fludapp ? Awesome iPad/i...</td>\n",
       "      <td>iPad or iPhone App</td>\n",
       "      <td>Positive emotion</td>\n",
       "      <td>@user Know about @user ? Awesome iPad/iPhone a...</td>\n",
       "      <td>2</td>\n",
       "      <td>@user Know about @user ? Awesome iPad/iPhone a...</td>\n",
       "    </tr>\n",
       "    <tr>\n",
       "      <th>2</th>\n",
       "      <td>@swonderlin Can not wait for #iPad 2 also. The...</td>\n",
       "      <td>iPad</td>\n",
       "      <td>Positive emotion</td>\n",
       "      <td>@user Can not wait for #iPad 2 also. They shou...</td>\n",
       "      <td>2</td>\n",
       "      <td>@user Can not wait for #iPad 2 also. They shou...</td>\n",
       "    </tr>\n",
       "    <tr>\n",
       "      <th>3</th>\n",
       "      <td>@sxsw I hope this year's festival isn't as cra...</td>\n",
       "      <td>iPad or iPhone App</td>\n",
       "      <td>Negative emotion</td>\n",
       "      <td>@user I hope this year's festival isn't as cra...</td>\n",
       "      <td>1</td>\n",
       "      <td>@user I hope this year's festival isn't as cra...</td>\n",
       "    </tr>\n",
       "    <tr>\n",
       "      <th>4</th>\n",
       "      <td>@sxtxstate great stuff on Fri #SXSW: Marissa M...</td>\n",
       "      <td>Google</td>\n",
       "      <td>Positive emotion</td>\n",
       "      <td>@user great stuff on Fri #SXSW: Marissa Mayer ...</td>\n",
       "      <td>2</td>\n",
       "      <td>@user great stuff on Fri #SXSW: Marissa Mayer ...</td>\n",
       "    </tr>\n",
       "  </tbody>\n",
       "</table>\n",
       "</div>"
      ],
      "text/plain": [
       "                                               tweet            directed  \\\n",
       "0  .@wesley83 I have a 3G iPhone. After 3 hrs twe...              iPhone   \n",
       "1  @jessedee Know about @fludapp ? Awesome iPad/i...  iPad or iPhone App   \n",
       "2  @swonderlin Can not wait for #iPad 2 also. The...                iPad   \n",
       "3  @sxsw I hope this year's festival isn't as cra...  iPad or iPhone App   \n",
       "4  @sxtxstate great stuff on Fri #SXSW: Marissa M...              Google   \n",
       "\n",
       "            emotion                                        clean_tweet  score  \\\n",
       "0  Negative emotion  @user I have a 3G iPhone. After 3 hrs tweeting...      0   \n",
       "1  Positive emotion  @user Know about @user ? Awesome iPad/iPhone a...      2   \n",
       "2  Positive emotion  @user Can not wait for #iPad 2 also. They shou...      2   \n",
       "3  Negative emotion  @user I hope this year's festival isn't as cra...      1   \n",
       "4  Positive emotion  @user great stuff on Fri #SXSW: Marissa Mayer ...      2   \n",
       "\n",
       "                                    final_preprocess  \n",
       "0  @user I have a 3G iPhone. After 3 hr tweeting ...  \n",
       "1  @user Know about @user ? Awesome iPad/iPhone a...  \n",
       "2  @user Can not wait for #iPad 2 also. They shou...  \n",
       "3  @user I hope this year's festival isn't as cra...  \n",
       "4  @user great stuff on Fri #SXSW: Marissa Mayer ...  "
      ]
     },
     "execution_count": 84,
     "metadata": {},
     "output_type": "execute_result"
    }
   ],
   "source": [
    "clean_roberta = clean_roberta.drop(['clean_preprocess'], axis = 1)\n",
    "clean_roberta.head()"
   ]
  },
  {
   "cell_type": "code",
   "execution_count": 89,
   "id": "c6b5d182",
   "metadata": {},
   "outputs": [
    {
     "name": "stderr",
     "output_type": "stream",
     "text": [
      "/var/folders/xc/4fn08svj2dgdk_3wj3xkp_rr0000gn/T/ipykernel_1189/77492212.py:1: FutureWarning: DataFrame.set_axis 'inplace' keyword is deprecated and will be removed in a future version. Use `obj = obj.set_axis(..., copy=False)` instead\n",
      "  clean_roberta.set_axis(['original_tweet',\n"
     ]
    },
    {
     "data": {
      "text/html": [
       "<div>\n",
       "<style scoped>\n",
       "    .dataframe tbody tr th:only-of-type {\n",
       "        vertical-align: middle;\n",
       "    }\n",
       "\n",
       "    .dataframe tbody tr th {\n",
       "        vertical-align: top;\n",
       "    }\n",
       "\n",
       "    .dataframe thead th {\n",
       "        text-align: right;\n",
       "    }\n",
       "</style>\n",
       "<table border=\"1\" class=\"dataframe\">\n",
       "  <thead>\n",
       "    <tr style=\"text-align: right;\">\n",
       "      <th></th>\n",
       "      <th>original_tweet</th>\n",
       "      <th>directed</th>\n",
       "      <th>original_score</th>\n",
       "      <th>roberta_preprocess_tweet</th>\n",
       "      <th>roberta_score</th>\n",
       "      <th>final_preprocess</th>\n",
       "    </tr>\n",
       "  </thead>\n",
       "  <tbody>\n",
       "    <tr>\n",
       "      <th>0</th>\n",
       "      <td>.@wesley83 I have a 3G iPhone. After 3 hrs twe...</td>\n",
       "      <td>iPhone</td>\n",
       "      <td>Negative emotion</td>\n",
       "      <td>@user I have a 3G iPhone. After 3 hrs tweeting...</td>\n",
       "      <td>0</td>\n",
       "      <td>@user I have a 3G iPhone. After 3 hr tweeting ...</td>\n",
       "    </tr>\n",
       "    <tr>\n",
       "      <th>1</th>\n",
       "      <td>@jessedee Know about @fludapp ? Awesome iPad/i...</td>\n",
       "      <td>iPad or iPhone App</td>\n",
       "      <td>Positive emotion</td>\n",
       "      <td>@user Know about @user ? Awesome iPad/iPhone a...</td>\n",
       "      <td>2</td>\n",
       "      <td>@user Know about @user ? Awesome iPad/iPhone a...</td>\n",
       "    </tr>\n",
       "    <tr>\n",
       "      <th>2</th>\n",
       "      <td>@swonderlin Can not wait for #iPad 2 also. The...</td>\n",
       "      <td>iPad</td>\n",
       "      <td>Positive emotion</td>\n",
       "      <td>@user Can not wait for #iPad 2 also. They shou...</td>\n",
       "      <td>2</td>\n",
       "      <td>@user Can not wait for #iPad 2 also. They shou...</td>\n",
       "    </tr>\n",
       "    <tr>\n",
       "      <th>3</th>\n",
       "      <td>@sxsw I hope this year's festival isn't as cra...</td>\n",
       "      <td>iPad or iPhone App</td>\n",
       "      <td>Negative emotion</td>\n",
       "      <td>@user I hope this year's festival isn't as cra...</td>\n",
       "      <td>1</td>\n",
       "      <td>@user I hope this year's festival isn't as cra...</td>\n",
       "    </tr>\n",
       "    <tr>\n",
       "      <th>4</th>\n",
       "      <td>@sxtxstate great stuff on Fri #SXSW: Marissa M...</td>\n",
       "      <td>Google</td>\n",
       "      <td>Positive emotion</td>\n",
       "      <td>@user great stuff on Fri #SXSW: Marissa Mayer ...</td>\n",
       "      <td>2</td>\n",
       "      <td>@user great stuff on Fri #SXSW: Marissa Mayer ...</td>\n",
       "    </tr>\n",
       "  </tbody>\n",
       "</table>\n",
       "</div>"
      ],
      "text/plain": [
       "                                      original_tweet            directed  \\\n",
       "0  .@wesley83 I have a 3G iPhone. After 3 hrs twe...              iPhone   \n",
       "1  @jessedee Know about @fludapp ? Awesome iPad/i...  iPad or iPhone App   \n",
       "2  @swonderlin Can not wait for #iPad 2 also. The...                iPad   \n",
       "3  @sxsw I hope this year's festival isn't as cra...  iPad or iPhone App   \n",
       "4  @sxtxstate great stuff on Fri #SXSW: Marissa M...              Google   \n",
       "\n",
       "     original_score                           roberta_preprocess_tweet  \\\n",
       "0  Negative emotion  @user I have a 3G iPhone. After 3 hrs tweeting...   \n",
       "1  Positive emotion  @user Know about @user ? Awesome iPad/iPhone a...   \n",
       "2  Positive emotion  @user Can not wait for #iPad 2 also. They shou...   \n",
       "3  Negative emotion  @user I hope this year's festival isn't as cra...   \n",
       "4  Positive emotion  @user great stuff on Fri #SXSW: Marissa Mayer ...   \n",
       "\n",
       "   roberta_score                                   final_preprocess  \n",
       "0              0  @user I have a 3G iPhone. After 3 hr tweeting ...  \n",
       "1              2  @user Know about @user ? Awesome iPad/iPhone a...  \n",
       "2              2  @user Can not wait for #iPad 2 also. They shou...  \n",
       "3              1  @user I hope this year's festival isn't as cra...  \n",
       "4              2  @user great stuff on Fri #SXSW: Marissa Mayer ...  "
      ]
     },
     "execution_count": 89,
     "metadata": {},
     "output_type": "execute_result"
    }
   ],
   "source": [
    "clean_roberta.set_axis(['original_tweet', \n",
    "                               'directed', \n",
    "                               'original_score', \n",
    "                               'roberta_preprocess_tweet', \n",
    "                               'roberta_score', \n",
    "                               'final_preprocess'], axis=1, inplace=True)\n",
    "clean_roberta.head()"
   ]
  },
  {
   "cell_type": "code",
   "execution_count": 90,
   "id": "093eab7c",
   "metadata": {},
   "outputs": [],
   "source": [
    "#Drop one missing tweet\n",
    "clean_roberta.dropna(subset='tweet', axis=0, inplace=True)"
   ]
  },
  {
   "cell_type": "code",
   "execution_count": 93,
   "id": "28cca853",
   "metadata": {},
   "outputs": [],
   "source": [
    "#Drop non-apple values in Directed to column\n",
    "#Come back to this to make cleaner later??\n",
    "\n",
    "clean_roberta = clean_roberta[(clean_roberta['directed'] != 'Android App') & (clean_roberta['directed'] != 'Android') & (clean_roberta['directed'] != 'Google') & (clean_roberta['directed'] != 'Other Google product or service')]"
   ]
  },
  {
   "cell_type": "code",
   "execution_count": 95,
   "id": "77a3817a",
   "metadata": {},
   "outputs": [
    {
     "name": "stderr",
     "output_type": "stream",
     "text": [
      "/var/folders/xc/4fn08svj2dgdk_3wj3xkp_rr0000gn/T/ipykernel_1189/4029830518.py:2: SettingWithCopyWarning: \n",
      "A value is trying to be set on a copy of a slice from a DataFrame.\n",
      "Try using .loc[row_indexer,col_indexer] = value instead\n",
      "\n",
      "See the caveats in the documentation: https://pandas.pydata.org/pandas-docs/stable/user_guide/indexing.html#returning-a-view-versus-a-copy\n",
      "  clean_roberta['original_score'] = clean_roberta['original_score'].map(emo_dict)\n"
     ]
    },
    {
     "data": {
      "text/html": [
       "<div>\n",
       "<style scoped>\n",
       "    .dataframe tbody tr th:only-of-type {\n",
       "        vertical-align: middle;\n",
       "    }\n",
       "\n",
       "    .dataframe tbody tr th {\n",
       "        vertical-align: top;\n",
       "    }\n",
       "\n",
       "    .dataframe thead th {\n",
       "        text-align: right;\n",
       "    }\n",
       "</style>\n",
       "<table border=\"1\" class=\"dataframe\">\n",
       "  <thead>\n",
       "    <tr style=\"text-align: right;\">\n",
       "      <th></th>\n",
       "      <th>original_tweet</th>\n",
       "      <th>directed</th>\n",
       "      <th>original_score</th>\n",
       "      <th>roberta_preprocess_tweet</th>\n",
       "      <th>roberta_score</th>\n",
       "      <th>final_preprocess</th>\n",
       "    </tr>\n",
       "  </thead>\n",
       "  <tbody>\n",
       "    <tr>\n",
       "      <th>0</th>\n",
       "      <td>.@wesley83 I have a 3G iPhone. After 3 hrs twe...</td>\n",
       "      <td>iPhone</td>\n",
       "      <td>0.0</td>\n",
       "      <td>@user I have a 3G iPhone. After 3 hrs tweeting...</td>\n",
       "      <td>0</td>\n",
       "      <td>@user I have a 3G iPhone. After 3 hr tweeting ...</td>\n",
       "    </tr>\n",
       "    <tr>\n",
       "      <th>1</th>\n",
       "      <td>@jessedee Know about @fludapp ? Awesome iPad/i...</td>\n",
       "      <td>iPad or iPhone App</td>\n",
       "      <td>2.0</td>\n",
       "      <td>@user Know about @user ? Awesome iPad/iPhone a...</td>\n",
       "      <td>2</td>\n",
       "      <td>@user Know about @user ? Awesome iPad/iPhone a...</td>\n",
       "    </tr>\n",
       "    <tr>\n",
       "      <th>2</th>\n",
       "      <td>@swonderlin Can not wait for #iPad 2 also. The...</td>\n",
       "      <td>iPad</td>\n",
       "      <td>2.0</td>\n",
       "      <td>@user Can not wait for #iPad 2 also. They shou...</td>\n",
       "      <td>2</td>\n",
       "      <td>@user Can not wait for #iPad 2 also. They shou...</td>\n",
       "    </tr>\n",
       "    <tr>\n",
       "      <th>3</th>\n",
       "      <td>@sxsw I hope this year's festival isn't as cra...</td>\n",
       "      <td>iPad or iPhone App</td>\n",
       "      <td>0.0</td>\n",
       "      <td>@user I hope this year's festival isn't as cra...</td>\n",
       "      <td>1</td>\n",
       "      <td>@user I hope this year's festival isn't as cra...</td>\n",
       "    </tr>\n",
       "    <tr>\n",
       "      <th>5</th>\n",
       "      <td>@teachntech00 New iPad Apps For #SpeechTherapy...</td>\n",
       "      <td>NaN</td>\n",
       "      <td>1.0</td>\n",
       "      <td>@user New iPad Apps For #SpeechTherapy And Com...</td>\n",
       "      <td>1</td>\n",
       "      <td>@user New iPad Apps For #SpeechTherapy And Com...</td>\n",
       "    </tr>\n",
       "  </tbody>\n",
       "</table>\n",
       "</div>"
      ],
      "text/plain": [
       "                                      original_tweet            directed  \\\n",
       "0  .@wesley83 I have a 3G iPhone. After 3 hrs twe...              iPhone   \n",
       "1  @jessedee Know about @fludapp ? Awesome iPad/i...  iPad or iPhone App   \n",
       "2  @swonderlin Can not wait for #iPad 2 also. The...                iPad   \n",
       "3  @sxsw I hope this year's festival isn't as cra...  iPad or iPhone App   \n",
       "5  @teachntech00 New iPad Apps For #SpeechTherapy...                 NaN   \n",
       "\n",
       "   original_score                           roberta_preprocess_tweet  \\\n",
       "0             0.0  @user I have a 3G iPhone. After 3 hrs tweeting...   \n",
       "1             2.0  @user Know about @user ? Awesome iPad/iPhone a...   \n",
       "2             2.0  @user Can not wait for #iPad 2 also. They shou...   \n",
       "3             0.0  @user I hope this year's festival isn't as cra...   \n",
       "5             1.0  @user New iPad Apps For #SpeechTherapy And Com...   \n",
       "\n",
       "   roberta_score                                   final_preprocess  \n",
       "0              0  @user I have a 3G iPhone. After 3 hr tweeting ...  \n",
       "1              2  @user Know about @user ? Awesome iPad/iPhone a...  \n",
       "2              2  @user Can not wait for #iPad 2 also. They shou...  \n",
       "3              1  @user I hope this year's festival isn't as cra...  \n",
       "5              1  @user New iPad Apps For #SpeechTherapy And Com...  "
      ]
     },
     "execution_count": 95,
     "metadata": {},
     "output_type": "execute_result"
    }
   ],
   "source": [
    "emo_dict = {'No emotion toward brand or product': 1, 'Positive emotion': 2, 'Negative emotion': 0}\n",
    "clean_roberta['original_score'] = clean_roberta['original_score'].map(emo_dict)\n",
    "\n",
    "clean_roberta.head()"
   ]
  },
  {
   "cell_type": "code",
   "execution_count": 98,
   "id": "372bacee",
   "metadata": {},
   "outputs": [
    {
     "data": {
      "text/plain": [
       "(8211, 6)"
      ]
     },
     "execution_count": 98,
     "metadata": {},
     "output_type": "execute_result"
    }
   ],
   "source": [
    "clean_roberta.shape"
   ]
  },
  {
   "cell_type": "code",
   "execution_count": 103,
   "id": "53806582",
   "metadata": {},
   "outputs": [
    {
     "name": "stdout",
     "output_type": "stream",
     "text": [
      "<class 'pandas.core.series.Series'>\n",
      "Int64Index: 8211 entries, 0 to 9092\n",
      "Series name: original_score\n",
      "Non-Null Count  Dtype  \n",
      "--------------  -----  \n",
      "8057 non-null   float64\n",
      "dtypes: float64(1)\n",
      "memory usage: 128.3 KB\n"
     ]
    }
   ],
   "source": [
    "clean_roberta['original_score'].info()"
   ]
  },
  {
   "cell_type": "code",
   "execution_count": 105,
   "id": "284fc623",
   "metadata": {},
   "outputs": [
    {
     "data": {
      "text/plain": [
       "True"
      ]
     },
     "execution_count": 105,
     "metadata": {},
     "output_type": "execute_result"
    }
   ],
   "source": [
    "clean_roberta['original_tweet'].str.contains('japan').any()"
   ]
  },
  {
   "cell_type": "code",
   "execution_count": 107,
   "id": "e0b770d9",
   "metadata": {},
   "outputs": [
    {
     "data": {
      "text/plain": [
       "22"
      ]
     },
     "execution_count": 107,
     "metadata": {},
     "output_type": "execute_result"
    }
   ],
   "source": [
    "clean_roberta['original_tweet'].str.contains('japan').sum()"
   ]
  },
  {
   "cell_type": "code",
   "execution_count": 108,
   "id": "217815f3",
   "metadata": {},
   "outputs": [
    {
     "data": {
      "text/plain": [
       "(8189, 6)"
      ]
     },
     "execution_count": 108,
     "metadata": {},
     "output_type": "execute_result"
    }
   ],
   "source": [
    "clean_roberta = clean_roberta.drop(clean_roberta[clean_roberta.apply(lambda row: row.astype(str).str.contains('japan').any(), axis=1)].index)\n",
    "clean_roberta.shape"
   ]
  },
  {
   "cell_type": "code",
   "execution_count": 109,
   "id": "bee83e71",
   "metadata": {},
   "outputs": [],
   "source": [
    "def model_roberta(df):\n",
    "    sentiment = []\n",
    "    \n",
    "    #encode and run through model in clean_tweets\n",
    "    for tweet in df['final_preprocess']:\n",
    "        encoded_input = tokenizer(str(tweet), return_tensors='pt')\n",
    "        output = model(**encoded_input)\n",
    "        scores = output[0][0].detach().numpy()\n",
    "        scores = softmax(scores)\n",
    "\n",
    "        score_list = []\n",
    "        score_list.append(scores[0])\n",
    "        score_list.append(scores[1])\n",
    "        score_list.append(scores[2])\n",
    "\n",
    "        def find_max_score_index(scores):\n",
    "            max_score = max(scores)\n",
    "            max_index = scores.index(max_score)\n",
    "            if max_index == 0:\n",
    "                return 0\n",
    "            elif max_index == 1:\n",
    "                return 1\n",
    "            elif max_index == 2:\n",
    "                return 2\n",
    "            else:\n",
    "                return 5\n",
    "            \n",
    "        sentiment.append(find_max_score_index(score_list))\n",
    "        \n",
    "    clean_roberta['final_roberta_score'] = sentiment\n",
    "\n",
    "    return df"
   ]
  },
  {
   "cell_type": "code",
   "execution_count": 110,
   "id": "d7872f20",
   "metadata": {},
   "outputs": [
    {
     "data": {
      "text/html": [
       "<div>\n",
       "<style scoped>\n",
       "    .dataframe tbody tr th:only-of-type {\n",
       "        vertical-align: middle;\n",
       "    }\n",
       "\n",
       "    .dataframe tbody tr th {\n",
       "        vertical-align: top;\n",
       "    }\n",
       "\n",
       "    .dataframe thead th {\n",
       "        text-align: right;\n",
       "    }\n",
       "</style>\n",
       "<table border=\"1\" class=\"dataframe\">\n",
       "  <thead>\n",
       "    <tr style=\"text-align: right;\">\n",
       "      <th></th>\n",
       "      <th>original_tweet</th>\n",
       "      <th>directed</th>\n",
       "      <th>original_score</th>\n",
       "      <th>roberta_preprocess_tweet</th>\n",
       "      <th>roberta_score</th>\n",
       "      <th>final_preprocess</th>\n",
       "      <th>final_roberta_score</th>\n",
       "    </tr>\n",
       "  </thead>\n",
       "  <tbody>\n",
       "    <tr>\n",
       "      <th>0</th>\n",
       "      <td>.@wesley83 I have a 3G iPhone. After 3 hrs twe...</td>\n",
       "      <td>iPhone</td>\n",
       "      <td>0.0</td>\n",
       "      <td>@user I have a 3G iPhone. After 3 hrs tweeting...</td>\n",
       "      <td>0</td>\n",
       "      <td>@user I have a 3G iPhone. After 3 hr tweeting ...</td>\n",
       "      <td>1</td>\n",
       "    </tr>\n",
       "    <tr>\n",
       "      <th>1</th>\n",
       "      <td>@jessedee Know about @fludapp ? Awesome iPad/i...</td>\n",
       "      <td>iPad or iPhone App</td>\n",
       "      <td>2.0</td>\n",
       "      <td>@user Know about @user ? Awesome iPad/iPhone a...</td>\n",
       "      <td>2</td>\n",
       "      <td>@user Know about @user ? Awesome iPad/iPhone a...</td>\n",
       "      <td>2</td>\n",
       "    </tr>\n",
       "    <tr>\n",
       "      <th>2</th>\n",
       "      <td>@swonderlin Can not wait for #iPad 2 also. The...</td>\n",
       "      <td>iPad</td>\n",
       "      <td>2.0</td>\n",
       "      <td>@user Can not wait for #iPad 2 also. They shou...</td>\n",
       "      <td>2</td>\n",
       "      <td>@user Can not wait for #iPad 2 also. They shou...</td>\n",
       "      <td>2</td>\n",
       "    </tr>\n",
       "    <tr>\n",
       "      <th>3</th>\n",
       "      <td>@sxsw I hope this year's festival isn't as cra...</td>\n",
       "      <td>iPad or iPhone App</td>\n",
       "      <td>0.0</td>\n",
       "      <td>@user I hope this year's festival isn't as cra...</td>\n",
       "      <td>1</td>\n",
       "      <td>@user I hope this year's festival isn't as cra...</td>\n",
       "      <td>1</td>\n",
       "    </tr>\n",
       "    <tr>\n",
       "      <th>5</th>\n",
       "      <td>@teachntech00 New iPad Apps For #SpeechTherapy...</td>\n",
       "      <td>NaN</td>\n",
       "      <td>1.0</td>\n",
       "      <td>@user New iPad Apps For #SpeechTherapy And Com...</td>\n",
       "      <td>1</td>\n",
       "      <td>@user New iPad Apps For #SpeechTherapy And Com...</td>\n",
       "      <td>1</td>\n",
       "    </tr>\n",
       "    <tr>\n",
       "      <th>...</th>\n",
       "      <td>...</td>\n",
       "      <td>...</td>\n",
       "      <td>...</td>\n",
       "      <td>...</td>\n",
       "      <td>...</td>\n",
       "      <td>...</td>\n",
       "      <td>...</td>\n",
       "    </tr>\n",
       "    <tr>\n",
       "      <th>9088</th>\n",
       "      <td>Ipad everywhere. #SXSW {link}</td>\n",
       "      <td>iPad</td>\n",
       "      <td>2.0</td>\n",
       "      <td>Ipad everywhere. #SXSW {link}</td>\n",
       "      <td>1</td>\n",
       "      <td>Ipad everywhere. #SXSW {link}</td>\n",
       "      <td>1</td>\n",
       "    </tr>\n",
       "    <tr>\n",
       "      <th>9089</th>\n",
       "      <td>Wave, buzz... RT @mention We interrupt your re...</td>\n",
       "      <td>NaN</td>\n",
       "      <td>1.0</td>\n",
       "      <td>Wave, buzz... RT @user We interrupt your regul...</td>\n",
       "      <td>1</td>\n",
       "      <td>Wave, buzz... RT @user We interrupt your regul...</td>\n",
       "      <td>2</td>\n",
       "    </tr>\n",
       "    <tr>\n",
       "      <th>9090</th>\n",
       "      <td>Google's Zeiger, a physician never reported po...</td>\n",
       "      <td>NaN</td>\n",
       "      <td>1.0</td>\n",
       "      <td>Google's Zeiger, a physician never reported po...</td>\n",
       "      <td>1</td>\n",
       "      <td>Google's Zeiger, a physician never report pote...</td>\n",
       "      <td>1</td>\n",
       "    </tr>\n",
       "    <tr>\n",
       "      <th>9091</th>\n",
       "      <td>Some Verizon iPhone customers complained their...</td>\n",
       "      <td>NaN</td>\n",
       "      <td>1.0</td>\n",
       "      <td>Some Verizon iPhone customers complained their...</td>\n",
       "      <td>0</td>\n",
       "      <td>Some Verizon iPhone customer complain their ti...</td>\n",
       "      <td>1</td>\n",
       "    </tr>\n",
       "    <tr>\n",
       "      <th>9092</th>\n",
       "      <td>ЊПЎЋПаЉь_‹ЃК‹ЃО‹ЃТ‹ЃЈ‹ЃБ‹вв‹Ѓ_‹ЃЈ‹ЃЏ‹в_‹ЫвRT @...</td>\n",
       "      <td>NaN</td>\n",
       "      <td>1.0</td>\n",
       "      <td>ЊПЎЋПаЉь_‹ЃК‹ЃО‹ЃТ‹ЃЈ‹ЃБ‹вв‹Ѓ_‹ЃЈ‹ЃЏ‹в_‹ЫвRT @...</td>\n",
       "      <td>1</td>\n",
       "      <td>ЊПЎЋПаЉь_‹ЃК‹ЃО‹ЃТ‹ЃЈ‹ЃБ‹вв‹Ѓ_‹ЃЈ‹ЃЏ‹в_‹ЫвRT @...</td>\n",
       "      <td>1</td>\n",
       "    </tr>\n",
       "  </tbody>\n",
       "</table>\n",
       "<p>8189 rows × 7 columns</p>\n",
       "</div>"
      ],
      "text/plain": [
       "                                         original_tweet            directed  \\\n",
       "0     .@wesley83 I have a 3G iPhone. After 3 hrs twe...              iPhone   \n",
       "1     @jessedee Know about @fludapp ? Awesome iPad/i...  iPad or iPhone App   \n",
       "2     @swonderlin Can not wait for #iPad 2 also. The...                iPad   \n",
       "3     @sxsw I hope this year's festival isn't as cra...  iPad or iPhone App   \n",
       "5     @teachntech00 New iPad Apps For #SpeechTherapy...                 NaN   \n",
       "...                                                 ...                 ...   \n",
       "9088                      Ipad everywhere. #SXSW {link}                iPad   \n",
       "9089  Wave, buzz... RT @mention We interrupt your re...                 NaN   \n",
       "9090  Google's Zeiger, a physician never reported po...                 NaN   \n",
       "9091  Some Verizon iPhone customers complained their...                 NaN   \n",
       "9092  ЊПЎЋПаЉь_‹ЃК‹ЃО‹ЃТ‹ЃЈ‹ЃБ‹вв‹Ѓ_‹ЃЈ‹ЃЏ‹в_‹ЫвRT @...                 NaN   \n",
       "\n",
       "      original_score                           roberta_preprocess_tweet  \\\n",
       "0                0.0  @user I have a 3G iPhone. After 3 hrs tweeting...   \n",
       "1                2.0  @user Know about @user ? Awesome iPad/iPhone a...   \n",
       "2                2.0  @user Can not wait for #iPad 2 also. They shou...   \n",
       "3                0.0  @user I hope this year's festival isn't as cra...   \n",
       "5                1.0  @user New iPad Apps For #SpeechTherapy And Com...   \n",
       "...              ...                                                ...   \n",
       "9088             2.0                      Ipad everywhere. #SXSW {link}   \n",
       "9089             1.0  Wave, buzz... RT @user We interrupt your regul...   \n",
       "9090             1.0  Google's Zeiger, a physician never reported po...   \n",
       "9091             1.0  Some Verizon iPhone customers complained their...   \n",
       "9092             1.0  ЊПЎЋПаЉь_‹ЃК‹ЃО‹ЃТ‹ЃЈ‹ЃБ‹вв‹Ѓ_‹ЃЈ‹ЃЏ‹в_‹ЫвRT @...   \n",
       "\n",
       "      roberta_score                                   final_preprocess  \\\n",
       "0                 0  @user I have a 3G iPhone. After 3 hr tweeting ...   \n",
       "1                 2  @user Know about @user ? Awesome iPad/iPhone a...   \n",
       "2                 2  @user Can not wait for #iPad 2 also. They shou...   \n",
       "3                 1  @user I hope this year's festival isn't as cra...   \n",
       "5                 1  @user New iPad Apps For #SpeechTherapy And Com...   \n",
       "...             ...                                                ...   \n",
       "9088              1                      Ipad everywhere. #SXSW {link}   \n",
       "9089              1  Wave, buzz... RT @user We interrupt your regul...   \n",
       "9090              1  Google's Zeiger, a physician never report pote...   \n",
       "9091              0  Some Verizon iPhone customer complain their ti...   \n",
       "9092              1  ЊПЎЋПаЉь_‹ЃК‹ЃО‹ЃТ‹ЃЈ‹ЃБ‹вв‹Ѓ_‹ЃЈ‹ЃЏ‹в_‹ЫвRT @...   \n",
       "\n",
       "      final_roberta_score  \n",
       "0                       1  \n",
       "1                       2  \n",
       "2                       2  \n",
       "3                       1  \n",
       "5                       1  \n",
       "...                   ...  \n",
       "9088                    1  \n",
       "9089                    2  \n",
       "9090                    1  \n",
       "9091                    1  \n",
       "9092                    1  \n",
       "\n",
       "[8189 rows x 7 columns]"
      ]
     },
     "execution_count": 110,
     "metadata": {},
     "output_type": "execute_result"
    }
   ],
   "source": [
    "model_roberta(clean_roberta)"
   ]
  },
  {
   "cell_type": "code",
   "execution_count": 111,
   "id": "d2b717d5",
   "metadata": {},
   "outputs": [],
   "source": [
    "#clean_roberta.to_csv('data/roberta.csv')"
   ]
  },
  {
   "cell_type": "code",
   "execution_count": 114,
   "id": "022b995f",
   "metadata": {},
   "outputs": [
    {
     "data": {
      "text/plain": [
       "1.0    5348\n",
       "2.0    2248\n",
       "0.0     439\n",
       "Name: original_score, dtype: int64"
      ]
     },
     "execution_count": 114,
     "metadata": {},
     "output_type": "execute_result"
    }
   ],
   "source": [
    "clean_roberta['original_score'].value_counts()"
   ]
  },
  {
   "cell_type": "code",
   "execution_count": 115,
   "id": "62e48922",
   "metadata": {},
   "outputs": [
    {
     "data": {
      "text/plain": [
       "2    4358\n",
       "1    3233\n",
       "0     598\n",
       "Name: roberta_score, dtype: int64"
      ]
     },
     "execution_count": 115,
     "metadata": {},
     "output_type": "execute_result"
    }
   ],
   "source": [
    "clean_roberta['roberta_score'].value_counts()"
   ]
  },
  {
   "cell_type": "code",
   "execution_count": 116,
   "id": "ac340986",
   "metadata": {},
   "outputs": [
    {
     "data": {
      "text/plain": [
       "2    4199\n",
       "1    3483\n",
       "0     507\n",
       "Name: final_roberta_score, dtype: int64"
      ]
     },
     "execution_count": 116,
     "metadata": {},
     "output_type": "execute_result"
    }
   ],
   "source": [
    "clean_roberta['final_roberta_score'].value_counts()"
   ]
  },
  {
   "cell_type": "code",
   "execution_count": null,
   "id": "016637e2",
   "metadata": {},
   "outputs": [],
   "source": []
  }
 ],
 "metadata": {
  "kernelspec": {
   "display_name": "Python 3 (ipykernel)",
   "language": "python",
   "name": "python3"
  },
  "language_info": {
   "codemirror_mode": {
    "name": "ipython",
    "version": 3
   },
   "file_extension": ".py",
   "mimetype": "text/x-python",
   "name": "python",
   "nbconvert_exporter": "python",
   "pygments_lexer": "ipython3",
   "version": "3.9.13"
  }
 },
 "nbformat": 4,
 "nbformat_minor": 5
}
